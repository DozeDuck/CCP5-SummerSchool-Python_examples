{
 "cells": [
  {
   "cell_type": "markdown",
   "source": [
    "# Installing on your own computer\r\n",
    "\r\n",
    "These notes are in a program called jupyter, which is a way of blending python with text into a \"notebook\". While this is an excellent way to explore python, you will often want to run your own python programs without a GUI (say on a High Performance Computer) or make a python \"program\". To that end I recommend that you get a local install of python on your own laptop so you can experiment with programming offline.\r\n",
    "\r\n",
    "## VSCode\r\n",
    "\r\n",
    "An excellent environment is VSCode, primarily because it has a debug mode for python, where you can go step-by-step through python code and see what the computer is doing. You can [get VScode here](https://code.visualstudio.com/).\r\n",
    "\r\n",
    "They have a [walkthrough here](https://code.visualstudio.com/docs/python/python-tutorial) for getting you setup.\r\n",
    "\r\n",
    "You will need to install the [python extension pack](https://marketplace.visualstudio.com/items?itemName=donjayamanne.python-extension-pack) and the [Jupyter extension](https://marketplace.visualstudio.com/items?itemName=ms-toolsai.jupyter) if you want to edit these notes.\r\n",
    "\r\n",
    "You'll need to install the requirements for the code here using pip, including `matplotlib scipy numpy sympy pandas pandas-datareader`\r\n",
    "\r\n",
    "## Windows/Mac\r\n",
    "\r\n",
    "There are a few ways to install python, but the best is to use an all-in-one setup that can also manage different python tools and packages. I recommend [anaconda](https://www.anaconda.com/download), just click the link and follow its install instructions. Make sure to select the Python 3 version as python 2.7 is quite old now. Juypyter notebook comes as standard with the anaconda program as well as several excellent editors. You can install pretty much any package you need via pip and the anaconda console.\r\n",
    "\r\n",
    "## Linux (Ubuntu)\r\n",
    "\r\n",
    "If you're using linux already, I'm going to assume you already have a favourite text editor you want to use for python development, then you only need python packages. You can install anaconda too on linux but its \"nicer\" to install python via your system package manager. On Ubuntu, a suitable command to get all the dependencies for this set of notes would be the following:\r\n",
    "```\r\n",
    "sudo apt install python3 python3-matplotlib python3-scipy python3-numpy python3-sympy jupyter-notebook python3-pandas pip3\r\n",
    "pip3 install pandas-datareader\r\n",
    "```\r\n",
    "If you need help getting started, just ask!"
   ],
   "metadata": {}
  },
  {
   "cell_type": "markdown",
   "source": [],
   "metadata": {}
  }
 ],
 "metadata": {
  "kernelspec": {
   "display_name": "Python 3",
   "language": "python",
   "name": "python3"
  },
  "language_info": {
   "codemirror_mode": {
    "name": "ipython",
    "version": 3
   },
   "file_extension": ".py",
   "mimetype": "text/x-python",
   "name": "python",
   "nbconvert_exporter": "python",
   "pygments_lexer": "ipython3",
   "version": "3.5.3"
  }
 },
 "nbformat": 4,
 "nbformat_minor": 2
}