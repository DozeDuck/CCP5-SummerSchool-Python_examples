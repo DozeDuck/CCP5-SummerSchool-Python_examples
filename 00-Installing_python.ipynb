{
 "cells": [
  {
   "cell_type": "markdown",
   "metadata": {},
   "source": [
    "# Installing on your own computer\n",
    "\n",
    "These notes are in a program called jupyter, which is a way of blending python with text into a \"notebook\". While this is an excellent way to explore python, you will often want to run your own python programs without a GUI (say on a High Performance Computer). I recommend that you get a local install of python on your own laptop so you can experiment with programming offline.\n",
    "\n",
    "## Windows/Mac\n",
    "\n",
    "There are a few ways to install python, but the best is to use an all-in-one setup that can also manage different python tools and packages. I recommend [anaconda](https://www.anaconda.com/download), just click the link and follow its install instructions. Make sure to select the Python 3 version as python 2.7 is quite old now. You can also install Juypyter notebook via the anaconda program as well as several excellent editors.\n",
    "\n",
    "## Linux\n",
    "\n",
    "If you're using linux already, I'm going to assume you already have a favourite text editor. You can install anaconda too on linux, but its \"nicer\" to install python via your system package manager. On Ubuntu, a suitable command to get all the dependencies for this set of notes would be the following:\n",
    "```\n",
    "sudo apt install python3 python3-matplotlib python3-scipy python3-numpy python3-sympy jupyter-notebook python3-pandas pip3\n",
    "pip3 install pandas-datareader\n",
    "```\n",
    "\n",
    "If you need help getting started, just ask!"
   ]
  }
 ],
 "metadata": {
  "kernelspec": {
   "display_name": "Python 3",
   "language": "python",
   "name": "python3"
  },
  "language_info": {
   "codemirror_mode": {
    "name": "ipython",
    "version": 3
   },
   "file_extension": ".py",
   "mimetype": "text/x-python",
   "name": "python",
   "nbconvert_exporter": "python",
   "pygments_lexer": "ipython3",
   "version": "3.6.8"
  }
 },
 "nbformat": 4,
 "nbformat_minor": 2
}
