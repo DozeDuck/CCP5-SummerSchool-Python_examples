{
 "cells": [
  {
   "cell_type": "markdown",
   "metadata": {},
   "source": [
    "# About these notes\n",
    "\n",
    "You should setup python on your own computer, so you can run your programs and access your data.\n",
    "\n",
    "For the course, you can just run everything on Google's colab servers, but any changes you make will be lost unless you \"Save a copy in Google Drive\".\n",
    "\n",
    "These notes are in a program called <b>jupyter</b>, which is a way of blending python with text into a \"notebook\". While this is an excellent way to explore python, you will often want to run your own python programs without a GUI (say on a High Performance Computer) or make a python \"program\". To that end I recommend that you get a local install of python on your own laptop so you can experiment with programming offline.\n",
    "\n",
    "## VSCode on Windows/Linux\n",
    "\n",
    "An excellent environment is VSCode, primarily because it has a debug mode for python, where you can go step-by-step through python code and see what the computer is doing. You can [get VScode here](https://code.visualstudio.com/).\n",
    "\n",
    "They have a [walkthrough here](https://code.visualstudio.com/docs/python/python-tutorial) for getting you setup.\n",
    "\n",
    "You will need to install the [python extension pack](https://marketplace.visualstudio.com/items?itemName=donjayamanne.python-extension-pack) and the [Jupyter extension](https://marketplace.visualstudio.com/items?itemName=ms-toolsai.jupyter) if you want to edit/run these notes easily.\n",
    "\n",
    "You'll need to install the requirements for the code here using pip, including `matplotlib scipy numpy sympy pandas pandas-datareader`. "
   ]
  },
  {
   "cell_type": "code",
   "execution_count": 3,
   "metadata": {},
   "outputs": [],
   "source": [
    "# Run the command below in the python terminal (without the leading #)\n",
    "#pip install matplotlib scipy numpy sympy pandas pandas-datareader"
   ]
  },
  {
   "cell_type": "markdown",
   "metadata": {},
   "source": [
    "Using a bit of magic, we can actually install things while inside jupyter using the cell below."
   ]
  },
  {
   "cell_type": "code",
   "execution_count": null,
   "metadata": {},
   "outputs": [],
   "source": [
    "import sys\n",
    "!{sys.executable} -m pip install matplotlib scipy numpy sympy pandas pandas-datareader"
   ]
  },
  {
   "cell_type": "markdown",
   "metadata": {},
   "source": [
    "Lines starting with ! are executed outside python, so we use this to execute python itself, calling the pip module (-m) and asking it to install the libraries needed."
   ]
  },
  {
   "cell_type": "markdown",
   "metadata": {},
   "source": [
    "\n",
    "## Anaconda on Windows\n",
    "\n",
    "An alternative way to install python and its editors is [anaconda](https://www.anaconda.com/download), just click the link and follow its install instructions. Make sure to select the Python 3 version as python 2.7 is quite old now. Juypyter notebook comes as standard with the anaconda program as well as several excellent editors. You can install pretty much any package you need via pip and the anaconda console.\n",
    "\n",
    "## Linux (Ubuntu)\n",
    "\n",
    "If you're using linux already, I'm going to assume you already have a favourite text editor you want to use for python development, then you only need python packages. You can install anaconda too on linux but its \"nicer\" to install python via your system package manager. On Ubuntu, a suitable command to get all the dependencies for this set of notes would be the following:\n",
    "\n",
    "```\n",
    "sudo apt install python3 python3-matplotlib python3-scipy python3-numpy python3-sympy jupyter-notebook python3-pandas pip3\n",
    "pip3 install pandas-datareader\n",
    "```\n",
    "\n",
    "If you need help getting started, just ask!"
   ]
  }
 ],
 "metadata": {
  "kernelspec": {
   "display_name": "Python 3 (ipykernel)",
   "language": "python",
   "name": "python3"
  },
  "language_info": {
   "codemirror_mode": {
    "name": "ipython",
    "version": 3
   },
   "file_extension": ".py",
   "mimetype": "text/x-python",
   "name": "python",
   "nbconvert_exporter": "python",
   "pygments_lexer": "ipython3",
   "version": "3.10.6"
  }
 },
 "nbformat": 4,
 "nbformat_minor": 2
}
