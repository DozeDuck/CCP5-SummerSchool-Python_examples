{
 "cells": [
  {
   "cell_type": "markdown",
   "metadata": {},
   "source": [
    "# Installing on your own computer\n",
    "\n",
    "## Windows/Mac\n",
    "\n",
    "Download [anaconda](https://www.anaconda.com/download/#linux) and follow its install instructions. Make sure to select the Python 3 version. You can install this software (Juypyter notebook) via the anaconda program.\n",
    "\n",
    "## Linux\n",
    "\n",
    "You can install anaconda too, but its probably best to just install via your system package manager. On Ubuntu, a suitable command would be:\n",
    "```\n",
    "sudo apt install python3 python3-matplotlib python3-scipy python3-numpy python3-sympy jupyter-notebook\n",
    "```"
   ]
  }
 ],
 "metadata": {
  "kernelspec": {
   "display_name": "Python 3",
   "language": "python",
   "name": "python3"
  },
  "language_info": {
   "codemirror_mode": {
    "name": "ipython",
    "version": 3
   },
   "file_extension": ".py",
   "mimetype": "text/x-python",
   "name": "python",
   "nbconvert_exporter": "python",
   "pygments_lexer": "ipython3",
   "version": "3.5.3"
  }
 },
 "nbformat": 4,
 "nbformat_minor": 2
}
