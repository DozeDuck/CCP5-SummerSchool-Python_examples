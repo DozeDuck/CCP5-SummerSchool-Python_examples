{
 "cells": [
  {
   "cell_type": "markdown",
   "metadata": {},
   "source": [
    "# Part 04 - Errors (Fantastic exceptions and where to find them) and File I/O\n",
    "\n",
    "*Many of the examples in this notebook have deliberate errors. When Jupyter encounters an error in a cell, it stops running all further cells, so you will have to rerun each cell yourself. A shortcut is to select the cell and press shift-enter.* \n",
    "\n",
    "# Exceptions/Errors\n",
    "\n",
    "As you're new programmers, you will spend most of your time handling errors. Sometimes, you even want to make errors of your own. Fortunately, you can teach python to handle errors or make them for you. Let's deliberately try something stupid and see what happens,"
   ]
  },
  {
   "cell_type": "code",
   "execution_count": 9,
   "metadata": {
    "collapsed": false
   },
   "outputs": [
    {
     "ename": "ValueError",
     "evalue": "math domain error",
     "output_type": "error",
     "traceback": [
      "\u001b[0;31m---------------------------------------------------------------------------\u001b[0m",
      "\u001b[0;31mValueError\u001b[0m                                Traceback (most recent call last)",
      "\u001b[0;32m<ipython-input-9-e1602d0b90c7>\u001b[0m in \u001b[0;36m<module>\u001b[0;34m()\u001b[0m\n\u001b[1;32m      1\u001b[0m \u001b[0;32mimport\u001b[0m \u001b[0mmath\u001b[0m\u001b[0;34m\u001b[0m\u001b[0m\n\u001b[1;32m      2\u001b[0m \u001b[0;31m#logarithms of negative numbers are not valid\u001b[0m\u001b[0;34m\u001b[0m\u001b[0;34m\u001b[0m\u001b[0m\n\u001b[0;32m----> 3\u001b[0;31m \u001b[0mmath\u001b[0m\u001b[0;34m.\u001b[0m\u001b[0mlog\u001b[0m\u001b[0;34m(\u001b[0m\u001b[0;34m-\u001b[0m\u001b[0;36m1\u001b[0m\u001b[0;34m)\u001b[0m\u001b[0;34m\u001b[0m\u001b[0m\n\u001b[0m",
      "\u001b[0;31mValueError\u001b[0m: math domain error"
     ]
    }
   ],
   "source": [
    "import math\n",
    "#logarithms of negative numbers are not valid\n",
    "math.log(-1) "
   ]
  },
  {
   "cell_type": "markdown",
   "metadata": {},
   "source": [
    "Here we see something called `ValueError`, which has a `math domain error` message associated with it. Where did this come from?\n",
    "\n",
    "When bad values are passed to a function, the designer of the function can't get it to return a value as that might be misinterpreted as a normal answer by accident. Instead, we design the functions to raise an exception. Exceptions are not return values but instead bubble up the stack until they are caught or they come out of the main scope where they cause python to exit.\n",
    "\n",
    "The stack is all the functions that python has had to enter to get to the current line of execution, its how python tracks where return values should actually be sent. Going up the stack, python looks for anything that might catch the exception. Lets see how an exception can be caught, "
   ]
  },
  {
   "cell_type": "code",
   "execution_count": 2,
   "metadata": {
    "collapsed": false
   },
   "outputs": [
    {
     "name": "stdout",
     "output_type": "stream",
     "text": [
      "math domain error\n",
      "<class 'ValueError'>\n",
      "ValueError('math domain error',)\n"
     ]
    }
   ],
   "source": [
    "import math\n",
    "try:\n",
    "    math.log(-1)\n",
    "except Exception as e:\n",
    "    print(e)\n",
    "    print(type(e))\n",
    "    print(repr(e))"
   ]
  },
  {
   "cell_type": "markdown",
   "metadata": {},
   "source": [
    "If any commands within a `try` block raise an exception, and the exception rises up to the `try` block then it will be caught and the code in the `except:` block is run. Above, we just print the exception, the type of the exception, and we use the `repr` command which returns the a python command which will generate the object passed as an argument.\n",
    "\n",
    "The `try...catch` block above catches all exceptions (as all exceptions must be built/inherited from the `Exception` class). Generally its \"bad practice\" to catch all exceptions this way, as maybe we will catch the wrong type of error by mistake which we don't know how to handle. We can actually catch specfic exceptions and deal with them in a special way,"
   ]
  },
  {
   "cell_type": "code",
   "execution_count": 3,
   "metadata": {
    "collapsed": false
   },
   "outputs": [
    {
     "name": "stdout",
     "output_type": "stream",
     "text": [
      "Bad value used\n"
     ]
    }
   ],
   "source": [
    "try:\n",
    "    math.log(-1)\n",
    "except ValueError as e:\n",
    "    print(\"Bad value used\")"
   ]
  },
  {
   "cell_type": "markdown",
   "metadata": {},
   "source": [
    "How do we raise exceptions ourselves? We just write raise, then use an exception type:"
   ]
  },
  {
   "cell_type": "code",
   "execution_count": 5,
   "metadata": {
    "collapsed": false
   },
   "outputs": [
    {
     "ename": "RuntimeError",
     "evalue": "My own exception",
     "output_type": "error",
     "traceback": [
      "\u001b[0;31m---------------------------------------------------------------------------\u001b[0m",
      "\u001b[0;31mRuntimeError\u001b[0m                              Traceback (most recent call last)",
      "\u001b[0;32m<ipython-input-5-747742d45477>\u001b[0m in \u001b[0;36m<module>\u001b[0;34m()\u001b[0m\n\u001b[1;32m      5\u001b[0m     \u001b[0mf\u001b[0m\u001b[0;34m(\u001b[0m\u001b[0;34m)\u001b[0m\u001b[0;34m\u001b[0m\u001b[0m\n\u001b[1;32m      6\u001b[0m \u001b[0;34m\u001b[0m\u001b[0m\n\u001b[0;32m----> 7\u001b[0;31m \u001b[0mg\u001b[0m\u001b[0;34m(\u001b[0m\u001b[0;34m)\u001b[0m\u001b[0;34m\u001b[0m\u001b[0m\n\u001b[0m",
      "\u001b[0;32m<ipython-input-5-747742d45477>\u001b[0m in \u001b[0;36mg\u001b[0;34m()\u001b[0m\n\u001b[1;32m      3\u001b[0m \u001b[0;34m\u001b[0m\u001b[0m\n\u001b[1;32m      4\u001b[0m \u001b[0;32mdef\u001b[0m \u001b[0mg\u001b[0m\u001b[0;34m(\u001b[0m\u001b[0;34m)\u001b[0m\u001b[0;34m:\u001b[0m\u001b[0;34m\u001b[0m\u001b[0m\n\u001b[0;32m----> 5\u001b[0;31m     \u001b[0mf\u001b[0m\u001b[0;34m(\u001b[0m\u001b[0;34m)\u001b[0m\u001b[0;34m\u001b[0m\u001b[0m\n\u001b[0m\u001b[1;32m      6\u001b[0m \u001b[0;34m\u001b[0m\u001b[0m\n\u001b[1;32m      7\u001b[0m \u001b[0mg\u001b[0m\u001b[0;34m(\u001b[0m\u001b[0;34m)\u001b[0m\u001b[0;34m\u001b[0m\u001b[0m\n",
      "\u001b[0;32m<ipython-input-5-747742d45477>\u001b[0m in \u001b[0;36mf\u001b[0;34m()\u001b[0m\n\u001b[1;32m      1\u001b[0m \u001b[0;32mdef\u001b[0m \u001b[0mf\u001b[0m\u001b[0;34m(\u001b[0m\u001b[0;34m)\u001b[0m\u001b[0;34m:\u001b[0m\u001b[0;34m\u001b[0m\u001b[0m\n\u001b[0;32m----> 2\u001b[0;31m     \u001b[0;32mraise\u001b[0m \u001b[0mRuntimeError\u001b[0m\u001b[0;34m(\u001b[0m\u001b[0;34m\"My own exception\"\u001b[0m\u001b[0;34m)\u001b[0m\u001b[0;34m\u001b[0m\u001b[0m\n\u001b[0m\u001b[1;32m      3\u001b[0m \u001b[0;34m\u001b[0m\u001b[0m\n\u001b[1;32m      4\u001b[0m \u001b[0;32mdef\u001b[0m \u001b[0mg\u001b[0m\u001b[0;34m(\u001b[0m\u001b[0;34m)\u001b[0m\u001b[0;34m:\u001b[0m\u001b[0;34m\u001b[0m\u001b[0m\n\u001b[1;32m      5\u001b[0m     \u001b[0mf\u001b[0m\u001b[0;34m(\u001b[0m\u001b[0;34m)\u001b[0m\u001b[0;34m\u001b[0m\u001b[0m\n",
      "\u001b[0;31mRuntimeError\u001b[0m: My own exception"
     ]
    }
   ],
   "source": [
    "def f():\n",
    "    raise RuntimeError(\"My own exception\")\n",
    "    \n",
    "def g():\n",
    "    f()\n",
    "\n",
    "g()"
   ]
  },
  {
   "cell_type": "markdown",
   "metadata": {},
   "source": [
    "A `RuntimeError` is a generic exception that takes an error message. Most of the time you should use a more specific one like `ValueError` (or make your own, but we need classes for that).\n",
    "\n",
    "Lets look how you might use it to improve our prime number function,"
   ]
  },
  {
   "cell_type": "code",
   "execution_count": 7,
   "metadata": {
    "collapsed": false
   },
   "outputs": [
    {
     "name": "stdout",
     "output_type": "stream",
     "text": [
      "2147483647 True\n",
      "3.0 True\n"
     ]
    },
    {
     "ename": "ValueError",
     "evalue": "isPrime can only accept integer arguments",
     "output_type": "error",
     "traceback": [
      "\u001b[0;31m---------------------------------------------------------------------------\u001b[0m",
      "\u001b[0;31mValueError\u001b[0m                                Traceback (most recent call last)",
      "\u001b[0;32m<ipython-input-7-175afbc295ed>\u001b[0m in \u001b[0;36m<module>\u001b[0;34m()\u001b[0m\n\u001b[1;32m     21\u001b[0m \u001b[0;31m#Errors which raise exceptions! Comment out the first line to see the second error\u001b[0m\u001b[0;34m\u001b[0m\u001b[0;34m\u001b[0m\u001b[0m\n\u001b[1;32m     22\u001b[0m \u001b[0;31m#isPrime(2.2)\u001b[0m\u001b[0;34m\u001b[0m\u001b[0;34m\u001b[0m\u001b[0m\n\u001b[0;32m---> 23\u001b[0;31m \u001b[0misPrime\u001b[0m\u001b[0;34m(\u001b[0m\u001b[0;34m\"Not an integer\"\u001b[0m\u001b[0;34m)\u001b[0m\u001b[0;34m\u001b[0m\u001b[0m\n\u001b[0m",
      "\u001b[0;32m<ipython-input-7-175afbc295ed>\u001b[0m in \u001b[0;36misPrime\u001b[0;34m(n)\u001b[0m\n\u001b[1;32m      9\u001b[0m \u001b[0;34m\u001b[0m\u001b[0m\n\u001b[1;32m     10\u001b[0m     \u001b[0;32mif\u001b[0m \u001b[0;32mnot\u001b[0m \u001b[0misinstance\u001b[0m\u001b[0;34m(\u001b[0m\u001b[0mn\u001b[0m\u001b[0;34m,\u001b[0m \u001b[0mint\u001b[0m\u001b[0;34m)\u001b[0m\u001b[0;34m:\u001b[0m\u001b[0;34m\u001b[0m\u001b[0m\n\u001b[0;32m---> 11\u001b[0;31m         \u001b[0;32mraise\u001b[0m \u001b[0mValueError\u001b[0m\u001b[0;34m(\u001b[0m\u001b[0;34m\"isPrime can only accept integer arguments\"\u001b[0m\u001b[0;34m)\u001b[0m\u001b[0;34m\u001b[0m\u001b[0m\n\u001b[0m\u001b[1;32m     12\u001b[0m \u001b[0;34m\u001b[0m\u001b[0m\n\u001b[1;32m     13\u001b[0m     \u001b[0;32mfor\u001b[0m \u001b[0mdiv\u001b[0m \u001b[0;32min\u001b[0m \u001b[0mrange\u001b[0m\u001b[0;34m(\u001b[0m\u001b[0;36m2\u001b[0m\u001b[0;34m,\u001b[0m\u001b[0mint\u001b[0m\u001b[0;34m(\u001b[0m\u001b[0mmath\u001b[0m\u001b[0;34m.\u001b[0m\u001b[0msqrt\u001b[0m\u001b[0;34m(\u001b[0m\u001b[0mn\u001b[0m\u001b[0;34m)\u001b[0m\u001b[0;34m)\u001b[0m\u001b[0;34m)\u001b[0m\u001b[0;34m:\u001b[0m\u001b[0;34m\u001b[0m\u001b[0m\n",
      "\u001b[0;31mValueError\u001b[0m: isPrime can only accept integer arguments"
     ]
    }
   ],
   "source": [
    "import math\n",
    "def isPrime(n):\n",
    "    # Perform sanity checks on the input, if its a float, try to convert it into an int\n",
    "    if isinstance(n, float):\n",
    "        if n.is_integer():\n",
    "            n = int(n)\n",
    "        else:\n",
    "            raise ValueError(\"isPrime cannot accept fractional floating values\")\n",
    "    \n",
    "    if not isinstance(n, int):\n",
    "        raise ValueError(\"isPrime can only accept integer arguments\")\n",
    "        \n",
    "    for div in range(2,int(math.sqrt(n))):\n",
    "        if n % div == 0:\n",
    "            return False\n",
    "    return True\n",
    "\n",
    "print(2**31-1, isPrime(2**31-1))\n",
    "print(3.0, isPrime(3.0))\n",
    "\n",
    "#Errors which raise exceptions! Comment out the first line to see the second error\n",
    "#isPrime(2.2)\n",
    "isPrime(\"Not an integer\")"
   ]
  },
  {
   "cell_type": "markdown",
   "metadata": {},
   "source": [
    "We now get nice error messages when we abuse our `isPrime` function.\n",
    "\n",
    "## File I/O\n",
    "\n",
    "Now we know about exceptions, we can actually take a look at file Input/Output.\n",
    "\n",
    "Opening a file is very easy, and once its open we can even write to it:"
   ]
  },
  {
   "cell_type": "code",
   "execution_count": 2,
   "metadata": {
    "collapsed": true
   },
   "outputs": [],
   "source": [
    "# Open a file called myfile.txt for (w)riting\n",
    "with open('myfile.txt', 'w') as output:\n",
    "    print(\"The first line in the file\", file=output)\n",
    "    print(\"The second line in the file\", file=output)"
   ]
  },
  {
   "cell_type": "code",
   "execution_count": 11,
   "metadata": {
    "collapsed": true
   },
   "outputs": [],
   "source": [
    "output = open('myfile.txt', 'w')\n",
    "print(\"The first line in the file\", file=output)\n",
    "print(\"The second line in the file\", file=output)"
   ]
  },
  {
   "cell_type": "markdown",
   "metadata": {},
   "source": [
    "The `with` block is a way of making sure that the next bit of code ONLY happens if the file can be opened. Also, it guarantees that if anything goes wrong inside the `with` block (and an exception is raised), the file will be closed before the exception makes it past the `with` (although the file will be closed anyway if python exits during garbage collection). \n",
    "\n",
    "We could just write `output = open('myfile.txt')` and it would work, but this is better at handling errors.\n",
    "\n",
    "If you want to see the file that you've written out by running the above code, then go to the home page of the notes/jupyter notebook and take a look.\n",
    "\n",
    "Now we have a file written out, how do we read it?"
   ]
  },
  {
   "cell_type": "code",
   "execution_count": 8,
   "metadata": {
    "collapsed": false
   },
   "outputs": [
    {
     "name": "stdout",
     "output_type": "stream",
     "text": [
      "The first line in the file\n",
      "\n",
      "The second line in the file\n",
      "\n",
      "EOF!\n"
     ]
    }
   ],
   "source": [
    "# Now its open for (r)eading\n",
    "lines = open('myfile.txt', 'r')\n",
    "try:\n",
    "    while True:\n",
    "        print(next(lines))\n",
    "except StopIteration:\n",
    "    print('EOF!')"
   ]
  },
  {
   "cell_type": "code",
   "execution_count": 12,
   "metadata": {
    "collapsed": false
   },
   "outputs": [
    {
     "name": "stdout",
     "output_type": "stream",
     "text": [
      "The first line in the file\n",
      "\n",
      "The second line in the file\n",
      "\n",
      "EOF!\n"
     ]
    }
   ],
   "source": [
    "# Now its open for (r)eading\n",
    "with open('myfile.txt', 'r') as lines:\n",
    "    try:\n",
    "        while True:\n",
    "            print(next(lines))\n",
    "    except StopIteration:\n",
    "        print('EOF!')"
   ]
  },
  {
   "cell_type": "markdown",
   "metadata": {},
   "source": [
    "The `while` statement repeats the block as long as the expression to its right is `True`. Here, the expression is `True` so the block is repeated indefinitely. The only way that block can end is if an exception is raised. Fortunately, when the file runs out of lines, the `next()` function will throw a `StopIteration` exception, which we catch to say End Of File (EOF)! This is a case where we MUST use exceptions as part of our normal program execution (its not an error to get a `StopIteration`).\n",
    "\n",
    "If you notice the results from the above code, we have extra lines appearing, where do these come from? Lets take another look but this time using `repr`"
   ]
  },
  {
   "cell_type": "code",
   "execution_count": 16,
   "metadata": {
    "collapsed": false
   },
   "outputs": [
    {
     "name": "stdout",
     "output_type": "stream",
     "text": [
      "'The first line in the file\\n'\n",
      "'The second line in the file\\n'\n",
      "EOF!\n"
     ]
    }
   ],
   "source": [
    "with open('myfile.txt', 'r') as lines:\n",
    "    try:\n",
    "        while True:\n",
    "            print(repr(next(lines)))\n",
    "    except StopIteration:\n",
    "        print('EOF!')"
   ]
  },
  {
   "cell_type": "markdown",
   "metadata": {},
   "source": [
    "Here we can see that each line is being read from the file including its terminating newline character. When we print this, both the terminating newline `\\n` and one automatically added by `print` is being output resulting in a double line break. We can fix this by telling print not to end the line that way:"
   ]
  },
  {
   "cell_type": "code",
   "execution_count": 17,
   "metadata": {
    "collapsed": false
   },
   "outputs": [
    {
     "name": "stdout",
     "output_type": "stream",
     "text": [
      "The first line in the file\n",
      "The second line in the file\n",
      "EOF!\n"
     ]
    }
   ],
   "source": [
    "with open('myfile.txt', 'r') as lines:\n",
    "    try:\n",
    "        while True:\n",
    "            print(next(lines), end='')\n",
    "    except StopIteration:\n",
    "        print('EOF!')"
   ]
  },
  {
   "cell_type": "markdown",
   "metadata": {},
   "source": [
    "## Better file IO with pickle\n",
    "\n",
    "Often you don't want to save text, you want to save the array or list you've been working on. Python has a cool library for that called pickle. "
   ]
  },
  {
   "cell_type": "code",
   "execution_count": 18,
   "metadata": {
    "collapsed": true
   },
   "outputs": [],
   "source": [
    "import pickle\n",
    "favorite_color = { \"lion\": \"yellow\", \"kitty\": \"red\" }\n",
    "pickle.dump( favorite_color, open(\"save.p\", \"wb\"))"
   ]
  },
  {
   "cell_type": "markdown",
   "metadata": {},
   "source": [
    "We've been fast and loose here, not using a `with`, but sometimes we like to program dangerously. You might notice the `'b'` added to the `open` command, this opens the file in binary mode, which is very space efficient but not readable by humans.\n",
    "\n",
    "Now, if we want to reload this, we just do the following:"
   ]
  },
  {
   "cell_type": "code",
   "execution_count": 19,
   "metadata": {
    "collapsed": false
   },
   "outputs": [
    {
     "name": "stdout",
     "output_type": "stream",
     "text": [
      "{'kitty': 'red', 'lion': 'yellow'}\n"
     ]
    }
   ],
   "source": [
    "favorite_color_loaded = pickle.load( open( \"save.p\", \"rb\" ) )\n",
    "print(favorite_color_loaded)"
   ]
  }
 ],
 "metadata": {
  "kernelspec": {
   "display_name": "Python 3",
   "language": "python",
   "name": "python3"
  },
  "language_info": {
   "codemirror_mode": {
    "name": "ipython",
    "version": 3
   },
   "file_extension": ".py",
   "mimetype": "text/x-python",
   "name": "python",
   "nbconvert_exporter": "python",
   "pygments_lexer": "ipython3",
   "version": "3.5.3"
  }
 },
 "nbformat": 4,
 "nbformat_minor": 2
}
