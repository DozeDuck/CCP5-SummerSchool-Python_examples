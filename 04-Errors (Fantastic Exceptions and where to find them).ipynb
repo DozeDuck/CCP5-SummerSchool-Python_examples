{
 "cells": [
  {
   "cell_type": "markdown",
   "metadata": {},
   "source": [
    "# Part 04 - Errors (Fantastic exceptions and where to find them) and File I/O\n",
    "\n",
    "# Exceptions/Errors\n",
    "\n",
    "As you're new programmers, you will spend most of your time handling errors. Sometimes, you even want to make errors of your own. Fortunately, you can teach python to handle errors or make them for you. Let's deliberately try something stupid and see what happens"
   ]
  },
  {
   "cell_type": "code",
   "execution_count": 9,
   "metadata": {
    "collapsed": false
   },
   "outputs": [
    {
     "ename": "ValueError",
     "evalue": "math domain error",
     "output_type": "error",
     "traceback": [
      "\u001b[0;31m---------------------------------------------------------------------------\u001b[0m",
      "\u001b[0;31mValueError\u001b[0m                                Traceback (most recent call last)",
      "\u001b[0;32m<ipython-input-9-e1602d0b90c7>\u001b[0m in \u001b[0;36m<module>\u001b[0;34m()\u001b[0m\n\u001b[1;32m      1\u001b[0m \u001b[0;32mimport\u001b[0m \u001b[0mmath\u001b[0m\u001b[0;34m\u001b[0m\u001b[0m\n\u001b[1;32m      2\u001b[0m \u001b[0;31m#logarithms of negative numbers are not valid\u001b[0m\u001b[0;34m\u001b[0m\u001b[0;34m\u001b[0m\u001b[0m\n\u001b[0;32m----> 3\u001b[0;31m \u001b[0mmath\u001b[0m\u001b[0;34m.\u001b[0m\u001b[0mlog\u001b[0m\u001b[0;34m(\u001b[0m\u001b[0;34m-\u001b[0m\u001b[0;36m1\u001b[0m\u001b[0;34m)\u001b[0m\u001b[0;34m\u001b[0m\u001b[0m\n\u001b[0m",
      "\u001b[0;31mValueError\u001b[0m: math domain error"
     ]
    }
   ],
   "source": [
    "import math\n",
    "#logarithms of negative numbers are not valid\n",
    "math.log(-1) "
   ]
  },
  {
   "cell_type": "markdown",
   "metadata": {},
   "source": [
    "Here we see something called `ValueError`, which has a `math domain error` message associated with it. Where did this come from?\n",
    "\n",
    "When bad values are passed to a function, it can't return a value as that might be misinterpreted as the answer. Instead, we raise an exception. Exceptions are not return values but instead bubble up the stack until they are caught or they come out of the main scope where they cause python to exit.\n",
    "\n",
    "The stack is all the functions that python has had to enter to get to the current line of execution. Going up the stack, python looks for anything that might catch the exception. Lets see how that's done, "
   ]
  },
  {
   "cell_type": "code",
   "execution_count": null,
   "metadata": {
    "collapsed": false
   },
   "outputs": [],
   "source": [
    "try:\n",
    "    math.log(-1)\n",
    "except Exception as e:\n",
    "    print(e)\n",
    "    print(type(e))\n",
    "    print(repr(e))"
   ]
  },
  {
   "cell_type": "markdown",
   "metadata": {},
   "source": [
    "If any commands within a `try` block raise an exception, and the exception rises up to the `try` block then it will be caught and the code in the `except:` block is run. Above, we just print the exception, the type of the exception, and we use the `repr` command which returns the a python command which will generate the object passed as an argument.\n",
    "\n",
    "The `try...catch` block above catches all exceptions (as all exceptions derive from the `Exception` class). We can actually catch specfic exceptions and deal with them in a special way,"
   ]
  },
  {
   "cell_type": "code",
   "execution_count": null,
   "metadata": {
    "collapsed": false
   },
   "outputs": [],
   "source": [
    "try:\n",
    "    math.log(-1)\n",
    "except ValueError as e:\n",
    "    print(\"Bad value used\")\n",
    "except Exception as e:\n",
    "    print(\"Some other error happened!\", e)"
   ]
  },
  {
   "cell_type": "markdown",
   "metadata": {},
   "source": [
    "How do we raise exceptions ourselves? We just write raise, then use an exception type:"
   ]
  },
  {
   "cell_type": "code",
   "execution_count": null,
   "metadata": {
    "collapsed": false
   },
   "outputs": [],
   "source": [
    "raise RuntimeError(\"My own exception\")"
   ]
  },
  {
   "cell_type": "markdown",
   "metadata": {},
   "source": [
    "Lets look how you might use it to improve our prime number function,"
   ]
  },
  {
   "cell_type": "code",
   "execution_count": null,
   "metadata": {
    "collapsed": false
   },
   "outputs": [],
   "source": [
    "import math\n",
    "def isPrime(n):\n",
    "    # Perform sanity checks on the input\n",
    "    if isinstance(n, float):\n",
    "        if n.is_integer():\n",
    "            n = int(n)\n",
    "        else:\n",
    "            raise ValueError(\"isPrime cannot accept fractional floating values\")\n",
    "    \n",
    "    if not isinstance(n, int):\n",
    "        raise ValueError(\"isPrime can only accept integer arguments\")\n",
    "        \n",
    "    for div in range(2,int(math.sqrt(n))):\n",
    "        if n % div == 0:\n",
    "            return False\n",
    "    return True\n",
    "\n",
    "print(2**31-1, isPrime(2**31-1))\n",
    "print(3.0, isPrime(3.0))\n",
    "\n",
    "#Errors which raise exceptions!\n",
    "isPrime(2.2)\n",
    "isPrime(\"Not an integer\")"
   ]
  },
  {
   "cell_type": "markdown",
   "metadata": {},
   "source": [
    "We now get nice error messages when we abuse our `isPrime` function.\n",
    "\n",
    "## File I/O\n",
    "\n",
    "Now we know about exceptions, we can actually take a look at file Input/Output.\n",
    "\n",
    "Opening a file is very easy, and once its open we can even write to it:"
   ]
  },
  {
   "cell_type": "code",
   "execution_count": null,
   "metadata": {
    "collapsed": true
   },
   "outputs": [],
   "source": [
    "# Open a file called myfile.txt for (w)riting\n",
    "with open('myfile.txt', 'w') as output:\n",
    "    print(\"The first line in the file\", file=output)\n",
    "    print(\"The second line in the file\", file=output)"
   ]
  },
  {
   "cell_type": "markdown",
   "metadata": {},
   "source": [
    "The `with` block is a way of making sure that the next bit of code ONLY happens if the file can be opened. Also, it guarantees that if anything goes wrong inside the `with` block (and an exception is raised), the file will be closed before the exception makes it past the `with` (although the file will be closed anyway if python exits during garbage collection). \n",
    "\n",
    "We could just write `output = open('myfile.txt')` and it would work, but this is better at handling errors.\n",
    "\n",
    "Now we have a file written out, how do we read it?"
   ]
  },
  {
   "cell_type": "code",
   "execution_count": null,
   "metadata": {
    "collapsed": false
   },
   "outputs": [],
   "source": [
    "# Now its open for (r)eading\n",
    "with open('myfile.txt', 'r') as lines:\n",
    "    try:\n",
    "        while True:\n",
    "            print(next(lines))\n",
    "    except StopIteration:\n",
    "        print('EOF!')"
   ]
  },
  {
   "cell_type": "markdown",
   "metadata": {},
   "source": [
    "The `while` statement repeats the block as long as the expression to its right is `True`. Here, the expression is `True` so the block is repeated indefinitely. The only way that block can end is if an exception is raised. Fortunately, when the file runs out of lines, the `next()` function will throw a `StopIteration` exception, which we catch to say End Of File (EOF)! This is a case where we MUST use exceptions to achieve our goals.\n",
    "\n",
    "If you notice the results from the above code, we have extra lines appearing, where do these come from? Lets take another look but this time using `repr`"
   ]
  },
  {
   "cell_type": "code",
   "execution_count": null,
   "metadata": {
    "collapsed": false
   },
   "outputs": [],
   "source": [
    "with open('myfile.txt', 'r') as lines:\n",
    "    try:\n",
    "        while True:\n",
    "            print(repr(next(lines)))\n",
    "    except StopIteration:\n",
    "        print('EOF!')"
   ]
  },
  {
   "cell_type": "markdown",
   "metadata": {},
   "source": [
    "Here we can see that each line is being read from the file including its terminating newline character. When we print this, both the terminating newline `\\n` and one automatically added by `print` is being output resulting in a double line break. We can fix this by telling print not to end the line that way:"
   ]
  },
  {
   "cell_type": "code",
   "execution_count": null,
   "metadata": {
    "collapsed": false
   },
   "outputs": [],
   "source": [
    "with open('myfile.txt', 'r') as lines:\n",
    "    try:\n",
    "        while True:\n",
    "            print(next(lines), end='')\n",
    "    except StopIteration:\n",
    "        print('EOF!')"
   ]
  },
  {
   "cell_type": "markdown",
   "metadata": {},
   "source": [
    "## Better file IO with pickle\n",
    "\n",
    "Often you don't want to save text, you want to save the array or list you've been working on. Python has a cool library for that called pickle. "
   ]
  },
  {
   "cell_type": "code",
   "execution_count": null,
   "metadata": {
    "collapsed": true
   },
   "outputs": [],
   "source": [
    "import pickle\n",
    "favorite_color = { \"lion\": \"yellow\", \"kitty\": \"red\" }\n",
    "pickle.dump( favorite_color, open(\"save.p\", \"wb\"))"
   ]
  },
  {
   "cell_type": "markdown",
   "metadata": {},
   "source": [
    "We've been fast and loose here, not using a `with`, but sometimes we like to program dangerously. You might notice the `'b'` added to the `open` command, this opens the file in binary mode, which is very space efficient but not readable by humans.\n",
    "\n",
    "Now, if we want to reload this, we just do the following:"
   ]
  },
  {
   "cell_type": "code",
   "execution_count": 10,
   "metadata": {
    "collapsed": false
   },
   "outputs": [
    {
     "name": "stdout",
     "output_type": "stream",
     "text": [
      "{'kitty': 'red', 'lion': 'yellow'}\n"
     ]
    }
   ],
   "source": [
    "favorite_color_loaded = pickle.load( open( \"save.p\", \"rb\" ) )\n",
    "print(favorite_color_loaded)"
   ]
  }
 ],
 "metadata": {
  "kernelspec": {
   "display_name": "Python 3",
   "language": "python",
   "name": "python3"
  },
  "language_info": {
   "codemirror_mode": {
    "name": "ipython",
    "version": 3
   },
   "file_extension": ".py",
   "mimetype": "text/x-python",
   "name": "python",
   "nbconvert_exporter": "python",
   "pygments_lexer": "ipython3",
   "version": "3.5.3"
  }
 },
 "nbformat": 4,
 "nbformat_minor": 2
}
