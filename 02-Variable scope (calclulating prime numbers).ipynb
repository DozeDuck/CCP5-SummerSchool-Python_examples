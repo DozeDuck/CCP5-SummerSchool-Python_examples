{
 "cells": [
  {
   "cell_type": "markdown",
   "metadata": {},
   "source": [
    "## Variable scope\n",
    "\n",
    "This set of notes is about building a program from scratch and learning about scope, one of the most confusing parts of programming for beginners. The \"scope\" is everything the computer can \"see\" at a particular point in the code, i.e. the names of variables and functions the computer has learnt (so far). We have to learn about scope, as many errors arise from not understanding it, and you want to keep your scope as clean as possible so that errors are easy to find.\n",
    "\n",
    "To motivate it, we are going to build a prime number calculator!\n",
    "\n",
    "Prime numbers are natural numbers (positive integers) which have only themselves and 1 as factors. Thus 2 is a prime number and so is 3, but not 4 as $2\\times2=4$. There are no simple patterns to the primes. In fact, as soon as a pattern appears it seems to be destroyed. For example, the first two primes appear to be increasing by 1, but this is immediately broken by the next prime being 5. We might then hypothesise the increase in the primes to be +1,+2,+3 but then the next prime (7) is actually a +2 again!\n",
    "\n",
    "There are some general statements we can make about primes, such as the probability of a number being prime is proportional to $1/\\ln(n)$, but there is no fast way to test if a number is prime. One simple strategy is [trial division](https://en.wikipedia.org/wiki/Trial_division), where given a candidate prime number $n$, we test every integer less than $n$ to see if it divides $n$ an integer number of times.\n",
    "\n",
    "Lets try $n=5$ by hand,"
   ]
  },
  {
   "cell_type": "code",
   "execution_count": 2,
   "metadata": {
    "collapsed": false
   },
   "outputs": [
    {
     "name": "stdout",
     "output_type": "stream",
     "text": [
      "5.0\n",
      "2.5\n",
      "1.6666666666666667\n",
      "1.25\n",
      "1.0\n"
     ]
    }
   ],
   "source": [
    "print(5/1)\n",
    "print(5/2)\n",
    "print(5/3)\n",
    "print(5/4)\n",
    "print(5/5)"
   ]
  },
  {
   "cell_type": "markdown",
   "metadata": {
    "collapsed": true
   },
   "source": [
    "As it is only divisible by itself and 1, 5 is indeed prime. Lets make this test smarter and get the computer to do the work for us, we want to test all numbers from $[1,\\,n]$, so lets generate a list of numbers,"
   ]
  },
  {
   "cell_type": "code",
   "execution_count": 7,
   "metadata": {
    "collapsed": false
   },
   "outputs": [
    {
     "data": {
      "text/plain": [
       "[1, 2, 3, 4, 5]"
      ]
     },
     "execution_count": 7,
     "metadata": {},
     "output_type": "execute_result"
    }
   ],
   "source": [
    "list(range(1,6))"
   ]
  },
  {
   "cell_type": "markdown",
   "metadata": {},
   "source": [
    "We need to go to `6` as range misses out the last number (for good reason, it normally starts at zero, so `range(5)` gives you 5 numbers from $[0,4]$. \n",
    "\n",
    "Using this we can get a loop to test all the divisors for us:"
   ]
  },
  {
   "cell_type": "code",
   "execution_count": 5,
   "metadata": {
    "collapsed": false
   },
   "outputs": [
    {
     "name": "stdout",
     "output_type": "stream",
     "text": [
      "5.0\n",
      "2.5\n",
      "1.6666666666666667\n",
      "1.25\n"
     ]
    }
   ],
   "source": [
    "for divisor in range(1,5):\n",
    "    print(5/divisor)"
   ]
  },
  {
   "cell_type": "markdown",
   "metadata": {},
   "source": [
    "Several things happened here. We dropped the `list()` around the range, as its more efficient (see previous slides about generators). We added a `for` loop to go through the list and create a variable `divisor` which points to each member of the list in turn.\n",
    "\n",
    "But let's talk about scope. After the loop, does `divisor` still exist? Can we still use it? "
   ]
  },
  {
   "cell_type": "code",
   "execution_count": 6,
   "metadata": {
    "collapsed": false
   },
   "outputs": [
    {
     "data": {
      "text/plain": [
       "4"
      ]
     },
     "execution_count": 6,
     "metadata": {},
     "output_type": "execute_result"
    }
   ],
   "source": [
    "divisor"
   ]
  },
  {
   "cell_type": "code",
   "execution_count": 8,
   "metadata": {
    "collapsed": false
   },
   "outputs": [
    {
     "ename": "SyntaxError",
     "evalue": "invalid syntax (<ipython-input-8-6bfbace0806d>, line 1)",
     "output_type": "error",
     "traceback": [
      "\u001b[0;36m  File \u001b[0;32m\"<ipython-input-8-6bfbace0806d>\"\u001b[0;36m, line \u001b[0;32m1\u001b[0m\n\u001b[0;31m    Yes!\u001b[0m\n\u001b[0m       ^\u001b[0m\n\u001b[0;31mSyntaxError\u001b[0m\u001b[0;31m:\u001b[0m invalid syntax\n"
     ]
    }
   ],
   "source": [
    "Yes!"
   ]
  },
  {
   "cell_type": "code",
   "execution_count": null,
   "metadata": {
    "collapsed": true
   },
   "outputs": [],
   "source": []
  }
 ],
 "metadata": {
  "kernelspec": {
   "display_name": "Python 3",
   "language": "python",
   "name": "python3"
  },
  "language_info": {
   "codemirror_mode": {
    "name": "ipython",
    "version": 3
   },
   "file_extension": ".py",
   "mimetype": "text/x-python",
   "name": "python",
   "nbconvert_exporter": "python",
   "pygments_lexer": "ipython3",
   "version": "3.6.3"
  }
 },
 "nbformat": 4,
 "nbformat_minor": 2
}
