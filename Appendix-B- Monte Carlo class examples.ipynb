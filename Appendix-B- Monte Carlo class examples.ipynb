{
 "cells": [
  {
   "cell_type": "markdown",
   "metadata": {},
   "source": [
    "## Calculating Pi"
   ]
  },
  {
   "cell_type": "code",
   "execution_count": null,
   "metadata": {
    "collapsed": false
   },
   "outputs": [
    {
     "name": "stdout",
     "output_type": "stream",
     "text": [
      "Please wait, this render takes time... ETA to follow\n",
      "ETA 123.93489217758179 s\n",
      "ETA 113.90367031097412 s\n",
      "ETA 85.31286493937175 s\n",
      "ETA 72.3629390001297 s\n",
      "ETA 56.53706955909729 s\n",
      "ETA 45.86396153767903 s\n",
      "ETA 34.42042269025531 s\n",
      "ETA 23.48260986804962 s\n"
     ]
    }
   ],
   "source": [
    "import random\n",
    "import random\n",
    "from IPython.display import HTML\n",
    "import math\n",
    "import numpy as np\n",
    "from matplotlib import animation\n",
    "import matplotlib.pyplot as plt\n",
    "\n",
    "import time\n",
    "\n",
    "def ReportProgress(position, total):\n",
    "    global startTime\n",
    "    if position == 0:\n",
    "        return\n",
    "    elapsedTime = time.time() - startTime\n",
    "    totalTime = elapsedTime * total / position\n",
    "    etr = totalTime - elapsedTime\n",
    "    print(\"ETA\",etr,\"s\")\n",
    "\n",
    "# Make the figures a useful size\n",
    "scale = 0.5\n",
    "fig=plt.figure(figsize=(12.80*scale, 7.20*scale), dpi=100/scale, facecolor='w', edgecolor='k')\n",
    "# Use actual latex for the figures (not built in support)\n",
    "plt.rc('text', usetex=True)\n",
    "plt.rc('font', family='serif')\n",
    "\n",
    "def circle_drop_test():\n",
    "    x = random.uniform(-1,1)\n",
    "    y = random.uniform(-1,1)\n",
    "    return x**2 + y**2 < 1, x, y\n",
    "\n",
    "runs= 400 #Frames\n",
    "samples_per_run = 50\n",
    "\n",
    "plt.clf()\n",
    "plt.subplot(1,2,2)\n",
    "axis = plt.gca() #Get the Current Axis (GCA) of the current figure\n",
    "axis.add_artist(plt.Circle((0,0),1, fill=False)) #Draw a circle at 0,0 with radius 1\n",
    "axis.set_aspect('equal', 'box') # Give us a nice square plot\n",
    "axis.set_xlim(-1,1) # set the limits of the plot to exactly around the circle\n",
    "axis.set_ylim(-1,1) # ...\n",
    "axis.get_xaxis().set_visible(False)\n",
    "axis.get_yaxis().set_visible(False)\n",
    "    \n",
    "in_samples=np.zeros((samples_per_run * runs,2))\n",
    "out_samples=np.zeros((samples_per_run * runs,2))\n",
    "in_scatter = axis.scatter(in_samples[0:0,0], in_samples[0:0,1], s=10, c='g', marker=\".\")\n",
    "out_scatter = axis.scatter(out_samples[0:0,0], out_samples[0:0,1], s=10, c='r', marker=\"x\")\n",
    "\n",
    "plt.subplot(1,2,1)\n",
    "axis = plt.gca()\n",
    "pi_samples = np.zeros((runs, 2))\n",
    "pi_scatter = axis.scatter(pi_samples[0:0,0], pi_samples[0:0,1], c='g', marker='x')\n",
    "axis.set_xlabel(\"$N_{samples}$\")\n",
    "axis.set_ylabel(\"$\\pi$ estimate\")\n",
    "axis.set_xlim(0, runs * samples_per_run) # set the limits of the plot to exactly around the circle\n",
    "axis.set_ylim(3.0, 3.3) # ...\n",
    "plt.plot([0, runs * samples_per_run], [math.pi, math.pi], 'k-')\n",
    "plt.tight_layout()\n",
    "\n",
    "in_idx=0\n",
    "out_idx=0\n",
    "def timestep(step):\n",
    "    global in_idx, out_idx\n",
    "    if step == 0:\n",
    "        return in_scatter, out_scatter, pi_scatter\n",
    "    \n",
    "    global in_samples, out_samples, pi_samples\n",
    "    for i in range(samples_per_run):\n",
    "        idx = samples_per_run * (step - 1) + i\n",
    "        inout, x, y = circle_drop_test()\n",
    "        if inout:\n",
    "            in_samples[in_idx] = [x,y]\n",
    "            in_idx += 1\n",
    "        else:\n",
    "            out_samples[out_idx] = [x,y]\n",
    "            out_idx += 1\n",
    "    endidx = samples_per_run * step\n",
    "    if not samples_per_run*step % 2000:\n",
    "        ReportProgress(samples_per_run*step, samples_per_run * runs)\n",
    "    in_scatter.set_offsets(in_samples[:in_idx])\n",
    "    out_scatter.set_offsets(out_samples[:out_idx])\n",
    "    pi = (4.0*in_idx)/(in_idx+out_idx)\n",
    "    \n",
    "    pi_samples[step] = [step * samples_per_run, pi]\n",
    "    pi_scatter.set_offsets(pi_samples[:step])\n",
    "    return in_scatter, out_scatter, pi_scatter\n",
    "\n",
    "print(\"Please wait, this render takes time... ETA to follow\")\n",
    "startTime = time.time()\n",
    "anim = animation.FuncAnimation(plt.gcf(), timestep, range(runs), interval=10, blit=True)\n",
    "HTML(anim.to_html5_video())"
   ]
  },
  {
   "cell_type": "code",
   "execution_count": null,
   "metadata": {
    "collapsed": true
   },
   "outputs": [],
   "source": []
  }
 ],
 "metadata": {
  "kernelspec": {
   "display_name": "Python 3",
   "language": "python",
   "name": "python3"
  },
  "language_info": {
   "codemirror_mode": {
    "name": "ipython",
    "version": 3
   },
   "file_extension": ".py",
   "mimetype": "text/x-python",
   "name": "python",
   "nbconvert_exporter": "python",
   "pygments_lexer": "ipython3",
   "version": "3.5.3"
  }
 },
 "nbformat": 4,
 "nbformat_minor": 2
}
