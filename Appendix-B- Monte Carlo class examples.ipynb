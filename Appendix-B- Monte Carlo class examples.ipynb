{
 "cells": [
  {
   "cell_type": "markdown",
   "metadata": {},
   "source": [
    "## Calculating Pi"
   ]
  },
  {
   "cell_type": "code",
   "execution_count": 1,
   "metadata": {
    "collapsed": true
   },
   "outputs": [],
   "source": [
    "import random\n",
    "import random\n",
    "from IPython.display import HTML\n",
    "import numpy as np\n",
    "from matplotlib import animation\n",
    "import matplotlib.pyplot as plt\n",
    "\n",
    "def circle_drop_test():\n",
    "    x = random.uniform(-1,1)\n",
    "    y = random.uniform(-1,1)\n",
    "    return x**2 + y**2 < 1, x, y\n",
    "\n",
    "def piCalc(ntests):\n",
    "    counter=0\n",
    "    for i in range(ntests):\n",
    "        if circle_drop_test():\n",
    "            counter += 1\n",
    "    return 4 * counter / ntests"
   ]
  },
  {
   "cell_type": "code",
   "execution_count": null,
   "metadata": {
    "collapsed": false
   },
   "outputs": [],
   "source": [
    "plt.clf()\n",
    "axis = plt.gca() #Get the Current Axis (GCA) of the current figure\n",
    "axis.add_artist(plt.Circle((0,0),1, fill=False)) #Draw a circle at 0,0 with radius 1\n",
    "axis.set_aspect('equal', 'box') # Give us a nice square plot\n",
    "plt.xlim(-1,1) # set the limits of the plot to exactly around the circle\n",
    "plt.ylim(-1,1) # ...\n",
    "    \n",
    "in_samples=np.array([]).reshape(0,2)\n",
    "out_samples=np.array([]).reshape(0,2)\n",
    "in_scatter = axis.scatter(in_samples[:,0], in_samples[:,1], s=250, c='g', marker=\".\")\n",
    "out_scatter = axis.scatter(out_samples[:,0], out_samples[:,1], s=250, c='r', marker=\"x\")\n",
    "\n",
    "def timestep(step):\n",
    "    global in_samples, out_samples\n",
    "    for i in range(10):\n",
    "        inout, x, y = circle_drop_test()\n",
    "        if inout:\n",
    "            in_samples = np.append(in_samples, [x,y])\n",
    "        else:\n",
    "            out_samples = np.append(out_samples, [x,y])\n",
    "    in_scatter.set_offsets(in_samples)\n",
    "    out_scatter.set_offsets(out_samples)\n",
    "    return in_scatter, out_scatter\n",
    "\n",
    "anim = animation.FuncAnimation(plt.gcf(), timestep, np.arange(1, 500), interval=10, blit=True)\n",
    "HTML(anim.to_html5_video())"
   ]
  },
  {
   "cell_type": "code",
   "execution_count": null,
   "metadata": {
    "collapsed": true
   },
   "outputs": [],
   "source": [
    "plt.clf() #Clear the figure, as the animator leaves particles around if the cell is reurn\n",
    "fig = plt.gcf()\n",
    "ax = plt.gca()\n",
    "ax.set_xlim(-box_length, +box_length)\n",
    "ax.set_ylim(-box_length, +box_length)\n",
    "scatter = ax.scatter(pos[:,0], pos[:,1], s=250)\n",
    "print(\"Running calclations, please wait!\")\n",
    "anim = animation.FuncAnimation(fig, timestep, np.arange(1, 500), interval=10, blit=True)\n",
    "HTML(anim.to_html5_video())\n",
    "\n",
    "results=[]\n",
    "running_sum=0\n",
    "counter=0\n",
    "for i in range(50):\n",
    "    running_sum += piCalc(1000)\n",
    "    counter += 1\n",
    "    results.append(running_sum / counter)\n",
    "\n",
    "%matplotlib inline\n",
    "plt.plot(results)"
   ]
  }
 ],
 "metadata": {
  "kernelspec": {
   "display_name": "Python 3",
   "language": "python",
   "name": "python3"
  },
  "language_info": {
   "codemirror_mode": {
    "name": "ipython",
    "version": 3
   },
   "file_extension": ".py",
   "mimetype": "text/x-python",
   "name": "python",
   "nbconvert_exporter": "python",
   "pygments_lexer": "ipython3",
   "version": "3.5.3"
  }
 },
 "nbformat": 4,
 "nbformat_minor": 2
}
