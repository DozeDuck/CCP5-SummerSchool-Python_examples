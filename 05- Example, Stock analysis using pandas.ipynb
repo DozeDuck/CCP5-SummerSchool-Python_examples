{
 "cells": [
  {
   "cell_type": "markdown",
   "metadata": {
    "collapsed": true
   },
   "source": [
    "# Part 05 - Pandas applied for stock market analysis"
   ]
  },
  {
   "cell_type": "markdown",
   "metadata": {},
   "source": [
    "One of the most interesting uses of python is as a data analysis system. Its plotting tools are top notch, and along with libraries such as pandas, there are a wealth of statistical analysis tools available.\n",
    "\n",
    "For a more complete look at data analysis using pandas, see [this example working through earth science data](https://www.scipy-lectures.org/intro/scipy.html#statistics-and-random-numbers-scipy-stats). I have a personal interest in stocks and shares, and I'm a avid fan of SpaceX and Tesla, so lets look at some data on Tesla."
   ]
  },
  {
   "cell_type": "code",
   "execution_count": null,
   "metadata": {
    "collapsed": false
   },
   "outputs": [],
   "source": [
    "# Pandas is like a programmable spreadsheet, you have named columns of data and an index\n",
    "import pandas as pd\n",
    "# This next line is needed to fix a current bug in pandas_datareader\n",
    "pd.core.common.is_list_like = pd.api.types.is_list_like\n",
    "# Pandas datareader is an interface to lots of kinds of sources of data, including stocks\n",
    "import pandas_datareader.data as web\n",
    "\n",
    "# It should be noted that Pandas datareader for stock information breaks all the time,\n",
    "# all I can promise is that this works today, 6th July 2018\n",
    " \n",
    "# Let's get Tesla stock data; Tesla's ticker symbol is TSLA on the US NASDAQ exchange\n",
    "# First argument is the series we want, second is the source (\"stooq\" works at the moment),\n",
    "# third is the start date, fourth is the end date\n",
    "tesla = web.DataReader(\"TSLA.US\", \"stooq\")\n",
    "\n",
    "# We'll also extract the Standard & Poor 500 index (sum of the top 500 companies)\n",
    "spx = web.DataReader(\"^SPX\", \"stooq\")\n",
    "\n",
    "#What kind of data did we get? Lets print the header of the table and the first few rows\n",
    "print(tesla.head())"
   ]
  },
  {
   "cell_type": "markdown",
   "metadata": {},
   "source": [
    "Great, opening and closing prices as well as daily highs/lows and the volume of stocks traded, all indexed by the date of the information. Notice that some dates are missing (weekends/holidays).\n",
    "\n",
    "You should note that the last cell took a long time to run. That's because websites with stock data limit the rate at which you can download information. Here is a place where data should be downloaded once, then pickled for later processing (and reprocessing).\n",
    "\n",
    "We need a basis for comparison for the performance of an individiual stock, so we also downloaded the S&P 500 index (the average of the 500 largest companies on the index)."
   ]
  },
  {
   "cell_type": "code",
   "execution_count": null,
   "metadata": {
    "collapsed": false
   },
   "outputs": [],
   "source": [
    "print(spx.head())"
   ]
  },
  {
   "cell_type": "markdown",
   "metadata": {},
   "source": [
    "OK, so the last working day is a NaN value (Not a number), probably because the aggregate volume data is not available yet. This is typical of stock market data, full of interesting features. \n",
    "\n",
    "Let's try plotting the data and comparing tesla versus the index,"
   ]
  },
  {
   "cell_type": "code",
   "execution_count": null,
   "metadata": {
    "collapsed": false
   },
   "outputs": [],
   "source": [
    "import matplotlib.pyplot as plt   # Import matplotlib\n",
    "# We will look at stock prices over the past years, starting at January 1, 2016\n",
    "\n",
    "spx[\"Close\"].plot(grid = True) # Plot the adjusted closing price of AAPL\n",
    "tesla[\"Close\"].plot(grid = True) # Plot the adjusted closing price of AAPL"
   ]
  },
  {
   "cell_type": "markdown",
   "metadata": {
    "collapsed": true
   },
   "source": [
    "Ooopps, the S&P 500 has data back until the 1800s.... Lets filter that data, only taking back as far as the start of 2016"
   ]
  },
  {
   "cell_type": "code",
   "execution_count": null,
   "metadata": {
    "collapsed": false
   },
   "outputs": [],
   "source": [
    "start = datetime.date.today()\n",
    "end = datetime.datetime(2016,1,1)\n",
    "spx.loc[start:end][\"Close\"].plot(grid = True)\n",
    "tesla.loc[start:end][\"Close\"].plot(grid = True)"
   ]
  },
  {
   "cell_type": "markdown",
   "metadata": {},
   "source": [
    "Let's normalise by the price today"
   ]
  },
  {
   "cell_type": "code",
   "execution_count": null,
   "metadata": {
    "collapsed": false
   },
   "outputs": [],
   "source": [
    "start = datetime.datetime(2018,7,6) #Today\n",
    "end = datetime.datetime(2016,1,1)\n",
    "(spx.loc[start:end][\"Close\"]/spx.iloc[0][\"Close\"]).plot(grid = True)\n",
    "(tesla.loc[start:end][\"Close\"]/tesla.iloc[0][\"Close\"]).plot(grid = True)"
   ]
  },
  {
   "cell_type": "markdown",
   "metadata": {},
   "source": [
    "Nice! We can see that over this time period, Tesla actually performed exactly to market average but with significant volatility...\n",
    "\n",
    "Let's plot tesla's performance relative to the S&P 500 over that time."
   ]
  },
  {
   "cell_type": "code",
   "execution_count": null,
   "metadata": {
    "collapsed": false
   },
   "outputs": [],
   "source": [
    "start = datetime.datetime(2018,7,6) #Today\n",
    "end = datetime.datetime(2016,1,1)\n",
    "data = tesla.loc[start:end][\"Close\"]/spx.loc[start:end][\"Close\"]*spx.iloc[0][\"Close\"] - tesla.iloc[0][\"Close\"]\n",
    "data.plot(grid = True)"
   ]
  },
  {
   "cell_type": "markdown",
   "metadata": {},
   "source": [
    "Warren Buffet (famous american investor, 3rd wealthiest person in the world), made a  \\$1M bet that a low-cost S&P 500 index tracker (simple fund that invests in all the companies in the index) would outperform highly managed index funds over 10 years. He won this bet when the index tracker made 7\\% annual and the hedge funds made 2.2\\%. \n",
    "\n",
    "This is anecdotal evidence that even stocks that have performed amazingly at times (like tesla) still average out to the index."
   ]
  },
  {
   "cell_type": "markdown",
   "metadata": {},
   "source": [
    "## Extra credit\n",
    "\n",
    "For more information on this, see this example:\n",
    "http://earthpy.org/pandas-basics.html\n",
    "\n",
    "\n",
    "- What day of the week is the best day to buy Tesla? Just take all data for the week, normalise it by Monday's value, and then plot the average value over the rest of the week."
   ]
  }
 ],
 "metadata": {
  "kernelspec": {
   "display_name": "Python 3",
   "language": "python",
   "name": "python3"
  },
  "language_info": {
   "codemirror_mode": {
    "name": "ipython",
    "version": 3
   },
   "file_extension": ".py",
   "mimetype": "text/x-python",
   "name": "python",
   "nbconvert_exporter": "python",
   "pygments_lexer": "ipython3",
   "version": "3.5.3"
  }
 },
 "nbformat": 4,
 "nbformat_minor": 2
}
