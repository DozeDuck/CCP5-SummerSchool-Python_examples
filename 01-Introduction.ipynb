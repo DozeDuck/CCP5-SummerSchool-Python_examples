{
 "cells": [
  {
   "cell_type": "markdown",
   "metadata": {},
   "source": [
    "![Xkcd python comment](https://imgs.xkcd.com/comics/python.png)\n",
    "\n",
    "There are many compiled programming languages out\n",
    "there: <b><i>C++, C, Fortran, ...</i></b>.<br/>  These\n",
    "are the heavyweight languages which are great for\n",
    "learning how to program \"properly\" (i.e. type safe) and\n",
    "are <em>fast</em>. But they are designed more for the\n",
    "computer, not so much for you.\n",
    "\n",
    "The interpreted languages: <b><i>python</i></b>, ruby,\n",
    "erlang, perl, gawk, bash, Java(ish)/javascript, go,\n",
    "rust, MATLAB... are lightweight, designed to be as\n",
    "simple as possible for you; however, the are <em>slow</em>, but if you add in time spent programming, they are usually faster.\n",
    "\n",
    "<b>Python</b> is general, powerful, popular and has a HUGE collection of libraries (see above). This is a quick introduction to python."
   ]
  },
  {
   "cell_type": "markdown",
   "metadata": {},
   "source": [
    "# Part 01 - Fast introduction to python"
   ]
  },
  {
   "cell_type": "markdown",
   "metadata": {},
   "source": [
    "Learning to code is like learning to speak another language or play an instrument. There is no substitute for practice!\n",
    "\n",
    "In this set of notes, coding via python is demonstrated via example. You can (and must) edit and re-run the examples. In fact, this is more of a tour of python, pointing out its interesting bits, if you don't get off the bus and get stuck in it will just pass you by.\n",
    "\n",
    "This web page is a Jupyter notebook, which is a way of running python via the web which means we can skip all the usual set up troubles of installing and setting up python and get stuck in, but please try to install python 3 (e.g. anaconda) on your own personal laptop/computer so you can work on python on your own in the future.\n",
    "\n",
    "These notes assume you are vaguely aware of the basics of programming, but not really comfortable with them. Lots of detail is skipped over so we can get to examples in the next chapters quickly. You will have to \"google\" and ask questions when something is covered too quickly or incompletely.\n",
    "\n",
    "** Ultimately, you must learn to teach yourself programming! **\n",
    "\n",
    "## Part 01A - Basic investigation of code (`print()`, `help()`, `type()`) \n",
    "\n",
    "Computers follow programs line by line executing all commands in the order it finds them. They are incredibly dumb and get confused easily if instructions are vague. You will need to check what the computer is doing and so you need to get it to talk to you.\n",
    "\n",
    "For example, in python we can get the computer to write stuff on the screen using the print command."
   ]
  },
  {
   "cell_type": "code",
   "execution_count": 71,
   "metadata": {
    "collapsed": false
   },
   "outputs": [
    {
     "name": "stdout",
     "output_type": "stream",
     "text": [
      "Hello world\n"
     ]
    }
   ],
   "source": [
    "print(\"Hello world\")"
   ]
  },
  {
   "cell_type": "markdown",
   "metadata": {},
   "source": [
    "Hello world needs to be within either double (`\"`) or single (`'`) quotes (they're the same in python), as the computer needs to know that this a string of characters (aka str) and not the name of a variable or function (like `print`). For example, we can ask print to write itself on the screen,"
   ]
  },
  {
   "cell_type": "code",
   "execution_count": 72,
   "metadata": {
    "collapsed": false
   },
   "outputs": [
    {
     "name": "stdout",
     "output_type": "stream",
     "text": [
      "<built-in function print>\n"
     ]
    }
   ],
   "source": [
    "print(print)"
   ]
  },
  {
   "cell_type": "markdown",
   "metadata": {},
   "source": [
    "and what we get instead is a description of what print is. Lots of things have printable representations like this which are quite useful if we're wanting to check what a variable or function is later on. \n",
    "\n",
    "There are a couple of other really useful functions for figuring out what is going on. For example, `help()` prints to screen how to use an object (i.e. a function)"
   ]
  },
  {
   "cell_type": "code",
   "execution_count": 73,
   "metadata": {
    "collapsed": false
   },
   "outputs": [
    {
     "name": "stdout",
     "output_type": "stream",
     "text": [
      "Help on built-in function print in module builtins:\n",
      "\n",
      "print(...)\n",
      "    print(value, ..., sep=' ', end='\\n', file=sys.stdout, flush=False)\n",
      "    \n",
      "    Prints the values to a stream, or to sys.stdout by default.\n",
      "    Optional keyword arguments:\n",
      "    file:  a file-like object (stream); defaults to the current sys.stdout.\n",
      "    sep:   string inserted between values, default a space.\n",
      "    end:   string appended after the last value, default a newline.\n",
      "    flush: whether to forcibly flush the stream.\n",
      "\n"
     ]
    }
   ],
   "source": [
    "help(print)"
   ]
  },
  {
   "cell_type": "markdown",
   "metadata": {},
   "source": [
    "You can also ask what type or class something is using the type() function,"
   ]
  },
  {
   "cell_type": "code",
   "execution_count": 74,
   "metadata": {
    "collapsed": false
   },
   "outputs": [
    {
     "data": {
      "text/plain": [
       "builtin_function_or_method"
      ]
     },
     "execution_count": 74,
     "metadata": {},
     "output_type": "execute_result"
    }
   ],
   "source": [
    "type(print)"
   ]
  },
  {
   "cell_type": "markdown",
   "metadata": {},
   "source": [
    "We should note that `type()` doesn't print its result but instead returns a type object; however, jupyter automatically prints the result of the last line of any code block, so we don't need a `print()` on the last line. E.g.,"
   ]
  },
  {
   "cell_type": "code",
   "execution_count": 75,
   "metadata": {
    "collapsed": false
   },
   "outputs": [
    {
     "data": {
      "image/png": "[encoded data removed]",
      "text/latex": [
       "$$2$$"
      ],
      "text/plain": [
       "2"
      ]
     },
     "execution_count": 75,
     "metadata": {},
     "output_type": "execute_result"
    }
   ],
   "source": [
    "\"Not printed\"\n",
    "1+1"
   ]
  },
  {
   "cell_type": "markdown",
   "metadata": {},
   "source": [
    "## Part 01B - Variables, lists, comments, and mutability\n",
    "\n",
    "We often want to store things (objects) in memory. To track where we've put them we use variables. Variables in python are \"pointers\" to objects in memory, they are not the objects themselves but you can usually treat them like they are.\n",
    "\n",
    "What's confusing about variables in python is that their behaviour changes if the object(s) they are pointing to are `mutable` or `immutable`. For example, numbers and strings are immutable. This means that whenever something is done to them, a new object must be created. Any variables still pointing to the old object will remain unchanged.\n",
    "\n",
    "To better understand this, take a look at the following code,"
   ]
  },
  {
   "cell_type": "code",
   "execution_count": 76,
   "metadata": {
    "collapsed": false
   },
   "outputs": [
    {
     "name": "stdout",
     "output_type": "stream",
     "text": [
      "2\n",
      "1\n"
     ]
    }
   ],
   "source": [
    "#Everything after a # on a line is ignored, so we use it for comments\n",
    "a = 1     #a points to 1\n",
    "b = a     #b also points to 1\n",
    "a += 1    #Add one to a, this must make a new number (2) as integers are immutable\n",
    "print(a)  # a is now pointing to 2\n",
    "print(b)  # b is still pointing to 1"
   ]
  },
  {
   "cell_type": "markdown",
   "metadata": {},
   "source": [
    "Most programmers would assume that `b=a` copies the value of `a` into `b` but in fact `a` and `b` now point to the same object. Immutable objects generally don't cause suprises for the programmer who thinks a copy takes place, as if a change happens a new object is created; However, mutable objects are very common as python avoids copying whenever possible (as its expensive) and they often lead to surprises!\n",
    "\n",
    "For example, python has `list`s for storing objects together in a particular order. `List`s are mutable, so this means that changes to a `list` will be reflected in all variables which point to that list."
   ]
  },
  {
   "cell_type": "code",
   "execution_count": 3,
   "metadata": {
    "collapsed": false
   },
   "outputs": [
    {
     "name": "stdout",
     "output_type": "stream",
     "text": [
      "[1, 2, 3, 4]\n",
      "[1, 2, 3, 4]\n"
     ]
    }
   ],
   "source": [
    "a = [1,2,3]   # a points to a new list with three elements\n",
    "b = a         # b points to the same list (no copying)\n",
    "a.append(4)   # we add 4 to the back of the list, but its the same list as b\n",
    "print(a)      \n",
    "print(b)      # both a and b now contain 4!"
   ]
  },
  {
   "cell_type": "markdown",
   "metadata": {},
   "source": [
    "What makes this confusing is that some operations will make a new list, and some will not!"
   ]
  },
  {
   "cell_type": "code",
   "execution_count": 5,
   "metadata": {
    "collapsed": false
   },
   "outputs": [
    {
     "name": "stdout",
     "output_type": "stream",
     "text": [
      "[1, 2, 3, 4, 5, 6, 7]\n",
      "[1, 2, 3, 4, 5, 6]\n"
     ]
    }
   ],
   "source": [
    "a = [1,2,3]\n",
    "b = a\n",
    "a += [4,5,6] # addition merges lists so [4,5,6] will be added to both a and b\n",
    "a = a + [7] # only a will get 7 added, and now its a different list to b!\n",
    "print(a)\n",
    "print(b)"
   ]
  },
  {
   "cell_type": "markdown",
   "metadata": {},
   "source": [
    "I promise you, mutability is the worst part of python to understand. The rest is quite logical and even mutability is logical once you get used to when copies do/don't take place. A key rule is that python avoids copying whenever its expensive, and that's most of the time."
   ]
  },
  {
   "cell_type": "markdown",
   "metadata": {},
   "source": [
    "## Part 01C - lists, slicing, and error messages\n",
    "\n",
    "Lists are very useful, we can store items, retrieve them, add them on etc."
   ]
  },
  {
   "cell_type": "code",
   "execution_count": 8,
   "metadata": {
    "collapsed": false
   },
   "outputs": [
    {
     "name": "stdout",
     "output_type": "stream",
     "text": [
      "[5, 4, 1, 9, 6]\n",
      "[1, 4, 5, 6, 9]\n",
      "9\n",
      "[1, 4, 5, 6]\n",
      "1\n",
      "6\n",
      "5\n",
      "[1, 4, 'Hello', 6]\n",
      "4\n"
     ]
    }
   ],
   "source": [
    "alist = [5,4,1,9]      # Create a list \n",
    "alist.append(6)        # Add an item to the back of the list\n",
    "print(alist)           # [5, 4, 1, 9, 6]\n",
    "alist.sort()           # Sort the list in-place\n",
    "print(alist)           # [1, 4, 5, 6, 9]\n",
    "print(alist.pop())     # returns and removes the last element (writes 9 to the screen)\n",
    "print(alist)           # [1, 4, 5, 6]\n",
    "print(alist[0])        # prints 1, the first element\n",
    "print(alist[-1])       # prints the last element (6)\n",
    "print(alist[-2])       # prints the second to last element 5\n",
    "alist[2] = \"Hello\"     # We can change items anywhere in the list, but mixed types may break sorting\n",
    "print(alist)           # [1, 4, 'Hello', 6]\n",
    "print(len(alist))      # The length of the list, 4"
   ]
  },
  {
   "cell_type": "markdown",
   "metadata": {},
   "source": [
    "What makes lists really powerful is the ability to slice them! You use colons to specify the `start:end:step` of the slice. If any are left blank, the defaults of `0:len():1` are used"
   ]
  },
  {
   "cell_type": "code",
   "execution_count": 9,
   "metadata": {
    "collapsed": false
   },
   "outputs": [
    {
     "name": "stdout",
     "output_type": "stream",
     "text": [
      "[0, 1, 2, 3, 4, 5, 6, 7, 8, 9]\n",
      "[0, 2, 4, 6, 8]\n",
      "[9, 8, 7, 6, 5, 4, 3, 2, 1, 0]\n"
     ]
    }
   ],
   "source": [
    "a = [0,1,2,3,4,5,6,7,8,9]\n",
    "print(a[0:len(a):1])    # [0,1,2,3,4,5,6,7,8,9] the default output of everything\n",
    "print(a[0::2])          # [0, 2, 4, 6, 8] only the odd ones\n",
    "print(a[-1::-1])        # [9, 8, 7, 6, 5, 4, 3, 2, 1, 0]  reverse the list"
   ]
  },
  {
   "cell_type": "markdown",
   "metadata": {},
   "source": [
    "Slicing actually forms a new list (kinda, it doesn't cause a copy of the objects themselves), so you don't have to worry about mutability here. \n",
    "\n",
    "Strings are also \"list-like\" (i.e., they are both `sequence`s) except they are immutable, so you cannot assign to them "
   ]
  },
  {
   "cell_type": "code",
   "execution_count": 81,
   "metadata": {
    "collapsed": false
   },
   "outputs": [
    {
     "name": "stdout",
     "output_type": "stream",
     "text": [
      "H\n",
      "Hlo\n"
     ]
    }
   ],
   "source": [
    "print(\"Hello\"[0])   # prints 'H'\n",
    "print(\"Hello\"[::2]) # prints Hlo\n",
    "#Uncomment the next line to see the error!\n",
    "#\"Hello\"[0] = \"Y\"    #This fails"
   ]
  },
  {
   "cell_type": "markdown",
   "metadata": {},
   "source": [
    "Great! Our first error message (if you uncommented and re-ran the cell). See how it tells you the line number (3) where the error is, and tells you the 'str' (string) object does not support assignment! Very useful. You will become an expert at understanding errors as you learn to program."
   ]
  },
  {
   "cell_type": "markdown",
   "metadata": {},
   "source": [
    "## Part 01D - for loops\n",
    "\n",
    "Unlike other programming languages, python for loops ALWAYS loop over the contents of a container (e.g. a list) or a generator (a dynamically generated list). For example,"
   ]
  },
  {
   "cell_type": "code",
   "execution_count": 82,
   "metadata": {
    "collapsed": false
   },
   "outputs": [
    {
     "name": "stdout",
     "output_type": "stream",
     "text": [
      "1\n",
      "--\n",
      "2\n",
      "--\n",
      "3\n",
      "--\n"
     ]
    }
   ],
   "source": [
    "for i in [1,2,3]:# A colon (:) at the end of a line  is always used to indicate a start of a separate block of code\n",
    "    print(i)     # Python uses whitespace (the indent) to denote a block of code\n",
    "    print(\"--\")  # This line is also part of the for loop as its also indented!"
   ]
  },
  {
   "cell_type": "markdown",
   "metadata": {},
   "source": [
    "The most common use of a `for` loop in other languages is to count with an index. Making a container of sequential indices is quite tedious by hand so there are some built-in functions which do the job, e.g. the `range()` function."
   ]
  },
  {
   "cell_type": "code",
   "execution_count": 83,
   "metadata": {
    "collapsed": false
   },
   "outputs": [
    {
     "name": "stdout",
     "output_type": "stream",
     "text": [
      "0\n",
      "1\n",
      "2\n"
     ]
    }
   ],
   "source": [
    "for i in range(3):\n",
    "    print(i)"
   ]
  },
  {
   "cell_type": "markdown",
   "metadata": {},
   "source": [
    "If you investigate `range()` by printing it, you'll find its not a list, but it can be converted to one and even sliced like one (it is also a sequence)."
   ]
  },
  {
   "cell_type": "code",
   "execution_count": 14,
   "metadata": {
    "collapsed": false
   },
   "outputs": [
    {
     "name": "stdout",
     "output_type": "stream",
     "text": [
      "range(0, 9)\n",
      "[0, 1, 2]\n"
     ]
    }
   ],
   "source": [
    "print(range(9))\n",
    "print(list(range(3)))"
   ]
  },
  {
   "cell_type": "markdown",
   "metadata": {},
   "source": [
    "This is because `range()` is a generator. Rather than make a list of numbers (and incur the cost in memory and time required to make the list) generators calculate the values as they are required."
   ]
  },
  {
   "cell_type": "markdown",
   "metadata": {},
   "source": [
    "# Part 01E - `if` statements\n",
    "\n",
    "To have our code make decisions we need `if` statements. We need a logic statement to test, and then an action to carry out if the statement is true, e.g.,"
   ]
  },
  {
   "cell_type": "code",
   "execution_count": 85,
   "metadata": {
    "collapsed": false
   },
   "outputs": [
    {
     "name": "stdout",
     "output_type": "stream",
     "text": [
      "Mathematics works\n"
     ]
    }
   ],
   "source": [
    "if 1 + 1 == 2:\n",
    "    print(\"Mathematics works\")"
   ]
  },
  {
   "cell_type": "markdown",
   "metadata": {},
   "source": [
    "There are lots of comparison operations and ways of performing logical combinations. \n",
    "\n",
    "| Symbol | Task Performed |\n",
    "|----|---|\n",
    "| == | True, if it is equal |\n",
    "| !=  | True, if not equal to |\n",
    "| < | less than |\n",
    "| > | greater than |\n",
    "| <=  | less than or equal to |\n",
    "| >=  | greater than or equal to |\n",
    "| `and` | true if both operands are true |\n",
    "| `or`  | true if either operand is true |\n",
    "| `is` | are the two objects the same |\n",
    "| `is not` | are the two objects different |\n",
    "\n",
    "\n",
    "Note the difference between `==` (equality test) and `=` (assignment). Also note that `==` is not the same as `is`, which tests if it is the same piece of memory, e.g.,"
   ]
  },
  {
   "cell_type": "code",
   "execution_count": 86,
   "metadata": {
    "collapsed": false
   },
   "outputs": [
    {
     "name": "stdout",
     "output_type": "stream",
     "text": [
      "True\n",
      "True\n",
      "True\n",
      "False\n"
     ]
    }
   ],
   "source": [
    "print(1 == 1) # True\n",
    "print(1 is 1) # True\n",
    "print(1.0 is 1.0) # True\n",
    "print((1.0+0.0) is 1.0) # False"
   ]
  },
  {
   "cell_type": "markdown",
   "metadata": {},
   "source": [
    "We can also add on extra cases to our if statement,"
   ]
  },
  {
   "cell_type": "code",
   "execution_count": 87,
   "metadata": {
    "collapsed": false
   },
   "outputs": [
    {
     "name": "stdout",
     "output_type": "stream",
     "text": [
      "Douglas adams detected\n"
     ]
    }
   ],
   "source": [
    "the_answer = 42\n",
    "if 0 < the_answer < 42:              # We can test ranges of values quite easily\n",
    "    print(\"Low answer universe\")\n",
    "elif the_answer == 42:               # We can have as many elif statements as we like\n",
    "    print(\"Douglas adams detected\")\n",
    "else:                                # but only one else statement per if\n",
    "    print(\"No sense of humor found\")"
   ]
  },
  {
   "cell_type": "markdown",
   "metadata": {},
   "source": [
    "Now is also a good time to summarise all the available mathematical operators\n",
    "\n",
    "| Symbol | Task Performed |\n",
    "|----|---|\n",
    "| +  | Addition |\n",
    "| -  | Subtraction |\n",
    "| /  | division |\n",
    "| %  | mod |\n",
    "| *  | multiplication |\n",
    "| //  | floor division |\n",
    "| **  | to the power of |"
   ]
  },
  {
   "cell_type": "markdown",
   "metadata": {},
   "source": [
    "## Part 01F - Functions\n",
    "\n",
    "Functions should be used to create small self-contained blocks of code with a defined purpose and sensible name. Functions can take many arguments (inputs) and return many values. For example,"
   ]
  },
  {
   "cell_type": "code",
   "execution_count": 17,
   "metadata": {
    "collapsed": false
   },
   "outputs": [
    {
     "name": "stdout",
     "output_type": "stream",
     "text": [
      "0.5\n"
     ]
    }
   ],
   "source": [
    "def my_divide(a, b):   # define a function which takes two arguments\n",
    "    return a / b         # return the division of them\n",
    "\n",
    "print(my_divide(1, 2))"
   ]
  },
  {
   "cell_type": "markdown",
   "metadata": {},
   "source": [
    "This function takes two arguments and returns one value. Just like the for loop, indentation is used to distinguish the body of the function from the main code.\n",
    "\n",
    "When we use this function, we can also say exactly the order in which we'd like to set arguments. E.g.,"
   ]
  },
  {
   "cell_type": "code",
   "execution_count": 20,
   "metadata": {
    "collapsed": false
   },
   "outputs": [
    {
     "name": "stdout",
     "output_type": "stream",
     "text": [
      "2.0\n"
     ]
    }
   ],
   "source": [
    "print(my_divide(b=1,a=2))"
   ]
  },
  {
   "cell_type": "markdown",
   "metadata": {},
   "source": [
    "These \"named\" arguments are known as keyword arguments.\n",
    "\n",
    "Let's start to look at more interesting functions that return multiple values. This is a function that returns the minimum and maximum of a container (e.g. a list),"
   ]
  },
  {
   "cell_type": "code",
   "execution_count": 89,
   "metadata": {
    "collapsed": false
   },
   "outputs": [
    {
     "name": "stdout",
     "output_type": "stream",
     "text": [
      "(None, None)\n",
      "(0, 9)\n"
     ]
    }
   ],
   "source": [
    "def min_max(sequence):\n",
    "    min_val = None       # None is a special value used to indicate \n",
    "    max_val = None       # a variable is empty.\n",
    "    if len(sequence) > 0:     # If we have some data in the sequence\n",
    "        min_val = sequence[0] # start by assuming the first data point\n",
    "        max_val = sequence[0] # is the min and max value.\n",
    "\n",
    "    # Now check all other data points if they are higher/lower\n",
    "    for data in sequence[1:]: # The slice skips the first element in the sequence. \n",
    "        min_val = min(data, min_val) \n",
    "        max_val = max(data, max_val)\n",
    "    \n",
    "    return min_val, max_val   # At the end of the loop return both values\n",
    "\n",
    "#Example usage\n",
    "print(min_max([])) # An empty container will return (None, None)\n",
    "print(min_max([1, 5, 9, 0, 2])) # Should return (0, 9)\n",
    "\n",
    "low, high = min_max([1, 5, 9, 0, 2]) # This is how you \"unpack\" multiple\n",
    "                                     # return types to use them more"
   ]
  },
  {
   "cell_type": "markdown",
   "metadata": {},
   "source": [
    "Quite a lot in that one, but it should mostly be self explanatory. One of the big challenges in programming is how to think in loops like this, but the best way to learn this is to see lots of examples.\n",
    "\n",
    "We should note that python of course already has built-in functions for the max and min elements of a sequence,"
   ]
  },
  {
   "cell_type": "code",
   "execution_count": 90,
   "metadata": {
    "collapsed": false
   },
   "outputs": [
    {
     "name": "stdout",
     "output_type": "stream",
     "text": [
      "0 9\n"
     ]
    }
   ],
   "source": [
    "seq = [1, 5, 9, 0, 2]\n",
    "maxval = max(seq)\n",
    "minval = min(seq)\n",
    "print(minval, maxval)"
   ]
  },
  {
   "cell_type": "markdown",
   "metadata": {},
   "source": [
    "## Part 01G - Tuples and unpacking\n",
    "\n",
    "Tuples are created most of the time when a comma is used in python (one exception is the comma in function calls), e.g., `return min_val, max_val` actually creates a tuple `min_val, max_val` and returns it. For example,"
   ]
  },
  {
   "cell_type": "code",
   "execution_count": 91,
   "metadata": {
    "collapsed": false
   },
   "outputs": [
    {
     "data": {
      "image/png": "[encoded data removed]",
      "text/latex": [
       "$$\\left ( 1, \\quad 2, \\quad 3\\right )$$"
      ],
      "text/plain": [
       "(1, 2, 3)"
      ]
     },
     "execution_count": 91,
     "metadata": {},
     "output_type": "execute_result"
    }
   ],
   "source": [
    "1,2,3"
   ]
  },
  {
   "cell_type": "markdown",
   "metadata": {},
   "source": [
    "The parenthesis `()` are used to indicate a tuple exactly like square brackets indicate a list. Tuples behave exactly like lists EXCEPT they're immutable, so their length is fixed. They're mainly used for returning values. The key advantage is we can unpack other sequences into them, e.g."
   ]
  },
  {
   "cell_type": "code",
   "execution_count": 92,
   "metadata": {
    "collapsed": false
   },
   "outputs": [
    {
     "name": "stdout",
     "output_type": "stream",
     "text": [
      "1 2\n"
     ]
    }
   ],
   "source": [
    "a,b = [1,2]\n",
    "print(a,b)"
   ]
  },
  {
   "cell_type": "markdown",
   "metadata": {},
   "source": [
    "Try unpacking too many/few values to get a new kind of error message."
   ]
  },
  {
   "cell_type": "markdown",
   "metadata": {},
   "source": [
    "## Part 01H - Dictionaries\n",
    "\n",
    "Dictionaries are the most important container in Python, because almost every type/object is a dictionary (well actually each object has a \\__dict\\__ attribute behind the scenes). They are mutable containers which store values using a key. The key can be almost anything, a number, a string, a list, etc. They are created using braces `{}`, e.g."
   ]
  },
  {
   "cell_type": "code",
   "execution_count": 15,
   "metadata": {
    "collapsed": false
   },
   "outputs": [
    {
     "name": "stdout",
     "output_type": "stream",
     "text": [
      "value\n",
      "5\n",
      "{'key': 'value', 1: 5, 'a_list': [1, 2, 3, 4], (32, 2): 'Even tuples are allowed as keys'}\n"
     ]
    }
   ],
   "source": [
    "my_dict = { #Create a dictionary with three entries/keys/values\n",
    "    \"key\": \"value\",\n",
    "    1: 5,\n",
    "    \"a_list\": [1,2,3,4],\n",
    "}\n",
    "\n",
    "print(my_dict[\"key\"])\n",
    "print(my_dict[1])\n",
    "#Uncomment this line to see the error!\n",
    "#print(my_dict['not_a_valid_key'])\n",
    "\n",
    "#We can also assign to dictionaries\n",
    "my_dict[(32,2)] = \"Even tuples are allowed as keys\"\n",
    "print(my_dict)"
   ]
  },
  {
   "cell_type": "markdown",
   "metadata": {},
   "source": [
    "Looping over dictionaries can be done in two ways,"
   ]
  },
  {
   "cell_type": "code",
   "execution_count": 94,
   "metadata": {
    "collapsed": false
   },
   "outputs": [
    {
     "name": "stdout",
     "output_type": "stream",
     "text": [
      "key -> value\n",
      "1 -> 5\n",
      "a_list -> [1, 2, 3, 4]\n",
      "(32, 2) -> Even tuples are allowed as keys\n",
      "\n",
      "### Slightly neater way\n",
      "key -> value\n",
      "1 -> 5\n",
      "a_list -> [1, 2, 3, 4]\n",
      "(32, 2) -> Even tuples are allowed as keys\n"
     ]
    }
   ],
   "source": [
    "for key in my_dict:\n",
    "    print(key, \"->\", my_dict[key])\n",
    "\n",
    "print(\"\\n### Slightly neater way\")  # \\n is a newline character\n",
    "for key, value in my_dict.items(): #Using unpacking we can get both the key and value at the same time!\n",
    "    print(key, \"->\", my_dict[key])    "
   ]
  },
  {
   "cell_type": "markdown",
   "metadata": {},
   "source": [
    "We will see later how dictionaries can be used to perform powerful sorting operations."
   ]
  },
  {
   "cell_type": "markdown",
   "metadata": {},
   "source": [
    "## Part 01I - importing other people's work\n",
    "\n",
    "Finally, we're nearly ready to work on examples. The last item is using python libraries. This is python's strongest point, it has libraries for nearly everthing (not quite antigravity yet though). For example, if we want to do some math using standard functions,"
   ]
  },
  {
   "cell_type": "code",
   "execution_count": 95,
   "metadata": {
    "collapsed": false
   },
   "outputs": [
    {
     "data": {
      "image/png": "[encoded data removed]",
      "text/latex": [
       "$$-0.1577456941432482$$"
      ],
      "text/plain": [
       "-0.1577456941432482"
      ]
     },
     "execution_count": 95,
     "metadata": {},
     "output_type": "execute_result"
    }
   ],
   "source": [
    "import math\n",
    "\n",
    "math.sin(3.3)"
   ]
  },
  {
   "cell_type": "markdown",
   "metadata": {},
   "source": [
    "Or if you want python to do your math homework"
   ]
  },
  {
   "cell_type": "code",
   "execution_count": 96,
   "metadata": {
    "collapsed": false
   },
   "outputs": [
    {
     "data": {
      "image/png": "[encoded data removed]",
      "text/latex": [
       "$$- 2 x \\sin{\\left (x^{2} \\right )} + e^{x}$$"
      ],
      "text/plain": [
       "         ⎛ 2⎞    x\n",
       "- 2⋅x⋅sin⎝x ⎠ + ℯ "
      ]
     },
     "execution_count": 96,
     "metadata": {},
     "output_type": "execute_result"
    }
   ],
   "source": [
    "import sympy as sp              #We can rename imported libraries\n",
    "from sympy import init_printing # Or just pull individual bits out.\n",
    "init_printing()                 # This gives us nice output for jupyter\n",
    "\n",
    "x = sp.symbols('x')   \n",
    "sp.diff(sp.cos(x*x)+sp.exp(x), x) #Take the derivative of cos(x^2)+e^x"
   ]
  },
  {
   "cell_type": "markdown",
   "metadata": {},
   "source": [
    "Or even make nice plots"
   ]
  },
  {
   "cell_type": "code",
   "execution_count": 97,
   "metadata": {
    "collapsed": false
   },
   "outputs": [
    {
     "data": {
      "image/png": "[encoded data removed]",
      "text/plain": [
       "<matplotlib.figure.Figure at 0x7f92dc5109b0>"
      ]
     },
     "metadata": {},
     "output_type": "display_data"
    }
   ],
   "source": [
    "import numpy.random\n",
    "y_data = []\n",
    "for i in range(100):\n",
    "    y_data.append(numpy.random.normal(0.0, 1.0))\n",
    "import pylab\n",
    "pylab.plot(y_data)\n",
    "pylab.show()"
   ]
  },
  {
   "cell_type": "markdown",
   "metadata": {},
   "source": [
    "Now we're ready to work on some problems!"
   ]
  }
 ],
 "metadata": {
  "kernelspec": {
   "display_name": "Python 3",
   "language": "python",
   "name": "python3"
  },
  "language_info": {
   "codemirror_mode": {
    "name": "ipython",
    "version": 3
   },
   "file_extension": ".py",
   "mimetype": "text/x-python",
   "name": "python",
   "nbconvert_exporter": "python",
   "pygments_lexer": "ipython3",
   "version": "3.6.3"
  }
 },
 "nbformat": 4,
 "nbformat_minor": 2
}
