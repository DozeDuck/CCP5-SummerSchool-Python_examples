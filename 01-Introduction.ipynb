{
 "cells": [
  {
   "cell_type": "markdown",
   "source": [
    "<center>\r\n",
    "<img src=\"https://imgs.xkcd.com/comics/python.png\"/><br/>\r\n",
    "<a href=\"https://imgs.xkcd.com/comics/python.png)\">XKCD comic #353</a>\r\n",
    "</center>\r\n",
    "\r\n",
    "There are many compiled programming languages out\r\n",
    "there: <b><i>C++, C, Fortran, ...</i></b>.<br/>  These\r\n",
    "are the heavyweight languages which are great for\r\n",
    "learning how to program \"properly\" (i.e. type safe) and\r\n",
    "are <em>fast</em>. But they are designed more for the\r\n",
    "computer (and speed of execution), not really for you (they do teach you how a computer \"thinks\" and will ultimately improve your programming skills if learnt completely).\r\n",
    "\r\n",
    "The interpreted languages: <b><i>python</i></b>, ruby,\r\n",
    "erlang, perl, gawk, bash, Java(ish)/javascript, go, MATLAB... are lightweight, designed to be as\r\n",
    "simple as possible for you; however, they are <em>slow</em> to execute but they can work out faster overall as they have many, many, libraries and examples saving you time programming.\r\n",
    "\r\n",
    "<b>Python</b> is general, powerful, popular and has a HUGE collection of libraries (see above). For example, python can perform symbolic manipulations like calculus just by importing the sympy library:"
   ],
   "metadata": {}
  },
  {
   "cell_type": "code",
   "execution_count": 2,
   "source": [
    "from sympy import * #Get everything out of sympy\r\n",
    "init_printing(use_latex='mathjax') # This gives us nice LaTeX output for jupyter\r\n",
    "x = symbols('x')\r\n",
    "diff(cos(x * x) + exp(x), x) #Take the derivative of cos(x^2)+e^x"
   ],
   "outputs": [
    {
     "output_type": "execute_result",
     "data": {
      "text/plain": [
       "         ⎛ 2⎞    x\n",
       "- 2⋅x⋅sin⎝x ⎠ + ℯ "
      ],
      "text/latex": [
       "$$- 2 x \\sin{\\left (x^{2} \\right )} + e^{x}$$"
      ]
     },
     "metadata": {},
     "execution_count": 2
    }
   ],
   "metadata": {
    "collapsed": false
   }
  },
  {
   "cell_type": "markdown",
   "source": [
    "Not quite antigravity but extremely useful for us scientific programmers. There's a lot to unpack in the code block above so we're going to take a step back and the notes below cover almost every aspect of programming (in python) from a fundamental level. We'll then look at more advanced usage in the later notes. Also, please let me know the problems YOU are working with and I can help you code and understand them during this course."
   ],
   "metadata": {}
  },
  {
   "cell_type": "markdown",
   "source": [
    "# Part 01 - Fast introduction to python and programming"
   ],
   "metadata": {}
  },
  {
   "cell_type": "markdown",
   "source": [
    "Learning to code is like learning to speak another language or play an instrument. There is no substitute for practice!\n",
    "\n",
    "In this set of notes, coding via python is demonstrated via example. You can (and must) edit and re-run the examples. These notes are more of a tour of python, pointing out its interesting bits, if you don't get off the bus and get stuck in it will just pass you by.\n",
    "\n",
    "This web page is a Jupyter notebook, which is a way of running python via the web which means we can skip all the usual set up troubles of installing and setting up python and get stuck in, but please try to [install python 3 (e.g. anaconda) on your own personal laptop/computer](00-Installing_python.ipynb) so you can work on python on your own in the future.\n",
    "\n",
    "These notes assume you are vaguely aware of the basics of programming, but not really comfortable with them. Some detail is skipped over so we can get to examples/problems in the next chapters quickly. You will have to \"google\" and ask questions when something is covered too quickly or incompletely.\n",
    "\n",
    "** Ultimately, you must learn to teach yourself programming! **\n",
    "\n",
    "You also need a purpose to drive you on. Pick a challenge for yourself, and we'll try to achieve it during the course. We're here because of your work, but you learn best when its your passion, so pick ANY problem that motivates you. For example, an effective way for many of my students to learn to code is [codingame.com](https://www.codingame.com). We could make a game, investigate stocks, solve rubik's cubes, etc.. Lets get started!\n",
    "\n",
    "## Basic investigation of code (`print()`, `help()`, `type()`) \n",
    "\n",
    "Computers follow programs line by line executing all commands in the order it finds them. They are incredibly dumb and get confused easily if instructions are vague. You will need to check what the computer is doing and so you need to get it to talk to you.\n",
    "\n",
    "For example, in python we can get the computer to write stuff on the screen using the print command."
   ],
   "metadata": {}
  },
  {
   "cell_type": "code",
   "execution_count": 1,
   "source": [
    "print(\"Hello world\")"
   ],
   "outputs": [
    {
     "output_type": "stream",
     "name": "stdout",
     "text": [
      "Hello world\n"
     ]
    }
   ],
   "metadata": {
    "collapsed": false
   }
  },
  {
   "cell_type": "markdown",
   "source": [
    "Hello world needs to be within either double (`\"`) or single (`'`) quotes (they're the same in python), as the computer needs to know that this a string of characters (aka str) and not the name of a variable or function (like `print`). We can print lots of things on the screen, not just strings/text; For example, we can ask print to write itself on the screen,"
   ],
   "metadata": {}
  },
  {
   "cell_type": "code",
   "execution_count": 2,
   "source": [
    "print(print)"
   ],
   "outputs": [
    {
     "output_type": "stream",
     "name": "stdout",
     "text": [
      "<built-in function print>\n"
     ]
    }
   ],
   "metadata": {
    "collapsed": false
   }
  },
  {
   "cell_type": "markdown",
   "source": [
    "and what we get instead is a description of what the name print is. Lots of things have printable/string representations like this which are quite useful if we're wanting to check what a variable or function is later on. \n",
    "\n",
    "For completeness, there are two string conversions you can use: one is `str()` which gives you a human-readable string and is what `print()` uses, and the other is `repr()` which gives you an exact bit of python that lets you reproduce the object. The next bit of code tries to make this clear:"
   ],
   "metadata": {}
  },
  {
   "cell_type": "code",
   "execution_count": 23,
   "source": [
    "print('Hello')\r\n",
    "print(repr('Hello'))"
   ],
   "outputs": [
    {
     "output_type": "stream",
     "name": "stdout",
     "text": [
      "Hello\n",
      "'Hello'\n"
     ]
    }
   ],
   "metadata": {
    "collapsed": false
   }
  },
  {
   "cell_type": "markdown",
   "source": [
    "There are a couple of other really useful functions for figuring out what is going on. For example, `help()` prints to screen how to use an object (i.e. a function)"
   ],
   "metadata": {}
  },
  {
   "cell_type": "code",
   "execution_count": 25,
   "source": [
    "help(print)"
   ],
   "outputs": [
    {
     "output_type": "stream",
     "name": "stdout",
     "text": [
      "Help on built-in function print in module builtins:\n",
      "\n",
      "print(...)\n",
      "    print(value, ..., sep=' ', end='\\n', file=sys.stdout, flush=False)\n",
      "    \n",
      "    Prints the values to a stream, or to sys.stdout by default.\n",
      "    Optional keyword arguments:\n",
      "    file:  a file-like object (stream); defaults to the current sys.stdout.\n",
      "    sep:   string inserted between values, default a space.\n",
      "    end:   string appended after the last value, default a newline.\n",
      "    flush: whether to forcibly flush the stream.\n",
      "\n"
     ]
    }
   ],
   "metadata": {
    "collapsed": false
   }
  },
  {
   "cell_type": "markdown",
   "source": [
    "You can also ask what type or class something is using the `type()` function,"
   ],
   "metadata": {}
  },
  {
   "cell_type": "code",
   "execution_count": 4,
   "source": [
    "type(print)"
   ],
   "outputs": [
    {
     "output_type": "execute_result",
     "data": {
      "text/plain": [
       "builtin_function_or_method"
      ]
     },
     "metadata": {},
     "execution_count": 4
    }
   ],
   "metadata": {
    "collapsed": false
   }
  },
  {
   "cell_type": "markdown",
   "source": [
    "We should note that, unlike `help()`, `type()` and most other functions don't print out their result but instead returns an object; however, jupyter automatically prints the result of the last line of any code block, so we don't need a `print()` on the last line above. E.g.,"
   ],
   "metadata": {}
  },
  {
   "cell_type": "code",
   "execution_count": 1,
   "source": [
    "\"Not printed\"\r\n",
    "2+2 #The result 4 is also not printed\r\n",
    "1+1 #BTW everything after a hash/pound/# sign is ignored, so we use it for comments!\r\n",
    "import math #Here we load/import the math library, which has lots of useful math commands like sine\r\n",
    "math.sin(2) #Calculate sin(2), and this IS printed in jupyter as its the last line!"
   ],
   "outputs": [
    {
     "output_type": "execute_result",
     "data": {
      "text/plain": [
       "0.9092974268256817"
      ]
     },
     "metadata": {},
     "execution_count": 1
    }
   ],
   "metadata": {
    "collapsed": false
   }
  },
  {
   "cell_type": "markdown",
   "source": [
    "One last thing to note, python is case sensitive (e.g., `print` $\\neq$ `Print`), so you have to be careful with capitalisation! It also uses spaces (more on that later) so you need to be careful with that, in particular indentation."
   ],
   "metadata": {}
  },
  {
   "cell_type": "markdown",
   "source": [
    "## Variables, lists, comments, and mutability\n",
    "\n",
    "We often want to store things (objects) in memory. To track where we've put them we use variables. Variables in python are just \"names\" of objects in memory (so pointers in other languages like C++). They are not the objects themselve (or the memory they occupy) but you can usually treat them like they are.\n",
    "\n",
    "Lets tackle the worst part of python head on: What's confusing about variables in python is that their behaviour changes if the object(s) they are pointing to are `mutable` or `immutable`. For example, numbers and strings are immutable. This means that whenever something is done to them, a new object must be created. Any variables still pointing to the old object will remain unchanged.\n",
    "\n",
    "To better understand this, take a look at the following code,"
   ],
   "metadata": {}
  },
  {
   "cell_type": "code",
   "execution_count": 6,
   "source": [
    "a = 1     #a points to 1\r\n",
    "b = a     #b also points to the same 1, as python tries to save creating new objects.\r\n",
    "a += 1    #Add one to a, this must make a new number as integers are immutable\r\n",
    "print(a)  # a is now pointing to 2 (the new number)\r\n",
    "print(b)  # b is still pointing to 1"
   ],
   "outputs": [
    {
     "output_type": "stream",
     "name": "stdout",
     "text": [
      "2\n",
      "1\n"
     ]
    }
   ],
   "metadata": {
    "collapsed": false
   }
  },
  {
   "cell_type": "markdown",
   "source": [
    "Most programmers would assume that `b=a` copies the value of `a` into `b` but in fact `a` and `b` are just different names of the same object. Immutable objects generally don't cause suprises for the programmer who thinks a copy takes place, as if a change happens a new object is created at the point the change is made; However, mutable objects are very common as python avoids copying whenever possible (as its expensive) and they often lead to surprises!\n",
    "\n",
    "For example, python has `list`s for storing objects together in a particular order. `List`s are mutable, so this means that changes to a `list` will be reflected in all variables which point to that list."
   ],
   "metadata": {}
  },
  {
   "cell_type": "code",
   "execution_count": 7,
   "source": [
    "a = [1,2,3]   # a points to a new list with three elements\r\n",
    "b = a         # b points to the same list (no copying)\r\n",
    "a.append(4)   # we add 4 to the back of the list, but its the same list as b\r\n",
    "print(a)      \r\n",
    "print(b)      # both a and b now contain 4!"
   ],
   "outputs": [
    {
     "output_type": "stream",
     "name": "stdout",
     "text": [
      "[1, 2, 3, 4]\n",
      "[1, 2, 3, 4]\n"
     ]
    }
   ],
   "metadata": {
    "collapsed": false
   }
  },
  {
   "cell_type": "markdown",
   "source": [
    "What makes this confusing is that some operations will make a new list, and some will not!"
   ],
   "metadata": {}
  },
  {
   "cell_type": "code",
   "execution_count": 10,
   "source": [
    "a = [1,2,3]\r\n",
    "b = a\r\n",
    "a += [4,5,6] # addition in-place merges lists so the new list[4,5,6] is added to a and b\r\n",
    "b = a + [7] # only b will get 7, as the addition makes a new list, which b is pointed at\r\n",
    "print(a)\r\n",
    "print(b)"
   ],
   "outputs": [
    {
     "output_type": "stream",
     "name": "stdout",
     "text": [
      "[1, 2, 3, 4, 5, 6]\n",
      "[1, 2, 3, 4, 5, 6, 7]\n"
     ]
    }
   ],
   "metadata": {
    "collapsed": false
   }
  },
  {
   "cell_type": "markdown",
   "source": [
    "Operations like the second addition above can be tricky. Python first evaluates the right hand side of any assignment `=` operation.  The addition `a+[7]` is defined such that it creates a new list as its result. `b` is then pointed at the new list by the assignment `=`.\n",
    "\n",
    "So, in summary, immutable objects CANNOT change, thus any changes MUST result in a new object being created. Mutable objects CAN change/mutate, but they don't have to (e.g., `a+=[4,5,6]` versus `b=a+[7]` above). That ambiguity causes subtle programming errors, normally a sensible choice is made, but not always. \n",
    "\n",
    "I promise you, mutability is the worst part of python for a new programmer to understand. The rest is quite logical and even mutability is logical once you get used to it but we're not quite there yet. A general rule is that python avoids copying whenever its expensive, and that's most of the time, but will copy if not doing it would be unintuitive (e.g., `+=` should really modify in place, but `a+b` should create a new list, otherwise it which side should the addition change? `a` or `b`?)."
   ],
   "metadata": {}
  },
  {
   "cell_type": "markdown",
   "source": [
    "## Lists, slicing, and error messages\n",
    "\n",
    "Lists are very useful, we can store items, retrieve them, add them on etc."
   ],
   "metadata": {}
  },
  {
   "cell_type": "code",
   "execution_count": 9,
   "source": [
    "alist = [5,4,1,9]      # Create a list \r\n",
    "alist.append(6)        # Add an item to the back of the list\r\n",
    "print(alist)           # [5, 4, 1, 9, 6]\r\n",
    "alist.sort()           # Sort the list in-place\r\n",
    "print(alist)           # [1, 4, 5, 6, 9]\r\n",
    "print(alist.pop())     # returns and removes the last element (writes 9 to the screen)\r\n",
    "print(alist)           # [1, 4, 5, 6]\r\n",
    "print(alist[0])        # prints 1, the first element\r\n",
    "print(alist[-1])       # prints the last element (6)\r\n",
    "print(alist[-2])       # prints the second to last element 5\r\n",
    "alist[2] = \"Hello\"     # We can change items anywhere in the list, but mixed types may break sorting\r\n",
    "print(alist)           # [1, 4, 'Hello', 6]\r\n",
    "print(len(alist))      # The length of the list, 4"
   ],
   "outputs": [
    {
     "output_type": "stream",
     "name": "stdout",
     "text": [
      "[5, 4, 1, 9, 6]\n",
      "[1, 4, 5, 6, 9]\n",
      "9\n",
      "[1, 4, 5, 6]\n",
      "1\n",
      "6\n",
      "5\n",
      "[1, 4, 'Hello', 6]\n",
      "4\n"
     ]
    }
   ],
   "metadata": {
    "collapsed": false
   }
  },
  {
   "cell_type": "markdown",
   "source": [
    "What makes lists really powerful is the ability to slice them! You use colons to specify the `start:end:step` of the slice. If any are left blank, the defaults of `x[0:len(x):1]` are used where `len(x)` is a function that will return the length of a list `x`."
   ],
   "metadata": {}
  },
  {
   "cell_type": "code",
   "execution_count": 3,
   "source": [
    "a = [0,1,2,3,4,5,6,7,8,9]\r\n",
    "print(a[:])             # These first three are all equivalent\r\n",
    "print(a[::])            # As the defaults are used for any blank/missing entries\r\n",
    "print(a[0:len(a):1])    # [0,1,2,3,4,5,6,7,8,9] this is the default output as above\r\n",
    "print(a[0::2])          # [0, 2, 4, 6, 8] only the odd ones\r\n",
    "print(a[1::2])          # [0, 2, 4, 6, 8] only the even ones\r\n",
    "print(a[::-1])        # [9, 8, 7, 6, 5, 4, 3, 2, 1, 0]  reverse the list"
   ],
   "outputs": [
    {
     "output_type": "stream",
     "name": "stdout",
     "text": [
      "[0, 1, 2, 3, 4, 5, 6, 7, 8, 9]\n",
      "[0, 1, 2, 3, 4, 5, 6, 7, 8, 9]\n",
      "[0, 1, 2, 3, 4, 5, 6, 7, 8, 9]\n",
      "[0, 2, 4, 6, 8]\n",
      "[1, 3, 5, 7, 9]\n",
      "[9, 8, 7, 6, 5, 4, 3, 2, 1, 0]\n"
     ]
    }
   ],
   "metadata": {
    "collapsed": false
   }
  },
  {
   "cell_type": "markdown",
   "source": [
    "Slicing actually forms a new list (kinda, the objects inside the list aren't copied, a new list is made whose entries point at the same objects but in a different way), so you don't have to worry about mutability here with the list as its like a copy, but note, the items in the lists are still the same between both lists. \r\n",
    "\r\n",
    "Strings are also \"list-like\" (i.e., they are both `sequence`s) except they are immutable, so you cannot assign to them "
   ],
   "metadata": {}
  },
  {
   "cell_type": "code",
   "execution_count": 26,
   "source": [
    "print(\"Hello\"[0])   # prints 'H'\r\n",
    "print(\"Hello\"[::2]) # prints Hlo\r\n",
    "#Uncomment the next line to see the error!\r\n",
    "#\"Hello\"[0] = \"Y\"    #This fails"
   ],
   "outputs": [
    {
     "output_type": "stream",
     "name": "stdout",
     "text": [
      "H\n",
      "Hlo\n"
     ]
    }
   ],
   "metadata": {
    "collapsed": false
   }
  },
  {
   "cell_type": "markdown",
   "source": [
    "Great! Our first error message (if you uncommented and re-ran the cell). See how it tells you the line number (3) where the error is, and tells you the 'str' (string) object does not support assignment! Very useful. You will become an expert at understanding errors as you learn to program."
   ],
   "metadata": {}
  },
  {
   "cell_type": "markdown",
   "source": [
    "## `for` loops\n",
    "\n",
    "Unlike other programming languages, python for loops ALWAYS loop over the contents of a container (e.g. a list) or a generator (a dynamically generated list). For example,"
   ],
   "metadata": {}
  },
  {
   "cell_type": "code",
   "execution_count": 18,
   "source": [
    "for i in [1,2,3]:# A colon (:) at the end of a line  is always used to indicate a start of a separate block of code\r\n",
    "    print(i)     # Python uses whitespace (the indent) to denote a block of code\r\n",
    "    print(\"--\")  # This line is also part of the for loop as its also indented!"
   ],
   "outputs": [
    {
     "output_type": "stream",
     "name": "stdout",
     "text": [
      "1\n",
      "--\n",
      "2\n",
      "--\n",
      "3\n",
      "--\n"
     ]
    }
   ],
   "metadata": {
    "collapsed": false
   }
  },
  {
   "cell_type": "markdown",
   "source": [
    "The most common use of a `for` loop in other languages is to count with an index. Making a container of sequential indices is quite tedious by hand so there are some built-in functions which do the job, e.g. the `range()` function."
   ],
   "metadata": {}
  },
  {
   "cell_type": "code",
   "execution_count": 13,
   "source": [
    "for i in range(3):\r\n",
    "    print(i)"
   ],
   "outputs": [
    {
     "output_type": "stream",
     "name": "stdout",
     "text": [
      "0\n",
      "1\n",
      "2\n"
     ]
    }
   ],
   "metadata": {
    "collapsed": false
   }
  },
  {
   "cell_type": "markdown",
   "source": [
    "If you investigate `range()` by printing it, you'll find its not a list, but it can be converted to one and even sliced like one (it is also a sequence)."
   ],
   "metadata": {}
  },
  {
   "cell_type": "code",
   "execution_count": 14,
   "source": [
    "print(range(9))\r\n",
    "print(list(range(3)))"
   ],
   "outputs": [
    {
     "output_type": "stream",
     "name": "stdout",
     "text": [
      "range(0, 9)\n",
      "[0, 1, 2]\n"
     ]
    }
   ],
   "metadata": {
    "collapsed": false
   }
  },
  {
   "cell_type": "markdown",
   "source": [
    "This is because `range()` is a generator. Rather than make a list of numbers (and incur the cost in memory and time required to make the list) generators calculate the values as they are required. A good analogy is if I asked you to count to 100, you wouldn't bother to write them all down (make a list) you'd just remember the last number and add one each time (generate it) then tell it to me as you go along.\r\n",
    "\r\n",
    "This is the first example of \"duck\" typing in python based on the saying \"If it looks like a duck, quacks like a duck, then its a duck\". `range()` makes a generator, but this looks like a list, slices like a list, so it can be used like a list anywhere you need a list."
   ],
   "metadata": {}
  },
  {
   "cell_type": "markdown",
   "source": [
    "# `if` statements\n",
    "\n",
    "To have our code make decisions we need `if` statements. We need a logic statement to test, and then an action to carry out if the statement is true, e.g.,"
   ],
   "metadata": {}
  },
  {
   "cell_type": "code",
   "execution_count": 15,
   "source": [
    "if 1 + 1 == 2:\r\n",
    "    print(\"Mathematics works\")"
   ],
   "outputs": [
    {
     "output_type": "stream",
     "name": "stdout",
     "text": [
      "Mathematics works\n"
     ]
    }
   ],
   "metadata": {
    "collapsed": false
   }
  },
  {
   "cell_type": "markdown",
   "source": [
    "There are lots of comparison operations and ways of performing logical combinations. \n",
    "\n",
    "| Symbol | Task Performed |\n",
    "|----|---|\n",
    "| == | True, if it is equal |\n",
    "| !=  | True, if not equal to |\n",
    "| < | less than |\n",
    "| > | greater than |\n",
    "| <=  | less than or equal to |\n",
    "| >=  | greater than or equal to |\n",
    "| `and` | true if both operands are true |\n",
    "| `or`  | true if either operand is true |\n",
    "| `is` | are the two objects the same |\n",
    "| `is not` | are the two objects different |\n",
    "\n",
    "\n",
    "Note the difference between `==` (equality test) and `=` (assignment). Also note that `==` is not the same as `is`, which tests if it is the same piece of memory, e.g.,"
   ],
   "metadata": {}
  },
  {
   "cell_type": "code",
   "execution_count": 28,
   "source": [
    "print(1 == 1) # True, of course\r\n",
    "print(1 is 1) # True, python tends to make sure all constants (typed into the code) are the same object\r\n",
    "print(1.0 is 1.0) # True, same reason as above\r\n",
    "print((1.0+0.0) is 1.0) # False, the addition creates a new object as its immutable, python doesn't check if\r\n",
    "                        # newly generated values already exist."
   ],
   "outputs": [
    {
     "output_type": "stream",
     "name": "stdout",
     "text": [
      "True\n",
      "True\n",
      "True\n",
      "False\n"
     ]
    }
   ],
   "metadata": {
    "collapsed": false
   }
  },
  {
   "cell_type": "markdown",
   "source": [
    "We can also add on extra cases to our if statement,"
   ],
   "metadata": {}
  },
  {
   "cell_type": "code",
   "execution_count": 35,
   "source": [
    "the_answer = 42\r\n",
    "if 0 < the_answer < 42:              # We can test ranges of values quite easily\r\n",
    "    print(\"Low answer universe\")\r\n",
    "elif the_answer == 42:               # We can have as many elif statements as we like\r\n",
    "    print(\"Douglas adams detected\")\r\n",
    "else:                                # but only one else statement per if\r\n",
    "    print(\"No sense of humor found\") # This line is hard to get to given the code above"
   ],
   "outputs": [
    {
     "output_type": "stream",
     "name": "stdout",
     "text": [
      "Douglas adams detected\n"
     ]
    }
   ],
   "metadata": {
    "collapsed": false
   }
  },
  {
   "cell_type": "markdown",
   "source": [
    "Now is also a good time to summarise all the available mathematical operators, ask if you don't understand them.\n",
    "\n",
    "| Symbol | Task Performed |\n",
    "|----|---|\n",
    "| +  | Addition |\n",
    "| -  | Subtraction |\n",
    "| /  | division |\n",
    "| %  | modulus (think remainder of division) |\n",
    "| *  | multiplication |\n",
    "| //  | floor division (divide and round down) |\n",
    "| **  | to the power of |"
   ],
   "metadata": {}
  },
  {
   "cell_type": "markdown",
   "source": [
    "## Functions\n",
    "\n",
    "Functions should be used to create small self-contained blocks of code with a defined purpose and sensible name. Functions can take many arguments (inputs) and return many values. For example,"
   ],
   "metadata": {}
  },
  {
   "cell_type": "code",
   "execution_count": 18,
   "source": [
    "def my_divide(numerator, denominator):   # define a function which takes two arguments\r\n",
    "    return numerator / denominator       # return the division of them\r\n",
    "\r\n",
    "print(my_divide(1, 2))"
   ],
   "outputs": [
    {
     "output_type": "stream",
     "name": "stdout",
     "text": [
      "0.5\n"
     ]
    }
   ],
   "metadata": {
    "collapsed": false
   }
  },
  {
   "cell_type": "markdown",
   "source": [
    "This function takes two arguments and returns one value. Just like the for loop, indentation is used to distinguish the body of the function from the main code.\n",
    "\n",
    "We should keep in mind what the computer does when it sees a function. It reads the entire function into memory when it encounters the `def` keyword, but does not run the statements (body) of the function yet! When the function is later called, it calculates the value of its arguments, then runs the function. This is really important to get right when we talk about variable scope in the next set of notes.\n",
    "\n",
    "When we use a function, we can also say exactly the order in which we'd like to set arguments by using their names. E.g.,"
   ],
   "metadata": {}
  },
  {
   "cell_type": "code",
   "execution_count": 19,
   "source": [
    "print(my_divide(denominator = 1, numerator = 2))"
   ],
   "outputs": [
    {
     "output_type": "stream",
     "name": "stdout",
     "text": [
      "2.0\n"
     ]
    }
   ],
   "metadata": {
    "collapsed": false
   }
  },
  {
   "cell_type": "markdown",
   "source": [
    "Naming arguments like this is known as \"keyword arguments\", they must appear after any arguments not referred to by their keywords (called positional arguments). i.e.`my_divide(1, denominator=2)` is valid, but `my_divide(denominator=2, 1)` is not.\n",
    "\n",
    "We can also set default values for arguments when creating a function, for example,"
   ],
   "metadata": {}
  },
  {
   "cell_type": "code",
   "execution_count": 37,
   "source": [
    "def my_divide(numerator, denominator = 2):   \r\n",
    "    return numerator / denominator\r\n",
    "\r\n",
    "print(my_divide(1)) # Because we didn't give a denominator it will default to 2"
   ],
   "outputs": [
    {
     "output_type": "stream",
     "name": "stdout",
     "text": [
      "0.5\n"
     ]
    }
   ],
   "metadata": {
    "collapsed": false
   }
  },
  {
   "cell_type": "markdown",
   "source": [
    "The python way is to set sensible defaults for all arguments so it Just Works&reg;. When you write your own functions, try to follow this idea.\n",
    "\n",
    "Let's start to look at more interesting functions that return multiple values. This is a function that returns the minimum and maximum of a container (e.g. a list),"
   ],
   "metadata": {}
  },
  {
   "cell_type": "code",
   "execution_count": 39,
   "source": [
    "def min_max(sequence):\r\n",
    "    min_val = sequence[0] # start by assuming the first data point\r\n",
    "    max_val = sequence[0] # is the min and max value.\r\n",
    "    # Now check all other data points if they are higher/lower\r\n",
    "    for data in sequence[1:]: # The slice skips the first element in the sequence.\r\n",
    "        if data < min_val:\r\n",
    "            min_val = data\r\n",
    "        if data > max_val:\r\n",
    "            max_val = data\r\n",
    "    return min_val, max_val   # At the end of the loop return both values\r\n",
    "\r\n",
    "# We should write tests to make sure the code is working as expected (and keep them\r\n",
    "# just to check in future if we change the code).\r\n",
    "assert(min_max([1, 5, 9, 0, 2]) == (0,9))\r\n",
    "\r\n",
    "#We can unpack the two return values\r\n",
    "minval, maxval = min_max([1, 5, 9, 0, 2])\r\n",
    "\r\n",
    "#What happens if we pass an empty list?\r\n",
    "#min_max([])"
   ],
   "outputs": [],
   "metadata": {
    "collapsed": false
   }
  },
  {
   "cell_type": "markdown",
   "source": [
    "Quite a lot in that one, but it should mostly be self explanatory. One of the big challenges in programming is how to think in loops like this, but the best way to learn this is to see lots of examples.\n",
    "\n",
    "This is not \"good code\" as it does not handle \"edge cases\" where unexpected input is passed, like empty length lists, in a sensible way. When you are a good programmer, you will guess what crazy ways you might accidentally use your code in advance, and make sure your code does something sensible when they do it, or raises a sensible error (more later). As another example, what happens if someone doesn't pass a list at all, but a single number?\n",
    "\n",
    "We should note that python of course already has built-in functions for the max and min elements of a sequence,"
   ],
   "metadata": {}
  },
  {
   "cell_type": "code",
   "execution_count": 51,
   "source": [
    "seq = [1, 5, 9, 0, 2]\r\n",
    "print(max(seq), min(seq)) #Print can take more than one object at a time."
   ],
   "outputs": [
    {
     "output_type": "stream",
     "name": "stdout",
     "text": [
      "9 0\n"
     ]
    }
   ],
   "metadata": {
    "collapsed": false
   }
  },
  {
   "cell_type": "markdown",
   "source": [
    "The built-in functions should always be used when available as they are usually \"great\" bits of code which give you all the warnings you need if you use it wrong, and can be significantly faster. Try passing in things like empty lists or single numbers into the built-in `min`/`max` functions to see how they handle it."
   ],
   "metadata": {}
  },
  {
   "cell_type": "markdown",
   "source": [
    "## Tuples and unpacking\n",
    "\n",
    "Tuples are created most of the time when a comma is used in python, e.g., `return min_val, max_val` actually creates a tuple `min_val, max_val` and returns it. For example,"
   ],
   "metadata": {}
  },
  {
   "cell_type": "code",
   "execution_count": 47,
   "source": [
    "1, 2, 3"
   ],
   "outputs": [
    {
     "output_type": "execute_result",
     "data": {
      "text/plain": [
       "(1, 2, 3)"
      ],
      "image/png": "[encoded data removed]",
      "text/latex": [
       "$$\\left ( 1, \\quad 2, \\quad 3\\right )$$"
      ]
     },
     "metadata": {},
     "execution_count": 47
    }
   ],
   "metadata": {
    "collapsed": false
   }
  },
  {
   "cell_type": "markdown",
   "source": [
    "The parenthesis `()` are used to indicate a tuple exactly like square brackets indicate a list. Tuples behave exactly like lists EXCEPT they're immutable, so their length is fixed. They're mainly used for returning values. The key advantage is we can unpack other sequences into them, e.g."
   ],
   "metadata": {}
  },
  {
   "cell_type": "code",
   "execution_count": 48,
   "source": [
    "a,b = [1,2]\r\n",
    "print(a)\r\n",
    "print(b)"
   ],
   "outputs": [
    {
     "output_type": "stream",
     "name": "stdout",
     "text": [
      "1\n",
      "2\n"
     ]
    }
   ],
   "metadata": {
    "collapsed": false
   }
  },
  {
   "cell_type": "markdown",
   "source": [
    "Exercise: Try unpacking too many/few values to get a new kind of error message. Really, do this, now. You need to become an expert at understanding errors when you're learning. The errors are trying to help you fix the problems you will make by not understanding, so get used to them by seeing errors you understand first."
   ],
   "metadata": {}
  },
  {
   "cell_type": "markdown",
   "source": [
    "## Dictionaries\n",
    "\n",
    "Dictionaries are the most important container in Python, because almost every type/object is a dictionary (to be precise, each object has a \\__dict\\__ attribute which is used to look up all other attributes). Dictionaries are mutable containers which store values using a key. The key can be almost anything, a number, a string, a list, etc. They are created using braces `{}`, e.g."
   ],
   "metadata": {}
  },
  {
   "cell_type": "code",
   "execution_count": 52,
   "source": [
    "my_dict = { #Create a dictionary with three entries/keys/values\r\n",
    "    \"key\": \"value\",\r\n",
    "    1: 5,\r\n",
    "    \"a_list\": [1,2,3,4],\r\n",
    "}\r\n",
    "\r\n",
    "print(my_dict[\"key\"])  # prints value\r\n",
    "print(my_dict[1])      # prints 5\r\n",
    "#Uncomment this line to see an error!\r\n",
    "#print(my_dict['not_a_valid_key'])\r\n",
    "\r\n",
    "#We can also assign to dictionaries\r\n",
    "my_dict[(32,2)] = \"Even tuples are allowed as keys\"\r\n",
    "print(my_dict) #writes out the whole dictionary\r\n",
    "\r\n",
    "my_dict[\"Hello\"] = print\r\n",
    "\r\n",
    "my_dict[\"Hello\"](\"What happened here? Question for the class to unpick\")"
   ],
   "outputs": [
    {
     "output_type": "stream",
     "name": "stdout",
     "text": [
      "value\n",
      "5\n",
      "{1: 5, 'key': 'value', (32, 2): 'Even tuples are allowed as keys', 'a_list': [1, 2, 3, 4]}\n",
      "What happened here? Question for the class to unpick\n"
     ]
    }
   ],
   "metadata": {
    "collapsed": false
   }
  },
  {
   "cell_type": "markdown",
   "source": [
    "Looping over dictionaries can be done in two ways,"
   ],
   "metadata": {}
  },
  {
   "cell_type": "code",
   "execution_count": 53,
   "source": [
    "for key in my_dict:\r\n",
    "    print(key, \"->\", my_dict[key])\r\n",
    "\r\n",
    "print(\"\\n### Slightly neater way\")  # \\n is a newline character, print automatically puts one at the end\r\n",
    "for key, value in my_dict.items(): #Using unpacking we can get both the key and value at the same time!\r\n",
    "    print(key, \"->\", value) "
   ],
   "outputs": [
    {
     "output_type": "stream",
     "name": "stdout",
     "text": [
      "1 -> 5\n",
      "Hello -> <built-in function print>\n",
      "key -> value\n",
      "(32, 2) -> Even tuples are allowed as keys\n",
      "a_list -> [1, 2, 3, 4]\n",
      "\n",
      "### Slightly neater way\n",
      "1 -> 5\n",
      "Hello -> <built-in function print>\n",
      "key -> value\n",
      "(32, 2) -> Even tuples are allowed as keys\n",
      "a_list -> [1, 2, 3, 4]\n"
     ]
    }
   ],
   "metadata": {
    "collapsed": false
   }
  },
  {
   "cell_type": "markdown",
   "source": [
    "We will see later how dictionaries can be used to perform powerful operations."
   ],
   "metadata": {}
  },
  {
   "cell_type": "markdown",
   "source": [
    "## `import`ing other people's work\r\n",
    "\r\n",
    "Finally, we're nearly ready to work on examples. The last item is using python libraries. This is python's strongest point, it has libraries for nearly everthing. For example, if you want python to do your math homework:"
   ],
   "metadata": {}
  },
  {
   "cell_type": "code",
   "execution_count": 3,
   "source": [
    "import sympy as sp              # We can rename imported libraries\r\n",
    "from sympy import init_printing # Or just pull individual bits out.\r\n",
    "init_printing(use_latex='mathjax')                 # This gives us nice LaTeX output for jupyter\r\n",
    "\r\n",
    "x = sp.symbols('x')   \r\n",
    "sp.diff(sp.cos(x*x)+sp.exp(x), x) #Take the derivative of cos(x^2)+e^x"
   ],
   "outputs": [
    {
     "output_type": "execute_result",
     "data": {
      "text/plain": [
       "         ⎛ 2⎞    x\n",
       "- 2⋅x⋅sin⎝x ⎠ + ℯ "
      ],
      "text/latex": [
       "$$- 2 x \\sin{\\left (x^{2} \\right )} + e^{x}$$"
      ]
     },
     "metadata": {},
     "execution_count": 3
    }
   ],
   "metadata": {
    "collapsed": false
   }
  },
  {
   "cell_type": "markdown",
   "source": [
    "Or make nice plots of random data"
   ],
   "metadata": {}
  },
  {
   "cell_type": "code",
   "execution_count": 7,
   "source": [
    "import numpy.random\r\n",
    "\r\n",
    "y_data = []\r\n",
    "for i in range(100):\r\n",
    "    y_data.append(numpy.random.normal(0.0, 1.0))\r\n",
    "\r\n",
    "import pylab\r\n",
    "pylab.plot(y_data)\r\n",
    "pylab.show()"
   ],
   "outputs": [
    {
     "output_type": "display_data",
     "data": {
      "text/plain": [
       "<matplotlib.figure.Figure at 0x7fa7b4024ef0>"
      ],
      "image/png": "[encoded data removed]"
     },
     "metadata": {}
    }
   ],
   "metadata": {
    "collapsed": false
   }
  },
  {
   "cell_type": "markdown",
   "source": [
    "We can also just pull everything from a library into our current scope,"
   ],
   "metadata": {}
  },
  {
   "cell_type": "code",
   "execution_count": 1,
   "source": [
    "import math\r\n",
    "print(math.sin(2))\r\n",
    "#print(sin(2))      <- Would give an error\r\n",
    "from math import *\r\n",
    "print(sin(2))      #<- Fine now"
   ],
   "outputs": [
    {
     "output_type": "stream",
     "name": "stdout",
     "text": [
      "0.9092974268256817\n",
      "0.9092974268256817\n"
     ]
    }
   ],
   "metadata": {
    "collapsed": false
   }
  },
  {
   "cell_type": "markdown",
   "source": [
    "So why not pull everything from libraries all the time? You want to keep your scope as clean and explicit as possible so you know where the code you're running is coming from.\n",
    "\n",
    "Now we're ready to work on some problems and explore this scope thing a little more carefuly."
   ],
   "metadata": {}
  }
 ],
 "metadata": {
  "kernelspec": {
   "display_name": "Python 3",
   "language": "python",
   "name": "python3"
  },
  "language_info": {
   "codemirror_mode": {
    "name": "ipython",
    "version": 3
   },
   "file_extension": ".py",
   "mimetype": "text/x-python",
   "name": "python",
   "nbconvert_exporter": "python",
   "pygments_lexer": "ipython3",
   "version": "3.5.3"
  }
 },
 "nbformat": 4,
 "nbformat_minor": 2
}