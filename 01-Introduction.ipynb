{
 "cells": [
  {
   "cell_type": "markdown",
   "metadata": {},
   "source": [
    "Learning to code is like learning to speak another language or play an instrument. There is no substitute for practice!\n",
    "\n",
    "In this set of notes, coding via python is demonstrated via example. You can (and should) edit and run the examples. This is Jupyter, a way of running python via the web which means we can skip all the set up, but please try to install python 3 (e.g. anaconda) on your own personal laptop/computer for the practice sessions and for the future.\n",
    "\n",
    "\n",
    "# Part 01A - Basic investigation of code (print(), help(), type()) \n",
    "\n",
    "Computers follow programs line by line, hopping from one line to another and executing all commands it finds. They are incredibly dumb and get confused easily if instructions are vague. You usually need to check what the computer is doing, and so you need to get it to talk to you.\n",
    "\n",
    "For example, in python we can get the computer to write stuff on the screen using the print command."
   ]
  },
  {
   "cell_type": "code",
   "execution_count": 27,
   "metadata": {
    "collapsed": false
   },
   "outputs": [
    {
     "name": "stdout",
     "output_type": "stream",
     "text": [
      "Hello world\n"
     ]
    }
   ],
   "source": [
    "print(\"Hello world\")"
   ]
  },
  {
   "cell_type": "markdown",
   "metadata": {},
   "source": [
    "Hello world needs to be within either double (\") or single (') quotes, as the computer needs to know that this is not the name of a variable or function (like print), but a string of characters (aka string for short). For example, we can ask print to write itself on the screen,"
   ]
  },
  {
   "cell_type": "code",
   "execution_count": 28,
   "metadata": {
    "collapsed": false
   },
   "outputs": [
    {
     "name": "stdout",
     "output_type": "stream",
     "text": [
      "<built-in function print>\n"
     ]
    }
   ],
   "source": [
    "print(print)"
   ]
  },
  {
   "cell_type": "markdown",
   "metadata": {},
   "source": [
    "and what we get instead is a description of what print is. Lots of things have string representations like this which are quite useful if we're wanting to check what a variable or function is later on. \n",
    "\n",
    "There are a couple of other really useful functions for figuring out what is going on. For example, help() prints to screen how to use a function,"
   ]
  },
  {
   "cell_type": "code",
   "execution_count": 29,
   "metadata": {
    "collapsed": false
   },
   "outputs": [
    {
     "name": "stdout",
     "output_type": "stream",
     "text": [
      "Help on built-in function print in module builtins:\n",
      "\n",
      "print(...)\n",
      "    print(value, ..., sep=' ', end='\\n', file=sys.stdout, flush=False)\n",
      "    \n",
      "    Prints the values to a stream, or to sys.stdout by default.\n",
      "    Optional keyword arguments:\n",
      "    file:  a file-like object (stream); defaults to the current sys.stdout.\n",
      "    sep:   string inserted between values, default a space.\n",
      "    end:   string appended after the last value, default a newline.\n",
      "    flush: whether to forcibly flush the stream.\n",
      "\n"
     ]
    }
   ],
   "source": [
    "help(print)"
   ]
  },
  {
   "cell_type": "markdown",
   "metadata": {},
   "source": [
    "You can also ask what type or class something is using the type() command,"
   ]
  },
  {
   "cell_type": "code",
   "execution_count": 30,
   "metadata": {
    "collapsed": false
   },
   "outputs": [
    {
     "name": "stdout",
     "output_type": "stream",
     "text": [
      "<class 'builtin_function_or_method'>\n"
     ]
    }
   ],
   "source": [
    "print(type(print))"
   ]
  },
  {
   "cell_type": "markdown",
   "metadata": {},
   "source": [
    "We need print here as type doesn't print to screen, but instead returns a type object, but more on that later!"
   ]
  },
  {
   "cell_type": "markdown",
   "metadata": {},
   "source": [
    "# Part 01B - Variables, lists, and mutability\n",
    "\n",
    "We often want to store things (objects) in memory. To track where we've put them we use variables. Variables in python are just pointers to objects in memory, they are not the objects themselves but you can almost treat them like they are.\n",
    "\n",
    "What's confusing about variables in python is that some objects are mutable, and some are immutable. For example, numbers (integers) are immutable. This means that whenever something is done to the object, a new object must be created.\n",
    "\n",
    "To better understand this, take a look at the following code"
   ]
  },
  {
   "cell_type": "code",
   "execution_count": 31,
   "metadata": {
    "collapsed": false
   },
   "outputs": [
    {
     "name": "stdout",
     "output_type": "stream",
     "text": [
      "2\n",
      "1\n"
     ]
    }
   ],
   "source": [
    "a = 1\n",
    "b = a\n",
    "a += 1\n",
    "print(a)\n",
    "print(b)"
   ]
  },
  {
   "cell_type": "markdown",
   "metadata": {},
   "source": [
    "This makes sense. We expect b to copy the number 1 from the variable a, so that when a changes it gets a new value and b does not change. This is typical of immutable objects.\n",
    "\n",
    "Python has lists for storing lots of objects together. Lists are mutable, so this means that changes to a list will be reflected in all variables pointing to that list."
   ]
  },
  {
   "cell_type": "code",
   "execution_count": 32,
   "metadata": {
    "collapsed": false
   },
   "outputs": [
    {
     "name": "stdout",
     "output_type": "stream",
     "text": [
      "[1, 2, 3, 4, 5, 6]\n",
      "[1, 2, 3, 4, 5, 6]\n"
     ]
    }
   ],
   "source": [
    "a = [1,2,3]\n",
    "b = a\n",
    "a += [4,5,6]\n",
    "print(a)\n",
    "print(b)"
   ]
  },
  {
   "cell_type": "markdown",
   "metadata": {},
   "source": [
    "The only way to avoid this is to force python to make a new list when assigning it to b,"
   ]
  },
  {
   "cell_type": "code",
   "execution_count": 33,
   "metadata": {
    "collapsed": false
   },
   "outputs": [
    {
     "name": "stdout",
     "output_type": "stream",
     "text": [
      "[1, 2, 3, 4, 5, 6]\n",
      "[1, 2, 3]\n"
     ]
    }
   ],
   "source": [
    "a = [1,2,3]\n",
    "b = list(a)\n",
    "a += [4,5,6]\n",
    "print(a)\n",
    "print(b)"
   ]
  },
  {
   "cell_type": "markdown",
   "metadata": {},
   "source": [
    "I promise you, this is the worst part of python to understand. The rest is quite logical and even mutability is logical once you get used to it."
   ]
  },
  {
   "cell_type": "markdown",
   "metadata": {},
   "source": [
    "# Part 01C - Flow control (if, for, while)\n",
    "\n"
   ]
  },
  {
   "cell_type": "code",
   "execution_count": null,
   "metadata": {
    "collapsed": true
   },
   "outputs": [],
   "source": []
  }
 ],
 "metadata": {
  "kernelspec": {
   "display_name": "Python 3",
   "language": "python",
   "name": "python3"
  },
  "language_info": {
   "codemirror_mode": {
    "name": "ipython",
    "version": 3
   },
   "file_extension": ".py",
   "mimetype": "text/x-python",
   "name": "python",
   "nbconvert_exporter": "python",
   "pygments_lexer": "ipython3",
   "version": "3.6.3"
  }
 },
 "nbformat": 4,
 "nbformat_minor": 2
}
