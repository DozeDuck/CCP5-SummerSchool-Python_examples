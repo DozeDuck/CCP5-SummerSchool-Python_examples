{
 "cells": [
  {
   "cell_type": "markdown",
   "source": [
    "# Part 03 - Calculating $\\pi$\n",
    "\n",
    "We often take constants such as $\\pi$ and functions such as $\\sin$ and $\\log$ for granted. We have them in our calculators and computers, but if we were stuck in the wilderness, trying to triangulate our position or solve a tricky math problem to impress the natives, could we recreate them with just basic multiplication, addition, and subtraction?\n",
    "\n",
    "Here we're going to try to calculate $\\pi$. We assume we can multiply and create random numbers (maybe by dropping stones at random on a grid, or rolling a dice, or flipping a coin, see the end of these notes how to turn this into fractional numbers) but that's it!\n",
    "\n",
    "We need some simple system that contains $\\pi$ to measure it. To that end, consider a circle of radius 1 centered within a square of length 2, centered about the origin,"
   ],
   "metadata": {
    "slideshow": {
     "slide_type": "-"
    }
   }
  },
  {
   "cell_type": "code",
   "execution_count": 1,
   "source": [
    "import pylab #Get our plotting library loaded\r\n",
    "axis = pylab.gca() #Get the Current Axis (GCA) of the current figure\r\n",
    "axis.add_artist(pylab.Circle((0,0),1, fill=False)) #Draw a circle at 0,0 with radius 1\r\n",
    "axis.set_aspect('equal', 'box') # Give us a nice square plot\r\n",
    "pylab.xlim(-1,1) # set the limits of the plot to exactly around the circle\r\n",
    "pylab.ylim(-1,1) # ...\r\n",
    "pylab.show()"
   ],
   "outputs": [
    {
     "output_type": "error",
     "ename": "ModuleNotFoundError",
     "evalue": "No module named 'pylab'",
     "traceback": [
      "\u001b[1;31m---------------------------------------------------------------------------\u001b[0m",
      "\u001b[1;31mModuleNotFoundError\u001b[0m                       Traceback (most recent call last)",
      "\u001b[1;32m~\\AppData\\Local\\Temp/ipykernel_516/558446482.py\u001b[0m in \u001b[0;36m<module>\u001b[1;34m\u001b[0m\n\u001b[1;32m----> 1\u001b[1;33m \u001b[1;32mimport\u001b[0m \u001b[0mpylab\u001b[0m \u001b[1;31m#Get our plotting library loaded\u001b[0m\u001b[1;33m\u001b[0m\u001b[1;33m\u001b[0m\u001b[0m\n\u001b[0m\u001b[0;32m      2\u001b[0m \u001b[0maxis\u001b[0m \u001b[1;33m=\u001b[0m \u001b[0mpylab\u001b[0m\u001b[1;33m.\u001b[0m\u001b[0mgca\u001b[0m\u001b[1;33m(\u001b[0m\u001b[1;33m)\u001b[0m \u001b[1;31m#Get the Current Axis (GCA) of the current figure\u001b[0m\u001b[1;33m\u001b[0m\u001b[1;33m\u001b[0m\u001b[0m\n\u001b[0;32m      3\u001b[0m \u001b[0maxis\u001b[0m\u001b[1;33m.\u001b[0m\u001b[0madd_artist\u001b[0m\u001b[1;33m(\u001b[0m\u001b[0mpylab\u001b[0m\u001b[1;33m.\u001b[0m\u001b[0mCircle\u001b[0m\u001b[1;33m(\u001b[0m\u001b[1;33m(\u001b[0m\u001b[1;36m0\u001b[0m\u001b[1;33m,\u001b[0m\u001b[1;36m0\u001b[0m\u001b[1;33m)\u001b[0m\u001b[1;33m,\u001b[0m\u001b[1;36m1\u001b[0m\u001b[1;33m,\u001b[0m \u001b[0mfill\u001b[0m\u001b[1;33m=\u001b[0m\u001b[1;32mFalse\u001b[0m\u001b[1;33m)\u001b[0m\u001b[1;33m)\u001b[0m \u001b[1;31m#Draw a circle at 0,0 with radius 1\u001b[0m\u001b[1;33m\u001b[0m\u001b[1;33m\u001b[0m\u001b[0m\n\u001b[0;32m      4\u001b[0m \u001b[0maxis\u001b[0m\u001b[1;33m.\u001b[0m\u001b[0mset_aspect\u001b[0m\u001b[1;33m(\u001b[0m\u001b[1;34m'equal'\u001b[0m\u001b[1;33m,\u001b[0m \u001b[1;34m'box'\u001b[0m\u001b[1;33m)\u001b[0m \u001b[1;31m# Give us a nice square plot\u001b[0m\u001b[1;33m\u001b[0m\u001b[1;33m\u001b[0m\u001b[0m\n\u001b[0;32m      5\u001b[0m \u001b[0mpylab\u001b[0m\u001b[1;33m.\u001b[0m\u001b[0mxlim\u001b[0m\u001b[1;33m(\u001b[0m\u001b[1;33m-\u001b[0m\u001b[1;36m1\u001b[0m\u001b[1;33m,\u001b[0m\u001b[1;36m1\u001b[0m\u001b[1;33m)\u001b[0m \u001b[1;31m# set the limits of the plot to exactly around the circle\u001b[0m\u001b[1;33m\u001b[0m\u001b[1;33m\u001b[0m\u001b[0m\n",
      "\u001b[1;31mModuleNotFoundError\u001b[0m: No module named 'pylab'"
     ]
    }
   ],
   "metadata": {
    "collapsed": false,
    "slideshow": {
     "slide_type": "-"
    }
   }
  },
  {
   "cell_type": "markdown",
   "source": [
    "If we generate two random numbers between [-1,+1], and use them as coordinates on the graph above, what is the probability it will land in the circle?\n",
    "\n",
    "This is just the ratio of the area of the circle, $\\pi\\,r^2 = \\pi$, to the area of the square, $2^2=4$,\n",
    "$$P = \\frac{\\pi}{4}$$\n",
    "\n",
    "How can we work out if a point is inside the circle or not? Well, the equation of a circle is as follows:\n",
    "$$R^2 = x^2+y^2$$\n",
    "For the point to be inside the circle we must have:\n",
    "$$x^2+y^2 < R^2$$\n",
    "\n",
    "So our algorithm is clear:\n",
    "\n",
    "1. Generate a pair of random numbers, $x\\in[-1,+1]$ and $y\\in[-1,+1]$.\n",
    "2. if $x^2+y^2 < R^2$, then increment our counter for how many landed in, $N_{in}$.\n",
    "3. Always increment the number of tries $N_{tru}$.\n",
    "4. Calculate the new estimate of $\\pi$ as $4\\,N_{in}/N_{try}$.\n",
    "5. If the maximum number of samples has been reached, then stop, otherwise goto 1.\n",
    "\n",
    "Try implementing this yourself below!"
   ],
   "metadata": {}
  },
  {
   "cell_type": "code",
   "execution_count": null,
   "source": [
    "#Delete the code below and give it a go! The code is here if you want to cheat\r\n",
    "\r\n",
    "import random\r\n",
    "\r\n",
    "def circle_drop_test():\r\n",
    "    #Here I make a function to scope-out x and y\r\n",
    "    x = random.uniform(-1,1) # A number chosen at random and uniformly from the range [-1,+1]\r\n",
    "    y = random.uniform(-1,1) # ...\r\n",
    "    return x**2 + y**2 < 1\r\n",
    "\r\n",
    "def piCalc(ntests):\r\n",
    "    counter=0\r\n",
    "    for i in range(ntests):\r\n",
    "        if circle_drop_test():\r\n",
    "            counter += 1\r\n",
    "    return 4 * counter / ntests\r\n",
    "\r\n",
    "results=[]\r\n",
    "running_sum=0\r\n",
    "counter=0\r\n",
    "for i in range(50):\r\n",
    "    running_sum += piCalc(1000)\r\n",
    "    counter += 1\r\n",
    "    results.append(running_sum / counter)\r\n",
    "\r\n",
    "%matplotlib inline\r\n",
    "pylab.plot(results)"
   ],
   "outputs": [
    {
     "output_type": "execute_result",
     "data": {
      "text/plain": [
       "[<matplotlib.lines.Line2D at 0x7fb6a4249eb8>]"
      ]
     },
     "metadata": {},
     "execution_count": 3
    },
    {
     "output_type": "display_data",
     "data": {
      "text/plain": [
       "<matplotlib.figure.Figure at 0x7fb6a42d59e8>"
      ],
      "image/png": "[encoded data removed]"
     },
     "metadata": {}
    }
   ],
   "metadata": {
    "collapsed": false
   }
  },
  {
   "cell_type": "markdown",
   "source": [
    "Try running the code multiple times... What is happening with the output? This is actually a Monte Carlo simulation and will be covered in the main course!"
   ],
   "metadata": {}
  },
  {
   "cell_type": "markdown",
   "source": [
    "## Extra credit\r\n",
    "\r\n",
    "1. Do we need to generate pairs in the range $[-1,1]$. Is there any symmetry we can use to generate them in a smaller range?\r\n",
    "2. Plot the convergence of the estimate towards $\\pi$ every 1k samples. How fast is it converging? Restart the calculations repeatedly to get the standard deviation of the predicted value of $\\pi$ after every 1k samples. How fast does the standard deviation reduce with the sample count?\r\n",
    "4. Do we need random numbers? Adapt the code to use a regular grid of numbers and compare.\r\n",
    "5. This is actually a Monte Carlo integration of the following integral $$ \\frac{\\pi}{4}=\\frac{\\iint_{-1}^{+1} \\Theta\\left(1-x^2-y^2\\right) {\\rm d}x\\,{\\rm d}y}{\\iint_{-1}^{+1}{\\rm d}x\\,{\\rm d}y}$$ where the bottom integral is just the area of the square (4). This is an example of how Monte Carlo integration using random numbers can solve quite difficult integrals, and Monte Carlo will be covered later in the main course. Try writing a \"normal\" grid based integration to see if that's more complex, and to see what its performance is like compared to Monte Carlo."
   ],
   "metadata": {}
  },
  {
   "cell_type": "markdown",
   "source": [
    "# Extra: Generating fractional random numbers\r\n",
    "\r\n",
    "Lets assume a computer can generate a single random bit (0 or 1) at a time by flipping a coin. How do we generate fractional random numbers?  \r\n",
    "The Han-Hoshi algorithm works by successively splitting an interval in half, then flipping a coin to decide which half to take. \r\n",
    "\r\n",
    "Lets take a look at a working example that generates values between 0 and 1:"
   ],
   "metadata": {
    "collapsed": true
   }
  },
  {
   "cell_type": "code",
   "execution_count": null,
   "source": [
    "import random\r\n",
    "\r\n",
    "def flip_a_coin():\r\n",
    "    return random.randint(0,1) == 1\r\n",
    "\r\n",
    "def random_01():\r\n",
    "    value = 0\r\n",
    "    for idx in range(1,10):\r\n",
    "        if flip_a_coin() == True:\r\n",
    "            value += 1.0 / (2**idx)\r\n",
    "    return value\r\n",
    "\r\n",
    "# Make a histogram of the values to see if they're evenly distributed over the range\r\n",
    "random_nums = []\r\n",
    "for count in range(0, 10000):\r\n",
    "    random_nums.append(random_01())\r\n",
    "    \r\n",
    "import pylab\r\n",
    "pylab.hist(random_nums, 50)\r\n",
    "pylab.show()"
   ],
   "outputs": [
    {
     "output_type": "display_data",
     "data": {
      "text/plain": [
       "<matplotlib.figure.Figure at 0x7f4a18963fd0>"
      ],
      "image/png": "[encoded data removed]"
     },
     "metadata": {}
    }
   ],
   "metadata": {
    "collapsed": false
   }
  },
  {
   "cell_type": "markdown",
   "source": [
    "## Extra credit\r\n",
    "\r\n",
    "- Try to rewrite the function to generate values in any range.\r\n",
    "- Significantly more challenging, try to generate random directions (unit vectors) and plot these in 3D to ensure that they cover the surface of a sphere evenly. Its expected that you will google the answer but write your own code and try to understand it!"
   ],
   "metadata": {
    "collapsed": true
   }
  },
  {
   "cell_type": "code",
   "execution_count": null,
   "source": [],
   "outputs": [],
   "metadata": {
    "collapsed": true
   }
  }
 ],
 "metadata": {
  "kernelspec": {
   "display_name": "Python 3",
   "language": "python",
   "name": "python3"
  },
  "language_info": {
   "codemirror_mode": {
    "name": "ipython",
    "version": 3
   },
   "file_extension": ".py",
   "mimetype": "text/x-python",
   "name": "python",
   "nbconvert_exporter": "python",
   "pygments_lexer": "ipython3",
   "version": "3.5.3"
  }
 },
 "nbformat": 4,
 "nbformat_minor": 2
}