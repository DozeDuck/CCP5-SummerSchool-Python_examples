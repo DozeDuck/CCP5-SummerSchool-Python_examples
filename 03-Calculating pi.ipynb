{
 "cells": [
  {
   "cell_type": "markdown",
   "metadata": {
    "slideshow": {
     "slide_type": "-"
    }
   },
   "source": [
    "# Part 03 - Calculating $\\pi$\n",
    "\n",
    "We often take constants such as $\\pi$ and functions such as $\\sin$ and $\\log$ for granted. We have them in our calculators and computers, but if we were stuck in the wilderness, trying to triangulate our position or solve a tricky math problem to impress the natives, could we recreate them with just basic multiplication, addition, and subtraction?\n",
    "\n",
    "Here we're going to try to calculate $\\pi$. We assume we can create random numbers (maybe by dropping stones at random on a grid, or rolling a dice, or flipping a coin), and multiply, but that's it!\n",
    "\n",
    "We need some simple system that contains $\\pi$. To that end, consider a circle of radius 1 centered within a square of length 2, centered about the origin,"
   ]
  },
  {
   "cell_type": "code",
   "execution_count": 1,
   "metadata": {
    "collapsed": false,
    "slideshow": {
     "slide_type": "-"
    }
   },
   "outputs": [
    {
     "data": {
      "image/png": "[encoded data removed]",
      "text/plain": [
       "<matplotlib.figure.Figure at 0x7fa190c55f98>"
      ]
     },
     "metadata": {},
     "output_type": "display_data"
    }
   ],
   "source": [
    "import pylab #Get our plotting library loaded\n",
    "axis = pylab.gca() #Get the Current Axis (GCA) of the current figure\n",
    "axis.add_artist(pylab.Circle((0,0),1, fill=False)) #Draw a circle at 0,0 with radius 1\n",
    "axis.set_aspect('equal', 'box') # Give us a nice square plot\n",
    "pylab.xlim(-1,1) # set the limits of the plot to exactly around the circle\n",
    "pylab.ylim(-1,1) # ...\n",
    "pylab.show()"
   ]
  },
  {
   "cell_type": "markdown",
   "metadata": {},
   "source": [
    "If we generate two random numbers between [-1,+1], and use them as coordinates on the graph above, what is the probability it will land in the circle?\n",
    "\n",
    "This is just the ratio of the area of the circle, $\\pi\\,r^2$, to the area of the square, $2^2=4$,\n",
    "$$P = \\frac{\\pi}{4}$$\n",
    "\n",
    "How can we work out if a point is inside the circle or not? Well, the equation of a circle is as follows:\n",
    "$$R^2 = x^2+y^2$$\n",
    "For the point to be inside the circle we must have:\n",
    "$$x^2+y^2 < R^2$$\n",
    "\n",
    "So our algorithm is clear:\n",
    "\n",
    "1. Generate a pair of random numbers, $x\\in[-1,+1]$ and $y\\in[-1,+1]$.\n",
    "2. if $x^2+y^2 < R^2$, then increment our counter for how many landed in, $N_{in}$.\n",
    "3. Always increment the number of tries $N_{tru}$.\n",
    "4. Calculate the new estimate of $\\pi$ as $4\\,N_{in}/N_{try}$.\n",
    "5. If the maximum number of samples has been reached, then stop, otherwise goto 1.\n",
    "\n",
    "Try implementing this yourself below!"
   ]
  },
  {
   "cell_type": "code",
   "execution_count": null,
   "metadata": {
    "collapsed": true
   },
   "outputs": [],
   "source": []
  },
  {
   "cell_type": "markdown",
   "metadata": {},
   "source": [
    "## Extra credit\n",
    "\n",
    "1. Do we need to generate pairs in the range $[-1,1]$. Is there any symmetry we can use to generate them in a smaller range?\n",
    "2. Plot the convergence of the estimate towards $\\pi$ every 1k samples, how fast is it converging?\n",
    "3. Restart the calculations repeatedly to get the standard deviation in the value of $\\pi$ after every 1k samples. How fast does the standard deviation reduce with the sample count?\n",
    "4. Do we need random numbers? Adapt the code to use a regular grid and compare.\n",
    "5. This is actually a Monte Carlo integration of the following integral $$ \\frac{\\pi}{4}=\\frac{\\iint_{-1}^{+1} \\Theta\\left(1-x^2-y^2\\right) {\\rm d}x\\,{\\rm d}y}{\\iint_{-1}^{+1}{\\rm d}x\\,{\\rm d}y}$$ where the bottom integral is just the area of the square (4). This is an example of how Monte Carlo integration using random numbers can solve quite difficult integrals, and Monte Carlo will be covered later in the main course."
   ]
  },
  {
   "cell_type": "markdown",
   "metadata": {
    "collapsed": true
   },
   "source": [
    "# Part 3 redux - Generating fractional random numbers\n",
    "\n",
    "How does a computer generate random numbers? Wait, scratch that, its complicated and covered later in the main course. Lets assume a computer can generate a single random bit (0 or 1) at a time by flipping a coin. How do we generate fractional random numbers?  \n",
    "The Han-Hoshi algorithm works by successively splitting an interval in half, then flipping a coin to decide which half to take. \n",
    "\n",
    "Lets take a look at a working example that generates values between 0 and 1:"
   ]
  },
  {
   "cell_type": "code",
   "execution_count": 6,
   "metadata": {
    "collapsed": false
   },
   "outputs": [
    {
     "data": {
      "image/png": "[encoded data removed]",
      "text/plain": [
       "<matplotlib.figure.Figure at 0x7f17aaac1048>"
      ]
     },
     "metadata": {},
     "output_type": "display_data"
    }
   ],
   "source": [
    "import random\n",
    "\n",
    "def flip_a_coin():\n",
    "    return random.randint(0,1) == 1\n",
    "\n",
    "def random_01():\n",
    "    value = 0\n",
    "    for idx in range(1,10):\n",
    "        if flip_a_coin() == True:\n",
    "            value += 1.0 / (2**idx)\n",
    "    return value\n",
    "\n",
    "# Make a histogram of the values to see if they're evenly distributed over the range\n",
    "random_nums = []\n",
    "for count in range(0, 10000):\n",
    "    random_nums.append(random_01())\n",
    "    \n",
    "import pylab\n",
    "pylab.hist(random_nums, 50)\n",
    "pylab.show()"
   ]
  },
  {
   "cell_type": "markdown",
   "metadata": {
    "collapsed": true
   },
   "source": [
    "## Extra credit\n",
    "\n",
    "- Try to rewrite the function to generate values in any range.\n",
    "- Significantly more challenging, try to generate random directions (unit vectors) and plot these in 3D to ensure that they cover the surface of a sphere evenly. Its expected that you will google the answer but write your own code and try to understand it!"
   ]
  },
  {
   "cell_type": "code",
   "execution_count": 12,
   "metadata": {
    "collapsed": false
   },
   "outputs": [
    {
     "data": {
      "text/plain": [
       "3.140372"
      ]
     },
     "execution_count": 12,
     "metadata": {},
     "output_type": "execute_result"
    }
   ],
   "source": [
    "import random as r\n",
    "n=1000000\n",
    "4*sum([r.random()**2+r.random()**2<1 for i in range(n)])/n"
   ]
  },
  {
   "cell_type": "code",
   "execution_count": null,
   "metadata": {
    "collapsed": true
   },
   "outputs": [],
   "source": []
  }
 ],
 "metadata": {
  "kernelspec": {
   "display_name": "Python 3",
   "language": "python",
   "name": "python3"
  },
  "language_info": {
   "codemirror_mode": {
    "name": "ipython",
    "version": 3
   },
   "file_extension": ".py",
   "mimetype": "text/x-python",
   "name": "python",
   "nbconvert_exporter": "python",
   "pygments_lexer": "ipython3",
   "version": "3.5.3"
  }
 },
 "nbformat": 4,
 "nbformat_minor": 2
}
