{
 "cells": [
  {
   "cell_type": "markdown",
   "metadata": {},
   "source": [
    "# Snippets of code, created by request!"
   ]
  },
  {
   "cell_type": "code",
   "execution_count": 1,
   "metadata": {
    "collapsed": true
   },
   "outputs": [],
   "source": [
    "import numpy.random\n",
    "\n",
    "output_file = open(\"junk.dat\", \"w\")\n",
    "for i in range(100):\n",
    "    y = numpy.random.normal(0.0, 1.0)\n",
    "    output_file.write(str(i)+' '+str(y))"
   ]
  },
  {
   "cell_type": "markdown",
   "metadata": {},
   "source": [
    "# Formatted output"
   ]
  },
  {
   "cell_type": "code",
   "execution_count": 19,
   "metadata": {
    "collapsed": false
   },
   "outputs": [
    {
     "data": {
      "text/plain": [
       "'3.14159'"
      ]
     },
     "execution_count": 19,
     "metadata": {},
     "output_type": "execute_result"
    }
   ],
   "source": [
    "\"%0.5f\"%3.141592675"
   ]
  },
  {
   "cell_type": "markdown",
   "metadata": {},
   "source": [
    "# Command line arguments"
   ]
  },
  {
   "cell_type": "code",
   "execution_count": null,
   "metadata": {
    "collapsed": true
   },
   "outputs": [],
   "source": [
    "#!/usr/bin/python\n",
    "import sys\n",
    "from optparse import OptionParser\n",
    "\n",
    "# parse command line arguments\n",
    "usage = \"usage: %prog [options] arg\"\n",
    "parser = OptionParser(usage)\n",
    "parser.add_option(\"--n\", type=\"int\", dest=\"nn\", default=1)\n",
    "(options, args) = parser.parse_args()\n",
    "\n",
    "import numpy\n",
    "import pylab\n",
    "\n",
    "y_data = []\n",
    "for i in range(options.nn):\n",
    "    y_data.append(numpy.random.normal(0.0, 1.0))\n",
    "\n",
    "n, bins, patches = pylab.hist(y_data, 50, normed=1, histtype='step')\n",
    "\n",
    "x_data = numpy.arange(-5.0, 5.0, 0.01)\n",
    "y_data = [numpy.exp(-0.5*x**2/(1.0*1.0))/numpy.sqrt(2.0*numpy.pi*1.0**2) for x in x_data]\n",
    "\n",
    "pylab.plot(x_data, y_data)\n",
    "pylab.show()"
   ]
  },
  {
   "cell_type": "markdown",
   "metadata": {},
   "source": [
    "# Running other programs quickly"
   ]
  },
  {
   "cell_type": "code",
   "execution_count": 6,
   "metadata": {
    "collapsed": false
   },
   "outputs": [
    {
     "data": {
      "text/plain": [
       "0"
      ]
     },
     "execution_count": 6,
     "metadata": {},
     "output_type": "execute_result"
    }
   ],
   "source": [
    "import os\n",
    "#Run the ls program\n",
    "os.system(\"ls\")"
   ]
  },
  {
   "cell_type": "markdown",
   "metadata": {},
   "source": [
    "https://www.scipy-lectures.org/intro/scipy.html#statistics-and-random-numbers-scipy-stats"
   ]
  },
  {
   "cell_type": "markdown",
   "metadata": {},
   "source": [
    "# Parsing Goodvibes data files into csv for excel"
   ]
  },
  {
   "cell_type": "code",
   "execution_count": 35,
   "metadata": {
    "collapsed": true
   },
   "outputs": [],
   "source": [
    "file = open(\"Goodvibes_output.dat\", \"r\")\n",
    "filetext = file.read()\n",
    "filelines = filetext.split('\\n')\n",
    "with open('data.csv', 'w') as output:\n",
    "    for line in filelines:\n",
    "        if len(line) > 0 and line[0] == \"o\":\n",
    "            cols=line.split()\n",
    "            print(*(cols[1:]),sep=\",\",file=output)"
   ]
  },
  {
   "cell_type": "markdown",
   "metadata": {},
   "source": [
    "Here we look for non-empty lines in the file, starting with a 'o'. We then split the line by whitespace (spaces, tabs, etc) and take everything but the first column `cols[1:]`.\n",
    "\n",
    "Then we print this to the file using a trick, if you write `*list`, then python will *unpack* the list and use it as arguments to the surrounding function call.  "
   ]
  },
  {
   "cell_type": "markdown",
   "metadata": {},
   "source": [
    "# Using FFMPEG to concatenate several mp4 files, but driving this via python"
   ]
  },
  {
   "cell_type": "code",
   "execution_count": null,
   "metadata": {
    "collapsed": true
   },
   "outputs": [],
   "source": [
    "import os\n",
    "\n",
    "def movieList(x):\n",
    "    #Write the list of movie files to files.txt, ready for processing by ffmpeg\n",
    "    with open(\"files.txt\",\"w\") as output:\n",
    "        for N in range(1,x):\n",
    "            print(\"file Collision\" + str(\"%02d\" % (N)) + \".mp4\",file=output)\n",
    "            \n",
    "    #Run FFMPEG to actually merge the files\n",
    "    import subprocess\n",
    "    result = subprocess.Popen(\"c:\\\\Users\\\\Josh\\\\Documents\\\\ffmpeg-20180708-3a2d21b-win64-static\\\\bin\\\\ffmpeg.exe -y -f concat -i files.txt -c copy out.mp4\", shell=True,stdout=subprocess.PIPE, stderr=subprocess.STDOUT)\n",
    "    result.wait()\n",
    "    output = result.stdout.read()\n",
    "    output_str = output.decode()\n",
    "    #Print the output of FFMPEG\n",
    "    print(output_str)\n",
    "\n",
    "movieList(10)"
   ]
  }
 ],
 "metadata": {
  "kernelspec": {
   "display_name": "Python 3",
   "language": "python",
   "name": "python3"
  },
  "language_info": {
   "codemirror_mode": {
    "name": "ipython",
    "version": 3
   },
   "file_extension": ".py",
   "mimetype": "text/x-python",
   "name": "python",
   "nbconvert_exporter": "python",
   "pygments_lexer": "ipython3",
   "version": "3.5.3"
  }
 },
 "nbformat": 4,
 "nbformat_minor": 2
}
