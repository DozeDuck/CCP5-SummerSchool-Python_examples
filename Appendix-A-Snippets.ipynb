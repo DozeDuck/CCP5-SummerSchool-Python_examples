{
 "cells": [
  {
   "cell_type": "markdown",
   "source": [
    "# Snippets of code created, or questions answered,  by request!"
   ],
   "metadata": {}
  },
  {
   "cell_type": "code",
   "execution_count": 1,
   "source": [
    "#This was a request to see something written out to a file, I chose an enumerated list of random numbers\r\n",
    "import numpy.random\r\n",
    "\r\n",
    "output_file = open(\"junk.dat\", \"w\")\r\n",
    "for i in range(100):\r\n",
    "    y = numpy.random.normal(0.0, 1.0)\r\n",
    "    output_file.write(str(i)+' '+str(y))"
   ],
   "outputs": [],
   "metadata": {
    "collapsed": true
   }
  },
  {
   "cell_type": "markdown",
   "source": [
    "# Formatted output"
   ],
   "metadata": {}
  },
  {
   "cell_type": "code",
   "execution_count": 2,
   "source": [
    "#Somebody wanted to see formatted output of floats (to a given number of decimal places)\r\n",
    "\"%0.5f\"%3.141592675"
   ],
   "outputs": [
    {
     "output_type": "execute_result",
     "data": {
      "text/plain": [
       "'3.14159'"
      ]
     },
     "metadata": {},
     "execution_count": 2
    }
   ],
   "metadata": {
    "collapsed": false
   }
  },
  {
   "cell_type": "markdown",
   "source": [
    "# Command line arguments\r\n",
    "\r\n",
    "This request was \"how do I have command line arguments to a proper python program?\". The example below will not run on Jupyter notebooks as it expects to be run from the command line!"
   ],
   "metadata": {}
  },
  {
   "cell_type": "code",
   "execution_count": null,
   "source": [
    "#!/usr/bin/python\r\n",
    "import sys\r\n",
    "from optparse import OptionParser\r\n",
    "\r\n",
    "# parse command line arguments\r\n",
    "usage = \"usage: %prog [options] arg\"\r\n",
    "parser = OptionParser(usage)\r\n",
    "parser.add_option(\"--n\", type=\"int\", dest=\"nn\", default=1)\r\n",
    "(options, args) = parser.parse_args()\r\n",
    "\r\n",
    "import numpy\r\n",
    "import pylab\r\n",
    "\r\n",
    "y_data = []\r\n",
    "for i in range(options.nn):\r\n",
    "    y_data.append(numpy.random.normal(0.0, 1.0))\r\n",
    "\r\n",
    "n, bins, patches = pylab.hist(y_data, 50, normed=1, histtype='step')\r\n",
    "\r\n",
    "x_data = numpy.arange(-5.0, 5.0, 0.01)\r\n",
    "y_data = [numpy.exp(-0.5*x**2/(1.0*1.0))/numpy.sqrt(2.0*numpy.pi*1.0**2) for x in x_data]\r\n",
    "\r\n",
    "pylab.plot(x_data, y_data)\r\n",
    "pylab.show()"
   ],
   "outputs": [],
   "metadata": {
    "collapsed": true
   }
  },
  {
   "cell_type": "markdown",
   "source": [
    "# Running other programs quickly\r\n",
    "This request asked how do you run an external program/control one from python. Below is the easiest but least powerful way. Other approaches using `import subprocess` allow for more control over the run program."
   ],
   "metadata": {}
  },
  {
   "cell_type": "code",
   "execution_count": 6,
   "source": [
    "import os\r\n",
    "#Run the ls program\r\n",
    "os.system(\"ls\")"
   ],
   "outputs": [
    {
     "output_type": "execute_result",
     "data": {
      "text/plain": [
       "0"
      ]
     },
     "metadata": {},
     "execution_count": 6
    }
   ],
   "metadata": {
    "collapsed": false
   }
  },
  {
   "cell_type": "markdown",
   "source": [
    "# Parsing Goodvibes data files into csv for excel\r\n",
    "Someone wanted to parse a data file from Goodvibes (this i think https://github.com/bobbypaton/GoodVibes)."
   ],
   "metadata": {}
  },
  {
   "cell_type": "code",
   "execution_count": 35,
   "source": [
    "file = open(\"Goodvibes_output.dat\", \"r\")\r\n",
    "filetext = file.read()\r\n",
    "filelines = filetext.split('\\n')\r\n",
    "with open('data.csv', 'w') as output:\r\n",
    "    for line in filelines:\r\n",
    "        if len(line) > 0 and line[0] == \"o\":\r\n",
    "            cols=line.split()\r\n",
    "            print(*(cols[1:]),sep=\",\",file=output)"
   ],
   "outputs": [],
   "metadata": {
    "collapsed": true
   }
  },
  {
   "cell_type": "markdown",
   "source": [
    "Here we look for non-empty lines in the file, starting with a 'o'. We then split the line by whitespace (spaces, tabs, etc) and take everything but the first column `cols[1:]`.\n",
    "\n",
    "Then we print this to the file using a trick, if you write `*list`, then python will *unpack* the list and use it as arguments to the surrounding function call.  "
   ],
   "metadata": {}
  },
  {
   "cell_type": "markdown",
   "source": [
    "# Using FFMPEG to concatenate several mp4 files, but driving this via python\r\n",
    "\r\n",
    "Here's how we joined videos together using FFMPEG but getting python to make all the commands given a file containing the names of the videos to join."
   ],
   "metadata": {}
  },
  {
   "cell_type": "code",
   "execution_count": null,
   "source": [
    "import os\r\n",
    "\r\n",
    "def movieList(x):\r\n",
    "    #Write the list of movie files to files.txt, ready for processing by ffmpeg\r\n",
    "    with open(\"files.txt\",\"w\") as output:\r\n",
    "        for N in range(1,x):\r\n",
    "            print(\"file Collision\" + str(\"%02d\" % (N)) + \".mp4\",file=output)\r\n",
    "            \r\n",
    "    #Run FFMPEG to actually merge the files\r\n",
    "    import subprocess\r\n",
    "    result = subprocess.Popen(\"c:\\\\Users\\\\Josh\\\\Documents\\\\ffmpeg-20180708-3a2d21b-win64-static\\\\bin\\\\ffmpeg.exe -y -f concat -i files.txt -c copy out.mp4\", shell=True,stdout=subprocess.PIPE, stderr=subprocess.STDOUT)\r\n",
    "    result.wait()\r\n",
    "    output = result.stdout.read()\r\n",
    "    output_str = output.decode()\r\n",
    "    #Print the output of FFMPEG\r\n",
    "    print(output_str)\r\n",
    "\r\n",
    "movieList(10)"
   ],
   "outputs": [],
   "metadata": {
    "collapsed": true
   }
  },
  {
   "cell_type": "markdown",
   "source": [
    "# Parsing LAMMPS files\r\n",
    "\r\n",
    "LAMMPS is a molecular dynamics package. This python example shows how to grab the data out from the file (but doesn't do anything yet with it, its all just ready to be used)"
   ],
   "metadata": {}
  },
  {
   "cell_type": "code",
   "execution_count": null,
   "source": [
    "with open(\"LAMMPS.eam\") as Dfile:\r\n",
    "    while(True):\r\n",
    "        try:\r\n",
    "            line = next(Dfile).strip()\r\n",
    "        except StopIteration as e:\r\n",
    "            break\r\n",
    "        print(\"##\",line)\r\n",
    "        if \"ITEM: TIMESTEP\" != line:\r\n",
    "            raise Exception(\"Unexpected \"+repr(line))\r\n",
    "        timestep = int(next(Dfile).strip())\r\n",
    "        line = next(Dfile).strip()\r\n",
    "        if \"ITEM: NUMBER OF ATOMS\" != line:\r\n",
    "            raise Exception(\"Unexpected \"+repr(line))\r\n",
    "        N = int(next(Dfile).strip())\r\n",
    "        line = next(Dfile).strip()\r\n",
    "        if \"ITEM: BOX BOUNDS xy xz yz pp pp pp\" != line:\r\n",
    "            raise Exception(\"Unexpected \"+repr(line))\r\n",
    "        bounds1 = list(map(float, next(Dfile).strip().split()))\r\n",
    "        bounds2 = list(map(float, next(Dfile).strip().split()))\r\n",
    "        bounds3 = list(map(float, next(Dfile).strip().split()))\r\n",
    "        line = next(Dfile).strip()\r\n",
    "        if \"ITEM: ATOMS id x y z vx vy vz c_pe1\" != line:\r\n",
    "            raise Exception(\"Unexpected \"+repr(line))\r\n",
    "        for i in range(N):\r\n",
    "            line = next(Dfile).strip().split()\r\n",
    "            id = int(line[0])\r\n",
    "            x, y, z, vx, vy, vz, c_pe1 = map(float, line[1:])"
   ],
   "outputs": [],
   "metadata": {
    "collapsed": true
   }
  },
  {
   "cell_type": "markdown",
   "source": [
    "# Parsing SASA files"
   ],
   "metadata": {}
  },
  {
   "cell_type": "code",
   "execution_count": 8,
   "source": [
    "import numpy as np\r\n",
    "data = np.array([float(line.split()[-1]) for line in open(\"data/sasa_rrxxee.txt\", \"r\").read().split('\\n')[1:]])\r\n",
    "print(data)"
   ],
   "outputs": [
    {
     "output_type": "stream",
     "name": "stdout",
     "text": [
      "[1.06  1.422 1.135 1.381 1.347 1.356 1.332 1.191 1.153 1.115 1.166 1.236\n",
      " 1.288 1.164 1.162 1.16  1.158 1.253 1.437 1.287 1.4   1.978 1.437 1.53\n",
      " 1.46  1.76  1.861 1.484 1.645 1.532 1.676 1.664 1.794 1.746 1.521 1.531\n",
      " 1.611 1.528 1.842 1.558 1.111 1.468 1.146 1.338 1.265 1.364 1.438 1.229\n",
      " 1.193 1.236 1.19  1.234 1.307 1.234 1.136 1.172 1.148 1.247 1.335 1.378\n",
      " 1.161 1.461 1.257 1.212 1.143 1.335 1.28  1.194 1.2   1.228 1.144 1.246\n",
      " 1.341 1.219 1.148 1.216 1.114 1.176 1.254 1.393 1.27  1.46  1.23  1.173\n",
      " 1.122 1.428 1.19  1.195 1.229 1.163 1.279 1.168 1.274 1.15  1.135 1.123\n",
      " 1.119 1.167 1.275 1.263 1.436 1.812 1.371 1.409 1.34  1.601 1.677 1.4\n",
      " 1.543 1.303 1.505 1.433 1.646 1.31  1.317 1.274 1.341 1.516 1.665 1.528\n",
      " 1.259 1.622 1.189 1.282 1.328 1.783 1.608 1.398 1.37  1.453 1.465 1.493\n",
      " 1.538 1.313 1.373 1.278 1.295 1.375 1.793 1.486 1.174 1.569 1.123 1.206\n",
      " 1.216 1.476 1.387 1.247 1.277 1.218 1.295 1.206 1.328 1.201 1.14  1.127\n",
      " 1.207 1.109 1.407 1.308 1.213 1.628 1.155 1.216 1.269 1.449 1.463 1.215\n",
      " 1.217 1.245 1.3   1.182 1.382 1.156 1.197 1.13  1.17  1.284 1.377 1.364\n",
      " 1.104 1.525 1.161 1.194 1.129 1.425 1.304 1.24  1.21  1.191 1.233 1.177\n",
      " 1.264 1.184 1.214 1.168 1.163 1.277 1.321 1.299 1.209 1.623 1.191 1.315\n",
      " 1.251 1.513 1.459 1.241 1.281 1.176 1.22  1.277 1.473 1.197 1.233 1.189\n",
      " 1.225 1.292 1.39  1.365 1.19  1.773 1.142 1.275 1.24  1.447 1.384 1.225\n",
      " 1.279 1.268 1.286 1.35  1.281 1.27  1.216 1.206 1.149 1.381 1.359 1.3\n",
      " 1.231 1.887 1.272 1.346 1.432 1.559 1.584 1.413 1.322 1.371 1.481 1.385\n",
      " 1.603 1.261 1.257 1.309 1.232 1.323 1.64  1.636 1.18  1.5   1.103 1.167\n",
      " 1.216 1.389 1.254 1.155 1.176 1.184 1.216 1.27  1.273 1.229 1.16  1.173\n",
      " 1.16  1.253 1.35  1.39  1.108 1.511 1.132 1.214 1.198 1.247 1.31  1.168\n",
      " 1.171 1.207 1.219 1.159 1.215 1.186 1.167 1.191 1.147 1.304 1.359 1.35\n",
      " 1.125 1.419 1.076 1.175 1.184 1.36  1.289 1.138 1.199 1.192 1.302 1.242\n",
      " 1.308 1.194 1.206 1.233 1.238 1.214 1.268 1.357 1.124 1.517 1.134 1.117\n",
      " 1.222 1.346 1.416 1.135 1.213 1.163 1.207 1.211 1.248 1.146 1.215 1.198\n",
      " 1.135 1.318 1.311 1.405 1.09  1.491 1.124 1.228 1.201 1.342 1.464 1.221\n",
      " 1.307 1.176 1.249 1.343 1.357 1.272 1.219 1.161 1.24  1.32  1.379 1.374\n",
      " 1.308 1.688 1.229 1.413 1.264 1.518 1.485 1.325 1.303 1.365 1.405 1.422\n",
      " 1.473 1.402 1.295 1.403 1.333 1.459 1.543 1.636 1.249 1.602 1.324 1.392\n",
      " 1.235 1.53  1.543 1.254 1.331 1.386 1.299 1.315 1.571 1.405 1.468 1.35\n",
      " 1.387 1.463 1.573 1.592]\n"
     ]
    }
   ],
   "metadata": {}
  },
  {
   "cell_type": "markdown",
   "source": [
    "# Python virtual environments\r\n",
    "\r\n",
    "*Note: I do not recommend virtual environments, I would suggest using a containerisation approach like Docker to build a full system, you have more control over the other dependencies like compiler, system libraries, etc.*\r\n",
    "\r\n",
    "You can make \"clean\" installs of python, separate from the current/system install using the python venv module. You will want to do this once you start to use lots of external libraries that don't get upgraded often, so you can \"freeze\" the versions of everything and have a reproducable development/production environment.\r\n",
    "\r\n",
    "Use virtualenv shipped with pip, as its a superset of venv. We will need to use the terminal to do this, full instructions are given here https://packaging.python.org/guides/installing-using-pip-and-virtual-environments/\r\n",
    "\r\n",
    "    python3 -m pip install --user virtualenv # Use pip to install virtualenv\r\n",
    "    python3 -m venv ./myenv                  # Make an environment in the subdirectory myenv\r\n",
    "    source ./myenv/bin/activate                  # Activate the environment\r\n",
    "\r\n",
    "In here you can work exactly like your \"normal\" python workflow, installing packages and even particular versions\r\n",
    "\r\n",
    "    python3 -m pip install requests==2.18.4 #installing a particular package version\r\n",
    "\r\n",
    "Once everything is setup and working, you can freeze it\r\n",
    "\r\n",
    "    python3 -m pip freeze > requirements.txt\r\n",
    "\r\n",
    "Save this file to your git repository, and the next time you need to \"setup\" python on a new computer, just restore it\r\n",
    "\r\n",
    "    python3 -m venv ./myenv                  \r\n",
    "    source ./myenv/bin/activate                \r\n",
    "    python3 -m pip install -r requirements.txt\r\n",
    "\r\n",
    "\r\n",
    "# What's this about containerisation?\r\n",
    "\r\n",
    "It is now almost *free* to boot an entire new install of an OS on your computer using Docker. (A good example is here)[https://www.docker.com/blog/containerized-python-development-part-1/]. This is exactly like virtualenv for python, but for everything.\r\n",
    "\r\n",
    "If you do anything complex, like compile C++ and python, this is amazing. You can even deploy containers to CI services, so there's no issue getting tests run automagically, no matter how complex your work is. Eventually you may upgrade to kubernetes and start to configure *everything* using software files."
   ],
   "metadata": {}
  },
  {
   "cell_type": "markdown",
   "source": [
    "# Object Oriented Programming\r\n",
    "\r\n",
    "I am extremely keen on OOP, all of my serious code is OOP. So why isn't it covered here?\r\n",
    "\r\n",
    "In truth, its not as important as many other things. Writing clear code is the biggest priority, who cares if its OOP.\r\n",
    "\r\n",
    "Start by writing clean functions with no side effects. This means everything required by the function is in its arguments, and it doesn't change anything outside the function. This \"isolation\" is really important in making your code readable. No \"spooky action at a distance here\".\r\n",
    "\r\n",
    "You will spend most of your time debugging code, so prepare yourself for that. Learn about unit tests so that your code is automatically testable, and write lots of unit tests to cover all cases. It will help you relax and write better code if you know its all still working and it is no work to test it.\r\n",
    "\r\n",
    "You will still spend all of your time debugging, so learn to automate it. Get version control in git working, and setup a CI service (like github) to automatically test your code every time you commit changes. You will always know if something is broken, and can find out exactly when you broke it immediately.\r\n",
    "\r\n",
    "Then learn a \"fast\" strongly-typed programming language, like C++. This will help you understand the design choices of python and give you the ability to program fast bits of code you link into python (perhaps using pybind11).\r\n",
    "\r\n",
    "On this journey, you will see OOP, and you will see where it can be used effectively. Its an excellent tool, but its not the only tool. You can make code worse (i.e. less readable, slower, harder to change) with OOP, so focus on those. Programmers are the most expensive part of programming, so focus on making code for them. OOP isn't always for them."
   ],
   "metadata": {}
  },
  {
   "cell_type": "markdown",
   "source": [],
   "metadata": {}
  }
 ],
 "metadata": {
  "kernelspec": {
   "display_name": "Python 3",
   "language": "python",
   "name": "python3"
  },
  "language_info": {
   "codemirror_mode": {
    "name": "ipython",
    "version": 3
   },
   "file_extension": ".py",
   "mimetype": "text/x-python",
   "name": "python",
   "nbconvert_exporter": "python",
   "pygments_lexer": "ipython3",
   "version": "3.5.3"
  }
 },
 "nbformat": 4,
 "nbformat_minor": 2
}