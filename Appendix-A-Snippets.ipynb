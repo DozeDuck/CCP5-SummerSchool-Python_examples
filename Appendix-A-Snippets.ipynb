{
 "cells": [
  {
   "cell_type": "markdown",
   "metadata": {},
   "source": [
    "Ideas for further work\n",
    "- Use of numpy for linear algebra\n",
    "- Implement a quadratic formula\n",
    "- Load external programs and run them\n",
    "- class keyword etc.\n",
    "\n",
    "# Gaussian number gen"
   ]
  },
  {
   "cell_type": "code",
   "execution_count": 1,
   "metadata": {
    "collapsed": true
   },
   "outputs": [],
   "source": [
    "import numpy.random\n",
    "\n",
    "output_file = open(\"junk.dat\", \"w\")\n",
    "for i in range(100):\n",
    "    y = numpy.random.normal(0.0, 1.0)\n",
    "    output_file.write(str(i)+' '+str(y))"
   ]
  },
  {
   "cell_type": "markdown",
   "metadata": {},
   "source": [
    "# Running external code"
   ]
  },
  {
   "cell_type": "code",
   "execution_count": 18,
   "metadata": {
    "collapsed": false
   },
   "outputs": [
    {
     "name": "stdout",
     "output_type": "stream",
     "text": [
      "<class 'bytes'>\n",
      "total 2376\n",
      "drwxrwxr-x  4 mjki2mb2 mjki2mb2    4096 Jul  7 14:40 .\n",
      "drwxr-xr-x 66 mjki2mb2 mjki2mb2    4096 Jul  7 14:12 ..\n",
      "-rw-rw-r--  1 mjki2mb2 mjki2mb2    1213 Jul  6 22:47 00-Installing_python.ipynb\n",
      "-rw-rw-r--  1 mjki2mb2 mjki2mb2   70304 Jul  7 12:16 01-Introduction.ipynb\n",
      "-rw-rw-r--  1 mjki2mb2 mjki2mb2   16917 Jul  7 14:02 02-Variable scope (calclulating prime numbers).ipynb\n",
      "-rw-rw-r--  1 mjki2mb2 mjki2mb2   27080 Jul  6 14:16 03-Calculating pi.ipynb\n",
      "-rw-rw-r--  1 mjki2mb2 mjki2mb2   14581 Jul  7 07:07 04-Errors (Fantastic Exceptions and where to find them).ipynb\n",
      "-rw-rw-r--  1 mjki2mb2 mjki2mb2  105996 Jul  7 07:11 05- Example, Stock analysis using pandas.ipynb\n",
      "-rw-rw-r--  1 mjki2mb2 mjki2mb2  212071 Jul  7 07:58 06- Example, Molecular dynamics simulations.ipynb\n",
      "-rw-rw-r--  1 mjki2mb2 mjki2mb2   17173 Jul  7 14:40 Appendix-A-Snippets.ipynb\n",
      "-rw-rw-r--  1 mjki2mb2 mjki2mb2     144 Jul  7 00:26 environment.yml\n",
      "drwxrwxr-x  8 mjki2mb2 mjki2mb2    4096 Jul  7 13:54 .git\n",
      "drwxr-xr-x  2 mjki2mb2 mjki2mb2    4096 Jul  6 23:48 .ipynb_checkpoints\n",
      "-rw-rw-r--  1 mjki2mb2 mjki2mb2      55 Jul  6 22:40 myfile.txt\n",
      "-rw-rw-r--  1 mjki2mb2 mjki2mb2     159 Jun 26 11:26 README.md\n",
      "-rw-rw-r--  1 mjki2mb2 mjki2mb2      54 Jul  6 22:40 save.p\n",
      "-rw-rw-r--  1 mjki2mb2 mjki2mb2 1909131 Jul  6 23:35 stock_data.p\n",
      "-rw-rw-r--  1 mjki2mb2 mjki2mb2    2161 Jul  3 09:11 tmp.patch\n",
      "\n"
     ]
    }
   ],
   "source": [
    "import subprocess\n",
    "#Run \"ls -al\" in a system shell. Capture the output, redirect the error messages to output.\n",
    "result = subprocess.Popen(\"ls -al\", shell=True,stdout=subprocess.PIPE, stderr=subprocess.STDOUT)\n",
    "#At this point the command is running, possibly in parallel. Here we wait for it to finish\n",
    "result.wait()\n",
    "#Now fetch the output\n",
    "output = result.stdout.read()\n",
    "print(type(output)) #What comes out is a series of bytes. If we want string output we need to encode it\n",
    "output_str = output.decode()\n",
    "print(output_str)\n",
    "# If you want to know if the command was successful, you can check the return value\n",
    "if result.returncode != 0:\n",
    "    print(\"The command failed with return code\", result.returncode)"
   ]
  },
  {
   "cell_type": "markdown",
   "metadata": {},
   "source": [
    "# Formatted output"
   ]
  },
  {
   "cell_type": "code",
   "execution_count": 19,
   "metadata": {
    "collapsed": false
   },
   "outputs": [
    {
     "data": {
      "text/plain": [
       "'3.14159'"
      ]
     },
     "execution_count": 19,
     "metadata": {},
     "output_type": "execute_result"
    }
   ],
   "source": [
    "\"%0.5f\"%3.141592675"
   ]
  },
  {
   "cell_type": "markdown",
   "metadata": {},
   "source": [
    "# Histograms"
   ]
  },
  {
   "cell_type": "code",
   "execution_count": 5,
   "metadata": {
    "collapsed": false
   },
   "outputs": [
    {
     "data": {
      "image/png": "[encoded data removed]",
      "text/plain": [
       "<matplotlib.figure.Figure at 0x7f70cb62f208>"
      ]
     },
     "metadata": {},
     "output_type": "display_data"
    }
   ],
   "source": [
    "import numpy\n",
    "import pylab\n",
    "\n",
    "y_data = []\n",
    "for i in range(1000):\n",
    "    y_data.append(numpy.random.normal(0.0, 1.0))\n",
    "\n",
    "n, bins, patches = pylab.hist(y_data, 50, normed=1, histtype='step')\n",
    "\n",
    "x_data = numpy.arange(-5.0, 5.0, 0.01)\n",
    "y_data = [numpy.exp(-0.5*x**2/(1.0*1.0))/numpy.sqrt(2.0*numpy.pi*1.0**2) for x in x_data]\n",
    "\n",
    "pylab.plot(x_data, y_data)\n",
    "pylab.show()"
   ]
  },
  {
   "cell_type": "markdown",
   "metadata": {},
   "source": [
    "# Command line arguments"
   ]
  },
  {
   "cell_type": "code",
   "execution_count": null,
   "metadata": {
    "collapsed": true
   },
   "outputs": [],
   "source": [
    "#!/usr/bin/python\n",
    "import sys\n",
    "from optparse import OptionParser\n",
    "\n",
    "# parse command line arguments\n",
    "usage = \"usage: %prog [options] arg\"\n",
    "parser = OptionParser(usage)\n",
    "parser.add_option(\"--n\", type=\"int\", dest=\"nn\", default=1)\n",
    "(options, args) = parser.parse_args()\n",
    "\n",
    "import numpy\n",
    "import pylab\n",
    "\n",
    "y_data = []\n",
    "for i in range(options.nn):\n",
    "    y_data.append(numpy.random.normal(0.0, 1.0))\n",
    "\n",
    "n, bins, patches = pylab.hist(y_data, 50, normed=1, histtype='step')\n",
    "\n",
    "x_data = numpy.arange(-5.0, 5.0, 0.01)\n",
    "y_data = [numpy.exp(-0.5*x**2/(1.0*1.0))/numpy.sqrt(2.0*numpy.pi*1.0**2) for x in x_data]\n",
    "\n",
    "pylab.plot(x_data, y_data)\n",
    "pylab.show()"
   ]
  },
  {
   "cell_type": "markdown",
   "metadata": {},
   "source": [
    "# Running other programs"
   ]
  },
  {
   "cell_type": "code",
   "execution_count": 6,
   "metadata": {
    "collapsed": false
   },
   "outputs": [
    {
     "data": {
      "text/plain": [
       "0"
      ]
     },
     "execution_count": 6,
     "metadata": {},
     "output_type": "execute_result"
    }
   ],
   "source": [
    "import os\n",
    "#Run the ls program\n",
    "os.system(\"ls\")"
   ]
  },
  {
   "cell_type": "markdown",
   "metadata": {},
   "source": [
    "https://www.scipy-lectures.org/intro/scipy.html#statistics-and-random-numbers-scipy-stats"
   ]
  },
  {
   "cell_type": "markdown",
   "metadata": {},
   "source": [
    "# Parsing Goodvibes data files into csv for excel"
   ]
  },
  {
   "cell_type": "code",
   "execution_count": 35,
   "metadata": {
    "collapsed": true
   },
   "outputs": [],
   "source": [
    "file = open(\"Goodvibes_output.dat\", \"r\")\n",
    "filetext = file.read()\n",
    "filelines = filetext.split('\\n')\n",
    "with open('data.csv', 'w') as output:\n",
    "    for line in filelines:\n",
    "        if len(line) > 0 and line[0] == \"o\":\n",
    "            cols=line.split()\n",
    "            print(*(cols[1:]),sep=\",\",file=output)"
   ]
  },
  {
   "cell_type": "markdown",
   "metadata": {},
   "source": [
    "Here we look for non-empty lines in the file, starting with a 'o'. We then split the line by whitespace (spaces, tabs, etc) and take everything but the first column `cols[1:]`.\n",
    "\n",
    "Then we print this to the file using a trick, if you write `*list`, then python will *unpack* the list and use it as arguments to the surrounding function call.  "
   ]
  },
  {
   "cell_type": "code",
   "execution_count": null,
   "metadata": {
    "collapsed": true
   },
   "outputs": [],
   "source": []
  }
 ],
 "metadata": {
  "kernelspec": {
   "display_name": "Python 3",
   "language": "python",
   "name": "python3"
  },
  "language_info": {
   "codemirror_mode": {
    "name": "ipython",
    "version": 3
   },
   "file_extension": ".py",
   "mimetype": "text/x-python",
   "name": "python",
   "nbconvert_exporter": "python",
   "pygments_lexer": "ipython3",
   "version": "3.5.3"
  }
 },
 "nbformat": 4,
 "nbformat_minor": 2
}
