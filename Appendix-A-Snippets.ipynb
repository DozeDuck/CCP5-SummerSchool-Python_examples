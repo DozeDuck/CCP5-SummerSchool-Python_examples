{
 "cells": [
  {
   "cell_type": "markdown",
   "source": [
    "# Snippets of code, created by request!"
   ],
   "metadata": {}
  },
  {
   "cell_type": "code",
   "execution_count": 1,
   "source": [
    "#This was a request to see something written out to a file, I chose an enumerated list of random numbers\r\n",
    "import numpy.random\r\n",
    "\r\n",
    "output_file = open(\"junk.dat\", \"w\")\r\n",
    "for i in range(100):\r\n",
    "    y = numpy.random.normal(0.0, 1.0)\r\n",
    "    output_file.write(str(i)+' '+str(y))"
   ],
   "outputs": [],
   "metadata": {
    "collapsed": true
   }
  },
  {
   "cell_type": "markdown",
   "source": [
    "# Formatted output"
   ],
   "metadata": {}
  },
  {
   "cell_type": "code",
   "execution_count": 2,
   "source": [
    "#Somebody wanted to see formatted output of floats (to a given number of decimal places)\r\n",
    "\"%0.5f\"%3.141592675"
   ],
   "outputs": [
    {
     "output_type": "execute_result",
     "data": {
      "text/plain": [
       "'3.14159'"
      ]
     },
     "metadata": {},
     "execution_count": 2
    }
   ],
   "metadata": {
    "collapsed": false
   }
  },
  {
   "cell_type": "markdown",
   "source": [
    "# Command line arguments\r\n",
    "\r\n",
    "This request was \"how do I have command line arguments to a proper python program?\". The example below will not run on Jupyter notebooks as it expects to be run from the command line!"
   ],
   "metadata": {}
  },
  {
   "cell_type": "code",
   "execution_count": null,
   "source": [
    "#!/usr/bin/python\r\n",
    "import sys\r\n",
    "from optparse import OptionParser\r\n",
    "\r\n",
    "# parse command line arguments\r\n",
    "usage = \"usage: %prog [options] arg\"\r\n",
    "parser = OptionParser(usage)\r\n",
    "parser.add_option(\"--n\", type=\"int\", dest=\"nn\", default=1)\r\n",
    "(options, args) = parser.parse_args()\r\n",
    "\r\n",
    "import numpy\r\n",
    "import pylab\r\n",
    "\r\n",
    "y_data = []\r\n",
    "for i in range(options.nn):\r\n",
    "    y_data.append(numpy.random.normal(0.0, 1.0))\r\n",
    "\r\n",
    "n, bins, patches = pylab.hist(y_data, 50, normed=1, histtype='step')\r\n",
    "\r\n",
    "x_data = numpy.arange(-5.0, 5.0, 0.01)\r\n",
    "y_data = [numpy.exp(-0.5*x**2/(1.0*1.0))/numpy.sqrt(2.0*numpy.pi*1.0**2) for x in x_data]\r\n",
    "\r\n",
    "pylab.plot(x_data, y_data)\r\n",
    "pylab.show()"
   ],
   "outputs": [],
   "metadata": {
    "collapsed": true
   }
  },
  {
   "cell_type": "markdown",
   "source": [
    "# Running other programs quickly\r\n",
    "This request asked how do you run an external program/control one from python. Below is the easiest but least powerful way. Other approaches using `import subprocess` allow for more control over the run program."
   ],
   "metadata": {}
  },
  {
   "cell_type": "code",
   "execution_count": 6,
   "source": [
    "import os\r\n",
    "#Run the ls program\r\n",
    "os.system(\"ls\")"
   ],
   "outputs": [
    {
     "output_type": "execute_result",
     "data": {
      "text/plain": [
       "0"
      ]
     },
     "metadata": {},
     "execution_count": 6
    }
   ],
   "metadata": {
    "collapsed": false
   }
  },
  {
   "cell_type": "markdown",
   "source": [
    "# Parsing Goodvibes data files into csv for excel\r\n",
    "Someone wanted to parse a data file from Goodvibes (this i think https://github.com/bobbypaton/GoodVibes)."
   ],
   "metadata": {}
  },
  {
   "cell_type": "code",
   "execution_count": 35,
   "source": [
    "file = open(\"Goodvibes_output.dat\", \"r\")\r\n",
    "filetext = file.read()\r\n",
    "filelines = filetext.split('\\n')\r\n",
    "with open('data.csv', 'w') as output:\r\n",
    "    for line in filelines:\r\n",
    "        if len(line) > 0 and line[0] == \"o\":\r\n",
    "            cols=line.split()\r\n",
    "            print(*(cols[1:]),sep=\",\",file=output)"
   ],
   "outputs": [],
   "metadata": {
    "collapsed": true
   }
  },
  {
   "cell_type": "markdown",
   "source": [
    "Here we look for non-empty lines in the file, starting with a 'o'. We then split the line by whitespace (spaces, tabs, etc) and take everything but the first column `cols[1:]`.\n",
    "\n",
    "Then we print this to the file using a trick, if you write `*list`, then python will *unpack* the list and use it as arguments to the surrounding function call.  "
   ],
   "metadata": {}
  },
  {
   "cell_type": "markdown",
   "source": [
    "# Using FFMPEG to concatenate several mp4 files, but driving this via python\r\n",
    "\r\n",
    "Here's how we joined videos together using FFMPEG but getting python to make all the commands given a file containing the names of the videos to join."
   ],
   "metadata": {}
  },
  {
   "cell_type": "code",
   "execution_count": null,
   "source": [
    "import os\r\n",
    "\r\n",
    "def movieList(x):\r\n",
    "    #Write the list of movie files to files.txt, ready for processing by ffmpeg\r\n",
    "    with open(\"files.txt\",\"w\") as output:\r\n",
    "        for N in range(1,x):\r\n",
    "            print(\"file Collision\" + str(\"%02d\" % (N)) + \".mp4\",file=output)\r\n",
    "            \r\n",
    "    #Run FFMPEG to actually merge the files\r\n",
    "    import subprocess\r\n",
    "    result = subprocess.Popen(\"c:\\\\Users\\\\Josh\\\\Documents\\\\ffmpeg-20180708-3a2d21b-win64-static\\\\bin\\\\ffmpeg.exe -y -f concat -i files.txt -c copy out.mp4\", shell=True,stdout=subprocess.PIPE, stderr=subprocess.STDOUT)\r\n",
    "    result.wait()\r\n",
    "    output = result.stdout.read()\r\n",
    "    output_str = output.decode()\r\n",
    "    #Print the output of FFMPEG\r\n",
    "    print(output_str)\r\n",
    "\r\n",
    "movieList(10)"
   ],
   "outputs": [],
   "metadata": {
    "collapsed": true
   }
  },
  {
   "cell_type": "markdown",
   "source": [
    "# Parsing LAMMPS files\r\n",
    "\r\n",
    "LAMMPS is a molecular dynamics package. This python example shows how to grab the data out from the file (but doesn't do anything yet with it, its all just ready to be used)"
   ],
   "metadata": {}
  },
  {
   "cell_type": "code",
   "execution_count": null,
   "source": [
    "with open(\"LAMMPS.eam\") as Dfile:\r\n",
    "    while(True):\r\n",
    "        try:\r\n",
    "            line = next(Dfile).strip()\r\n",
    "        except StopIteration as e:\r\n",
    "            break\r\n",
    "        print(\"##\",line)\r\n",
    "        if \"ITEM: TIMESTEP\" != line:\r\n",
    "            raise Exception(\"Unexpected \"+repr(line))\r\n",
    "        timestep = int(next(Dfile).strip())\r\n",
    "        line = next(Dfile).strip()\r\n",
    "        if \"ITEM: NUMBER OF ATOMS\" != line:\r\n",
    "            raise Exception(\"Unexpected \"+repr(line))\r\n",
    "        N = int(next(Dfile).strip())\r\n",
    "        line = next(Dfile).strip()\r\n",
    "        if \"ITEM: BOX BOUNDS xy xz yz pp pp pp\" != line:\r\n",
    "            raise Exception(\"Unexpected \"+repr(line))\r\n",
    "        bounds1 = list(map(float, next(Dfile).strip().split()))\r\n",
    "        bounds2 = list(map(float, next(Dfile).strip().split()))\r\n",
    "        bounds3 = list(map(float, next(Dfile).strip().split()))\r\n",
    "        line = next(Dfile).strip()\r\n",
    "        if \"ITEM: ATOMS id x y z vx vy vz c_pe1\" != line:\r\n",
    "            raise Exception(\"Unexpected \"+repr(line))\r\n",
    "        for i in range(N):\r\n",
    "            line = next(Dfile).strip().split()\r\n",
    "            id = int(line[0])\r\n",
    "            x, y, z, vx, vy, vz, c_pe1 = map(float, line[1:])"
   ],
   "outputs": [],
   "metadata": {
    "collapsed": true
   }
  }
 ],
 "metadata": {
  "kernelspec": {
   "display_name": "Python 3",
   "language": "python",
   "name": "python3"
  },
  "language_info": {
   "codemirror_mode": {
    "name": "ipython",
    "version": 3
   },
   "file_extension": ".py",
   "mimetype": "text/x-python",
   "name": "python",
   "nbconvert_exporter": "python",
   "pygments_lexer": "ipython3",
   "version": "3.5.3"
  }
 },
 "nbformat": 4,
 "nbformat_minor": 2
}