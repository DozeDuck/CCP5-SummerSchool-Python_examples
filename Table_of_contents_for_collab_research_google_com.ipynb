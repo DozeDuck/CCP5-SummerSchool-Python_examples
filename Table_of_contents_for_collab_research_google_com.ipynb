{
 "cells": [
  {
   "cell_type": "markdown",
   "metadata": {
    "colab_type": "text",
    "id": "rTTdYpnazP68"
   },
   "source": [
    "# Tutorial contents\n",
    "\n",
    "Every programming tutorial is like this:\n",
    "![How to draw an owl. Draw two circles. Then draw the rest of the owl.](owlanomics.png)\n",
    "\n",
    "This is no different, it is the nature of the problem. Learning programming is exactly like playing music, the good and the bad.\n",
    "As you start to learn music/code, your music/code will not work at first, then it will sound/run terrible, but you must practice and learn to \"fail upwards\" by learning what not to do by doing it yourself. \n",
    "\n",
    "Eventually you become a maestro, and will be able to improv code that makes the non-programmers stare in amazement. Fair warning, music might help you make more friends, but programming will make computers do your work for you so you have more time for the finer aspects of life.\n",
    "\n",
    "I cannot hope to teach you everything about programming in two-days, so I hope to show you a quick overview, teach you very carefully the hardest part of python (the reference/side-affects/spooky action at a distance). Finally, we'll talk about examples, as you'll probably eventually learn programming from googling your problem and reading other peoples code.\n",
    "\n",
    "Everything in here is code, you can edit these pages, change them, rerun the code. You must do this, break it, then learn how to put it together again.\n",
    "\n",
    "## Drawing two circles\n",
    "* [Installing python](https://colab.research.google.com/github/toastedcrumpets/CCP5_Python_examples/blob/master/00-Installing_python.ipynb)\n",
    "* [Introduction to python](https://colab.research.google.com/github/toastedcrumpets/CCP5_Python_examples/blob/master/01-Introduction.ipynb)\n",
    "* [Variable scope (and calculating prime numbers)](https://colab.research.google.com/github/toastedcrumpets/CCP5_Python_examples/blob/master/02-Variable%20scope%20(calclulating%20prime%20numbers).ipynb)\n",
    "* [Calculating $\\pi$](https://colab.research.google.com/github/toastedcrumpets/CCP5_Python_examples/blob/master/03-Calculating%20pi.ipynb)\n",
    "* [Handling errors (AKA Fantastic Exceptions and where to find them)](https://colab.research.google.com/github/toastedcrumpets/CCP5_Python_examples/blob/master/04-Errors%20(Fantastic%20Exceptions%20and%20where%20to%20find%20them).ipynb)\n",
    "* [List comprehensions, lambdas, and running other programs](https://colab.research.google.com/github/toastedcrumpets/CCP5_Python_examples/blob/master/07-List%20comprehensions%2C%20lambdas%2C%20and%20running%20other%20programs.ipynb)\n",
    "\n",
    "## The rest of python\n",
    "\n",
    "* [Example: Stock/Data analysis using Pandas](https://colab.research.google.com/github/toastedcrumpets/CCP5_Python_examples/blob/master/05-%20Example%2C%20Stock%20analysis%20using%20pandas.ipynb)\n",
    "* [Example: Molecular dynamics in python](https://colab.research.google.com/github/toastedcrumpets/CCP5_Python_examples/blob/master/06-%20Example%2C%20Molecular%20dynamics%20simulations.ipynb)\n",
    "* [Appendix: Snippets of python code (request anything you like!)](https://colab.research.google.com/github/toastedcrumpets/CCP5_Python_examples/blob/master/Appendix-A-Snippets.ipynb)\n",
    "* [Appendix: Monte Carlo calculation of PI with animation](https://colab.research.google.com/github/toastedcrumpets/CCP5_Python_examples/blob/master/Appendix-B-%20Monte%20Carlo%20class%20examples.ipynb)\n",
    "\n",
    "## For more examples, ask me to program something you need!"
   ]
  },
  {
   "cell_type": "code",
   "execution_count": null,
   "metadata": {},
   "outputs": [],
   "source": []
  }
 ],
 "metadata": {
  "colab": {
   "collapsed_sections": [],
   "name": "Table of contents for collab.research.google.com.ipynb",
   "provenance": [],
   "version": "0.3.2"
  },
  "kernelspec": {
   "display_name": "Python 3 (ipykernel)",
   "language": "python",
   "name": "python3"
  },
  "language_info": {
   "codemirror_mode": {
    "name": "ipython",
    "version": 3
   },
   "file_extension": ".py",
   "mimetype": "text/x-python",
   "name": "python",
   "nbconvert_exporter": "python",
   "pygments_lexer": "ipython3",
   "version": "3.8.10"
  }
 },
 "nbformat": 4,
 "nbformat_minor": 1
}
